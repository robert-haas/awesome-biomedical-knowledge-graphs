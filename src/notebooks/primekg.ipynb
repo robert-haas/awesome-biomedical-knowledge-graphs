{
 "cells": [
  {
   "cell_type": "markdown",
   "id": "e6970235-b70f-4d93-9298-76cb1d34160b",
   "metadata": {},
   "source": [
    "# PrimeKG\n",
    "\n",
    "This notebook explores the biomedical knowledge graph provided by the project **Precision Medicine Knowledge Graph (PrimeKG)**: [Publication (2023)](https://doi.org/10.1038/s41597-023-01960-3), [Website](https://zitniklab.hms.harvard.edu/projects/PrimeKG), [Code](https://github.com/mims-harvard/PrimeKG), [Data](https://doi.org/10.7910/DVN/IXA7BM)\n",
    "\n",
    "The source file of this notebook is [primekg.ipynb](https://github.com/robert-haas/awesome-biomedical-knowledge-graphs/blob/main/src/notebooks/primekg.ipynb) and can be found in the repository [awesome-biomedical-knowledge-graphs](https://github.com/robert-haas/awesome-biomedical-knowledge-graphs) that also contains information about similar projects.\n",
    "\n",
    "## Table of contents\n",
    "\n",
    "1. [Setup](#1.-Setup)\n",
    "2. [Data download](#2.-Data-download)\n",
    "3. [Data import](#3.-Data-import)\n",
    "4. [Data inspection](#4.-Data-inspection)\n",
    "5. [Schema discovery](#5.-Schema-discovery)\n",
    "6. [Knowledge graph reconstruction](#6.-Knowledge-graph-reconstruction)\n",
    "7. [Subgraph exploration](#7.-Subgraph-exploration)"
   ]
  },
  {
   "cell_type": "markdown",
   "id": "121fa16a-5c8e-47eb-89a2-68de3d795f33",
   "metadata": {},
   "source": [
    "## 1. Setup\n",
    "\n",
    "This section prepares the environment for the following exploratory data analysis.\n",
    "\n",
    "### a) Import packages\n",
    "\n",
    "From the [Python standard library](https://docs.python.org/3/library/index.html)."
   ]
  },
  {
   "cell_type": "code",
   "execution_count": null,
   "id": "7753c427-678d-437b-9877-f79f2628e830",
   "metadata": {},
   "outputs": [],
   "source": [
    "import math\n",
    "import os"
   ]
  },
  {
   "cell_type": "markdown",
   "id": "83014bfa-7a54-4b04-9541-ad1de6f31fdf",
   "metadata": {},
   "source": [
    "From the [Python Package Index (PyPI)](https://pypi.org)."
   ]
  },
  {
   "cell_type": "code",
   "execution_count": null,
   "id": "2736bf24-1d58-4448-ba4f-211e43583f9a",
   "metadata": {},
   "outputs": [],
   "source": [
    "import dask.dataframe as dd\n",
    "import gravis as gv  # for visualization of the KG schema and subgraphs, developed by the author of this notebook\n",
    "import igraph as ig"
   ]
  },
  {
   "cell_type": "markdown",
   "id": "adf9cd34-45ed-4fe1-b254-9456cfe54b02",
   "metadata": {},
   "source": [
    "From a local Python module named [shared_bmkg.py](https://github.com/robert-haas/awesome-biomedical-knowledge-graphs/blob/main/src/notebooks/shared_bmkg.py). The functions in it are used in several similar notebooks to reduce code repetition and to improve readability."
   ]
  },
  {
   "cell_type": "code",
   "execution_count": null,
   "id": "480d3c54-79e4-4ef8-a352-4dd1812f2559",
   "metadata": {},
   "outputs": [],
   "source": [
    "import shared_bmkg"
   ]
  },
  {
   "cell_type": "markdown",
   "id": "154692d1-dd89-4289-a345-54d5e32f26eb",
   "metadata": {},
   "source": [
    "### b) Create data directories\n",
    "\n",
    "The raw data provided by the project and the transformed data generated throughout this notebook are stored in separate directories. If the notebook is run more than once, the downloaded data is reused instead of fetching it again, but all data transformations are rerun."
   ]
  },
  {
   "cell_type": "code",
   "execution_count": null,
   "id": "5508cc4b-02fd-42a0-97e3-e8e6ccaded3d",
   "metadata": {},
   "outputs": [],
   "source": [
    "project_name = \"primekg\"\n",
    "download_dir = os.path.join(project_name, \"downloads\")\n",
    "results_dir = os.path.join(project_name, \"results\")\n",
    "\n",
    "shared_bmkg.create_dir(download_dir)\n",
    "shared_bmkg.create_dir(results_dir)"
   ]
  },
  {
   "cell_type": "markdown",
   "id": "ef1bd25a-1ec1-439b-84b7-a1fc2335cee3",
   "metadata": {},
   "source": [
    "## 2. Data download\n",
    "\n",
    "This section fetches the data published by the project on [Harvard Dataverse](https://doi.org/10.7910/DVN/IXA7BM).\n",
    " The latest available version at the time of creating this notebook was used: `Version 2.1 (2022-05-02)`.\n",
    "\n",
    "### All files provided by the project\n",
    "\n",
    "- `kg.csv`: Nodes, edges, and some annotations.\n",
    "- `disease_features.tab`: Further annotations for disease nodes.\n",
    "- `drug_features.tab`: Further annotations for drug nodes.\n",
    "- `nodes.tab`, `edges.csv`: Nodes, edges and some annotations in a different format.\n",
    "- `kg_raw.csv`, `kg_giant.csv`, `kg_grouped.csv`, `kg_grouped_diseases.tab`, `kg_grouped_diseases_bert_map.tab`: Intermediate forms of the knowledge graph during its construction.\n",
    "- `README.txt`: Description of all files.\n",
    "\n",
    "### Files needed to create the knowledge graph\n",
    "\n",
    "- `kg.csv` together with `disease_features.tab` and `drug_features.tab` contain all information required for reconstructing the knowledge graph.\n",
    "- Alternatively, `nodes.tab` and `edges.csv` could be used instead of `kg.csv`."
   ]
  },
  {
   "cell_type": "code",
   "execution_count": null,
   "id": "9aa65396-8ec9-4e6e-8976-e705ae2d59c9",
   "metadata": {},
   "outputs": [],
   "source": [
    "download_specification = [\n",
    "    (\"kg.csv\", \"https://dataverse.harvard.edu/api/access/datafile/6180620\", \"aac8191d4fbc5bf09cdf8c3c78b4e75f\"),\n",
    "    (\"disease_features.tab\", \"https://dataverse.harvard.edu/api/access/datafile/6180618\", \"f8d120497eb69848dc7d971ae30e3cd6\"),\n",
    "    (\"drug_features.tab\", \"https://dataverse.harvard.edu/api/access/datafile/6180619\", \"e8c67d20e815b0d26d9d91be79adfff8\"),\n",
    "\n",
    "    (\"nodes.tab\", \"https://dataverse.harvard.edu/api/access/datafile/6180617\", \"4924de04fb3deefa1e0a8dada424538e\"),  # MD5 differs on website\n",
    "    (\"edges.csv\", \"https://dataverse.harvard.edu/api/access/datafile/6180616\", \"5d4d211a22e88544b78fde2735e797bc\"),\n",
    "\n",
    "    (\"README.txt\", \"https://dataverse.harvard.edu/api/access/datafile/6191270\", \"608e37d4808bb97643186a1b6dc8f307\"),\n",
    "]\n",
    "\n",
    "for filename, url, md5 in download_specification:\n",
    "    filepath = os.path.join(download_dir, filename)\n",
    "    shared_bmkg.fetch_file(url, filepath)\n",
    "    shared_bmkg.validate_file(filepath, md5)\n",
    "    print()"
   ]
  },
  {
   "cell_type": "markdown",
   "id": "87559690-fc84-4f16-8153-bcf33e59114d",
   "metadata": {},
   "source": [
    "## 3. Data import\n",
    "\n",
    "This section loads the raw files into Python data structures for the following inspection and conversion."
   ]
  },
  {
   "cell_type": "code",
   "execution_count": null,
   "id": "d68e8def-acf8-45f2-82b2-d8d5d4938fd2",
   "metadata": {},
   "outputs": [],
   "source": [
    "%%time\n",
    "\n",
    "df_kg = shared_bmkg.read_csv_file(os.path.join(download_dir, \"kg.csv\"))\n",
    "df_drug_node_annotations = shared_bmkg.read_tsv_file(os.path.join(download_dir, \"drug_features.tab\"))\n",
    "df_disease_node_annotations = shared_bmkg.read_tsv_file(os.path.join(download_dir, \"disease_features.tab\"))\n",
    "\n",
    "df_nodes = shared_bmkg.read_tsv_file(os.path.join(download_dir, \"nodes.tab\"))\n",
    "df_edges = shared_bmkg.read_csv_file(os.path.join(download_dir, \"edges.csv\"))"
   ]
  },
  {
   "cell_type": "markdown",
   "id": "3d7db746-5557-4fa6-8e98-6227b08df909",
   "metadata": {},
   "source": [
    "## 4. Data inspection\n",
    "\n",
    "This section attempts to reproduce some published numbers by inspecting the raw data and then prints a few exemplary records.\n",
    "\n",
    "The [publication](https://doi.org/10.1038/s41597-023-01960-3) mentions following statistics about the knowledge graph contents:\n",
    "- 129,375 nodes having 10 different node types\n",
    "- 4,050,249 edges having 30 different edge types\n",
    "\n",
    "### a) Number of nodes and edges"
   ]
  },
  {
   "cell_type": "code",
   "execution_count": null,
   "id": "2702777e-d354-4c98-81ee-18b5f8c29a64",
   "metadata": {},
   "outputs": [],
   "source": [
    "unique_nodes = list(set(df_kg['x_index'].unique().tolist() + df_kg['y_index'].unique().tolist()))\n",
    "num_nodes = len(unique_nodes)\n",
    "num_edges = len(df_kg)\n",
    "\n",
    "print(f\"{num_nodes:,} nodes\")\n",
    "print(f\"{num_edges:,} edges\")"
   ]
  },
  {
   "cell_type": "markdown",
   "id": "e2909826-6904-4264-88f9-d55e3d664f02",
   "metadata": {},
   "source": [
    "Interpretation:\n",
    "- Inspecting the raw data resulted in **129,375 nodes**, which matches the number mentioned in the publication.\n",
    "- Inspecting the raw data resulted in **8,100,498 edges**, while the publication mentions **4,050,249 edges**, which is precisely half of it.\n",
    "  - There is a seeming contradiction about the directionality of edges in the publication: The summary mentions \"30 types of undirected edges\", but the building description includes \"adding reverse edges\", so it is not clear whether edges are undirected or directed. The numbers suggest that originally there are 4,050,249 undirected edges, but the final knowledge graph contains 8,100,498 directed edges, i.e. two directed edges for each undirected one. Why this redundant way of storing the information was chosen remains unclear."
   ]
  },
  {
   "cell_type": "markdown",
   "id": "e3705e13-78f5-4a0b-9122-6c5eb92ba3f7",
   "metadata": {},
   "source": [
    "### b) Types of nodes and edges"
   ]
  },
  {
   "cell_type": "code",
   "execution_count": null,
   "id": "cc423e23-9bce-43b6-9cff-90211f2f60b2",
   "metadata": {},
   "outputs": [],
   "source": [
    "%%time\n",
    "\n",
    "# Ensure each node is considered exactly once\n",
    "node_to_type = {}\n",
    "for row in df_kg.itertuples():\n",
    "    node_to_type[row.x_index] = row.x_type\n",
    "    node_to_type[row.y_index] = row.y_type\n",
    "\n",
    "# Count types of the unique nodes\n",
    "nt_counts = {}\n",
    "for nt in node_to_type.values():\n",
    "    if nt not in nt_counts:\n",
    "        nt_counts[nt] = 0\n",
    "    nt_counts[nt] += 1\n",
    "\n",
    "print(len(nt_counts), \"node types, sorted by their frequency of occurrence:\")\n",
    "for type, cnt in sorted(nt_counts.items(), key=lambda item: -item[1]):\n",
    "    print(f\"- {type}: {cnt}\")\n",
    "print()"
   ]
  },
  {
   "cell_type": "code",
   "execution_count": null,
   "id": "c6a2c9eb-3160-41ff-8f73-f0dbf9699f94",
   "metadata": {},
   "outputs": [],
   "source": [
    "%%time\n",
    "\n",
    "et_column = \"relation\"\n",
    "et_counts = df_kg.groupby(et_column).size()\n",
    "et_counts = dict(et_counts.sort_values(ascending=False))\n",
    "\n",
    "print(len(et_counts), \"edge types, sorted by their frequency:\")\n",
    "for key, val in et_counts.items():\n",
    "    print(f\"- {key}: {val}\")\n",
    "print()"
   ]
  },
  {
   "cell_type": "code",
   "execution_count": null,
   "id": "b4924fea-48b9-4a49-9037-1e231f4cc408",
   "metadata": {},
   "outputs": [],
   "source": [
    "# Correctness checks\n",
    "\n",
    "# 1) Do the counts of different node types add up to the total number of nodes?\n",
    "sum_node_types = sum(nt_counts.values())\n",
    "assert sum_node_types == num_nodes, f\"Node counts differ: {sum_node_types} != {num_nodes}\"\n",
    "print(f\"{sum_node_types:,} = {num_nodes:,} nodes\")\n",
    "\n",
    "# 2) Do the counts of different edge types add up to the total number of edges?\n",
    "sum_edge_types = sum(et_counts.values())\n",
    "assert sum_edge_types == num_edges, f\"Edge counts differ: {sum_edge_types} != {num_edges}\"\n",
    "print(f\"{sum_edge_types:,} = {num_edges:,} edges\")"
   ]
  },
  {
   "cell_type": "markdown",
   "id": "a7b3b887-17dc-44a4-89cf-8e36cb03bc91",
   "metadata": {},
   "source": [
    "Interpretation:\n",
    "- Inspecting the raw data resulted in **10 node types**, which matches the number mentioned in the publication.\n",
    "- Inspecting the raw data resulted in **30 edge types**, which matches the number mentioned in the publication.\n",
    "- Technical remarks about identifiers:\n",
    "  - Node identifier: The file `README.txt` mentions that and `x_index` and `y_index` are the node identifiers, i.e. not `x_id` or `x_name`.\n",
    "  - Edge identifier: `df_kg[[\"x_index\", \"relation\", \"y_index\"]]` contains some duplicate rows, while `df_kg[[\"x_index\", \"display_relation\", \"y_index\"]]` does not. However, `df_kg[\"display_relation\"]` only contains 18 categories, while `df_kg[\"relation\"]` has the 30 categories that are expected. Therefore in this notebook `\"relation\"` is considered to be the edge identifier."
   ]
  },
  {
   "cell_type": "markdown",
   "id": "a0b82303-fa37-46cc-9677-64611d7cb600",
   "metadata": {},
   "source": [
    "### c) Example entries\n",
    "\n",
    "This section prints some example entries of the raw data. It gives an impression of the format chosen by the authors, which differs greatly between projects due to a lack of a broadly accepted standard for biomedical knowledge graphs."
   ]
  },
  {
   "cell_type": "code",
   "execution_count": null,
   "id": "6d3bc528-27d0-4abb-8beb-7797883953fc",
   "metadata": {},
   "outputs": [],
   "source": [
    "def report_first_n_items(data, n):\n",
    "    return data.head(n)"
   ]
  },
  {
   "cell_type": "code",
   "execution_count": null,
   "id": "c90f198d-be3a-4e11-9a32-1650186007a8",
   "metadata": {},
   "outputs": [],
   "source": [
    "def report_last_n_items(data, n):\n",
    "    return data.tail(n)"
   ]
  },
  {
   "cell_type": "markdown",
   "id": "51d57485-25ea-496a-a660-5107876d2932",
   "metadata": {},
   "source": [
    "#### Nodes, edges and some annotations"
   ]
  },
  {
   "cell_type": "code",
   "execution_count": null,
   "id": "beb50843-b179-4253-955f-0e31fc7baf43",
   "metadata": {},
   "outputs": [],
   "source": [
    "report_first_n_items(df_kg, 2)"
   ]
  },
  {
   "cell_type": "code",
   "execution_count": null,
   "id": "7a8803a4-1269-44f1-b99c-8e3651838893",
   "metadata": {},
   "outputs": [],
   "source": [
    "report_last_n_items(df_kg, 2)"
   ]
  },
  {
   "cell_type": "markdown",
   "id": "14266c74-054e-443f-ace2-ff1f02c1ce20",
   "metadata": {},
   "source": [
    "#### Further node annotations"
   ]
  },
  {
   "cell_type": "code",
   "execution_count": null,
   "id": "fed44a0b-69b4-4ba5-b29f-f083694989bd",
   "metadata": {},
   "outputs": [],
   "source": [
    "report_first_n_items(df_drug_node_annotations, 2)"
   ]
  },
  {
   "cell_type": "code",
   "execution_count": null,
   "id": "03847303-96fe-4bbb-91d9-050f0251ea17",
   "metadata": {},
   "outputs": [],
   "source": [
    "report_first_n_items(df_disease_node_annotations, 2)"
   ]
  },
  {
   "cell_type": "markdown",
   "id": "cc708fbc-0618-416e-a183-28afd51f95a8",
   "metadata": {},
   "source": [
    "#### Nodes, edges and annotations in a different format"
   ]
  },
  {
   "cell_type": "code",
   "execution_count": null,
   "id": "48e7f4bf-c406-4fd2-99e3-3c80d27f8c53",
   "metadata": {},
   "outputs": [],
   "source": [
    "df_nodes"
   ]
  },
  {
   "cell_type": "code",
   "execution_count": null,
   "id": "54cdccf6-f1a7-442a-8024-be4b20d8df26",
   "metadata": {},
   "outputs": [],
   "source": [
    "df_edges"
   ]
  },
  {
   "cell_type": "markdown",
   "id": "a6c3f9e7-f72d-49c3-840e-abd1ad104fb2",
   "metadata": {},
   "source": [
    "## 5. Schema discovery\n",
    "\n",
    "This section analyzes the structure of the knowledge graph by determining which types of nodes are connected by which types of edges. To construct this overview, it is necessary to iterate over the entire data once. The result is a condensed representation of all entities and relations, which is known as [data model](https://neo4j.com/docs/getting-started/data-modeling/guide-data-modeling/#whiteboard-friendly) or [schema](https://memgraph.com/docs/fundamentals/graph-modeling#designing-a-graph-database-schema) in the context of graph databases."
   ]
  },
  {
   "cell_type": "code",
   "execution_count": null,
   "id": "a1ad2326-0193-4d35-967d-ffd0caafb2a7",
   "metadata": {},
   "outputs": [],
   "source": [
    "node_type_to_color = {\n",
    "    \"drug\": \"green\",\n",
    "\n",
    "    \"gene/protein\": \"blue\",\n",
    "\n",
    "    \"disease\": \"red\",\n",
    "    \"pathway\": \"red\",\n",
    "    \"biological_process\": \"red\",\n",
    "}"
   ]
  },
  {
   "cell_type": "code",
   "execution_count": null,
   "id": "ec33153f-74bb-4f9c-8978-7df5269d99be",
   "metadata": {},
   "outputs": [],
   "source": [
    "%%time\n",
    "\n",
    "unique_triples = set()\n",
    "for row in df_kg.itertuples():\n",
    "    s = row.x_type\n",
    "    p = row.relation\n",
    "    o = row.y_type\n",
    "    triple = (s, p, o)\n",
    "    unique_triples.add(triple)"
   ]
  },
  {
   "cell_type": "code",
   "execution_count": null,
   "id": "92351250-9b4e-47bf-bc8a-2219fce1bb31",
   "metadata": {},
   "outputs": [],
   "source": [
    "gs = ig.Graph(directed=True)\n",
    "unique_nodes = set()\n",
    "for s, p, o in unique_triples:\n",
    "    for node in (s, o):\n",
    "        if node not in unique_nodes:\n",
    "            unique_nodes.add(node)\n",
    "            \n",
    "            node_size = int(nt_counts[node])\n",
    "            node_color = node_type_to_color.get(node, '')\n",
    "            node_hover = f\"{node}\\n\\n{nt_counts[node]} nodes of this type are contained in the knowledge graph.\"\n",
    "            gs.add_vertex(node, size=node_size, color=node_color, label_color=node_color, hover=node_hover)\n",
    "\n",
    "    edge_size = int(et_counts[p])\n",
    "    edge_color = node_type_to_color.get(s, '')\n",
    "    edge_hover = f\"{p}\\n\\n{et_counts[p]} edges of this type are contained in the knowledge graph.\"\n",
    "    gs.add_edge(s, o, size=edge_size, color=edge_color, hover=edge_hover, label=p, label_color=\"gray\", label_size=5)\n",
    "\n",
    "gs.vcount(), gs.ecount()"
   ]
  },
  {
   "cell_type": "code",
   "execution_count": null,
   "id": "caa2c6be-faf1-4756-9dd1-870d3e5b9f2b",
   "metadata": {},
   "outputs": [],
   "source": [
    "fig = gv.d3(\n",
    "    gs,\n",
    "    show_node_label=True,\n",
    "    node_label_data_source=\"name\",\n",
    "\n",
    "    show_edge_label=True,\n",
    "    edge_label_data_source=\"label\",\n",
    "    edge_curvature=0.2,\n",
    "\n",
    "    use_node_size_normalization=True,\n",
    "    node_size_normalization_min=10,\n",
    "    node_size_normalization_max=50,\n",
    "    node_drag_fix=True,\n",
    "    node_hover_neighborhood=True,\n",
    "    \n",
    "    use_edge_size_normalization=True,\n",
    "    edge_size_normalization_max=3,\n",
    "\n",
    "    many_body_force_strength=-3000,\n",
    "    zoom_factor=0.8,\n",
    ")\n",
    "fig"
   ]
  },
  {
   "cell_type": "code",
   "execution_count": null,
   "id": "601a6b26-d303-41c5-84c0-07edb5c11339",
   "metadata": {},
   "outputs": [],
   "source": [
    "# Export the schema visualization\n",
    "schema_filepath = os.path.join(results_dir, f\"{project_name}_schema.html\")\n",
    "fig.export_html(schema_filepath, overwrite=True)"
   ]
  },
  {
   "cell_type": "markdown",
   "id": "1199d45d-8ee2-4037-951e-6b495705e574",
   "metadata": {},
   "source": [
    "Interpretation:\n",
    "- Each node in the schema corresponds to one of the 10 node types in the data.\n",
    "  - *Node size* represents the number of instances, i.e. how often that node type is present in the knowledge graph. The exact number can also be seen when hovering over a node.\n",
    "  - *Node color* represents particular node types. The coloring scheme is based on a deliberately simple RGB palette with the same meaning across multiple notebooks to enable some visual comparison. The idea behind it is to highlight an interplay of certain entities, namely that drugs (or small molecules in general) can bind to proteins (or gene products in general) and thereby alter diseases (or involved pathways).\n",
    "    - *green* = drugs & other small molecules (e.g. toxins)\n",
    "    - *blue* = genes & gene products (e.g. proteins or RNAs)\n",
    "    - *red* = diseases & related concepts (e.g. pathways)\n",
    "    - *black* = all other types of entities\n",
    "- Each edge in the schema stands for one of the 30 edge types in the data. It is possible that the same edge type appears between different nodes.\n",
    "  - *Edge size* represents the number of instances, i.e. how often that edge type is present in the knowledge graph.\n",
    "  - *Edge color* is identical to the color of the source node, again to highlight the interplay between drugs, targets and diseases."
   ]
  },
  {
   "cell_type": "markdown",
   "id": "f9e5d00c-923c-4def-b30c-23196269fb65",
   "metadata": {},
   "source": [
    "## 6. Knowledge graph reconstruction\n",
    "\n",
    "This section first converts the raw data to an intermediate format used in several notebooks, and then reconstructs the knowledge graph from the standardized data with shared code.\n",
    "- The intermediate form of the data is created as two simple Python lists, one for nodes and the other for edges, which can be exported to two CSV files.\n",
    "- The knowledge graph is built as a graph object from the Python package [igraph](https://igraph.org/python), which can be exported to a [GraphML](https://en.wikipedia.org/wiki/GraphML) file.\n",
    "\n",
    "### a) Convert the data into a standardized format\n",
    "\n",
    "Transform the raw data to an standardized format that is compatible with most biomedical knowledge graphs in order to enable shared downstream processing:\n",
    "- Each node is represented by three items: `id (str), type (str), properties (dict)`\n",
    "- Each edge is represented by four items: `source_id (str), target_id (str), type(str), properties (dict)`\n",
    "\n",
    "This format was initially inspired by a straightforward way in which the content of a Neo4j graph database can be exported to two CSV files, one for all nodes and the other for all edges. This is an effect of the [property graph model](https://neo4j.com/docs/getting-started/appendix/graphdb-concepts/) used in Neo4j and many other graph databases, which also appears to be general enough to fully capture the majority of biomedical knowledge graphs described in scientific literature, despite the large variety of formats they are shared in.\n",
    "\n",
    "A second motivation was that each line represents a single node or edge, and that no entry is connected to any sections at other locations, such as property descriptions at the beginning of a GraphML file. This structural simplicity makes it very easy to load just a subset of nodes and edges by picking a subset of lines, or to skip the loading of properties if they not required for a task simply by ignoring a single column.\n",
    "\n",
    "Finally, this format also allows to load the data directly into popular SQL databases like [SQLite](https://www.sqlite.org), [MySQL](https://www.mysql.com) or [PostgreSQL](https://www.postgresql.org/) with built-in CSV functions ([CSV in SQLite](https://www.sqlite.org/draft/cli.html#importing_files_as_csv_or_other_formats), [CSV in MySQL](https://dev.mysql.com/doc/refman/en/loading-tables.html), [CSV in PostgreSQL](https://www.postgresql.org/docs/current/sql-copy.html)). Further, the JSON string in the property column can be accessed directly by built-in JSON functions ([JSON in SQLite](https://www.sqlite.org/json1.html), [JSON in MySQL](https://dev.mysql.com/doc/refman/en/json-function-reference.html), [JSON in PostgreSQL](https://www.postgresql.org/docs/current/functions-json.html)), which enables sophisticated queries that access or modify specific properties within the JSON data.\n",
    "\n",
    "#### Prepare node annotations"
   ]
  },
  {
   "cell_type": "code",
   "execution_count": null,
   "id": "884fd582-7c6e-4980-beeb-49817e8a00a8",
   "metadata": {},
   "outputs": [],
   "source": [
    "def is_nan(val):\n",
    "    if isinstance(val, float):\n",
    "        return math.isnan(val)\n",
    "    return False\n",
    "    \n",
    "dataframes = [\n",
    "    df_drug_node_annotations,\n",
    "    df_disease_node_annotations,\n",
    "]\n",
    "\n",
    "node_id_to_annotation_map = {}\n",
    "for df in dataframes:\n",
    "    data_columns = list(df.columns)[1:]\n",
    "    for row in df.itertuples():\n",
    "        # indexing: 0=id (ignored), 1=name, 2-n=annotations\n",
    "        node_id = row[1]\n",
    "        annotation = {col: row[i] for i, col in enumerate(data_columns, 2)}\n",
    "        annotation = {k:v for k, v in annotation.items()\n",
    "                      if v is not None\n",
    "                      and v != \"\"\n",
    "                      and not is_nan(v)}\n",
    "        node_id_to_annotation_map[node_id] = annotation"
   ]
  },
  {
   "cell_type": "markdown",
   "id": "a82dad01-318a-4d70-971b-1ece5384576b",
   "metadata": {},
   "source": [
    "#### Nodes"
   ]
  },
  {
   "cell_type": "code",
   "execution_count": null,
   "id": "4486af2a-49d4-4f89-b7b5-cd36a9844ac6",
   "metadata": {},
   "outputs": [],
   "source": [
    "%%time\n",
    "\n",
    "nodes = []\n",
    "seen_node_ids = set()\n",
    "# x\n",
    "for row in df_kg.itertuples():\n",
    "    node_id = row.x_index\n",
    "    if node_id not in seen_node_ids:\n",
    "        seen_node_ids.add(node_id)\n",
    "        node_type = row.x_type\n",
    "        node_properties = {\"identifier\": row.x_id, \"label\": row.x_name, \"source\": row.x_source}\n",
    "        if node_id in node_id_to_annotation_map:\n",
    "            node_properties.update(node_id_to_annotation_map[node_id])\n",
    "        node = (node_id, node_type, node_properties)\n",
    "        nodes.append(node)\n",
    "# y\n",
    "for row in df_kg.itertuples():\n",
    "    node_id = row.y_index\n",
    "    if node_id not in seen_node_ids:\n",
    "        seen_node_ids.add(node_id)\n",
    "        node_type = row.y_type\n",
    "        node_properties = {\"identifier\": row.y_id, \"label\": row.y_name, \"source\": row.y_source}\n",
    "        if node_id in node_id_to_annotation_map:\n",
    "            node_properties.update(node_id_to_annotation_map[node_id])\n",
    "        node = (node_id, node_type, node_properties)\n",
    "        nodes.append(node)"
   ]
  },
  {
   "cell_type": "markdown",
   "id": "8e63102b-750b-4816-8cd1-f6cc84eb1cc6",
   "metadata": {},
   "source": [
    "#### Edges\n",
    "\n",
    "Note: As mentioned before, there are redundant edges in the raw data. These are not skipped here, however, because while the same pair of nodes can be connected by the same type of edge more than once, such edges at least sometimes differ in their annotations (e.g. in property \"display_relation\"), so there is actually some difference between them."
   ]
  },
  {
   "cell_type": "code",
   "execution_count": null,
   "id": "fae33981-1cc0-4a4d-b256-d330f57c1584",
   "metadata": {},
   "outputs": [],
   "source": [
    "%%time\n",
    "\n",
    "edges = []\n",
    "for row in df_kg.itertuples():\n",
    "    source_id = row.x_index\n",
    "    target_id = row.y_index\n",
    "    edge_type = row.relation\n",
    "    edge_properties = {\"display_relation\": row.display_relation}\n",
    "    edge = (source_id, target_id, edge_type, edge_properties)\n",
    "    edges.append(edge)"
   ]
  },
  {
   "cell_type": "markdown",
   "id": "5892187f-67ea-48b6-bde3-c5997058aa82",
   "metadata": {},
   "source": [
    "### b) Export the standardized data to two CSV files\n",
    "\n",
    "Both the `id` and `type` items are simple strings, while the `properties` item is collection of key-value pairs represented by a Python dictionary that can be converted to a single JSON string, which the export function does internally. This means each node is fully represented by three strings, and each edge by four strings due to having a source id and target id."
   ]
  },
  {
   "cell_type": "code",
   "execution_count": null,
   "id": "07c6e44d-291f-4955-b9ac-6a116f3c8e5c",
   "metadata": {},
   "outputs": [],
   "source": [
    "nodes_csv_filepath = shared_bmkg.export_nodes_as_csv(nodes, results_dir, project_name)"
   ]
  },
  {
   "cell_type": "code",
   "execution_count": null,
   "id": "19d79867-bc1d-4c8f-a4a6-b1712adb3ff9",
   "metadata": {},
   "outputs": [],
   "source": [
    "edges_csv_filepath = shared_bmkg.export_edges_as_csv(edges, results_dir, project_name)"
   ]
  },
  {
   "cell_type": "markdown",
   "id": "a8825f40-ad9d-444b-8cb3-7894c81271a1",
   "metadata": {},
   "source": [
    "### c) Use the standardized data to build a graph\n",
    "\n",
    "Reconstruct the knowledge graph in form of a [Graph object](https://igraph.org/python/doc/api/igraph.Graph.html) from the package [igraph](https://igraph.org/python). This kind of graph object allows to have directed multi-edges, i.e. an edge has a source and a target node, and two nodes can be connected by more than one edge. It also allows to have node and edge properties. These features are necessary and sufficient to represent almost any biomedical knowledge graph found in academic literature."
   ]
  },
  {
   "cell_type": "code",
   "execution_count": null,
   "id": "e3dbe64b-d9e1-4e0e-ac5a-02283e5841e3",
   "metadata": {},
   "outputs": [],
   "source": [
    "%%time\n",
    "\n",
    "g = shared_bmkg.create_graph(nodes, edges)"
   ]
  },
  {
   "cell_type": "code",
   "execution_count": null,
   "id": "5be17e0f-e6e0-4fd5-8515-0d6379fb4d38",
   "metadata": {},
   "outputs": [],
   "source": [
    "shared_bmkg.report_graph_stats(g)"
   ]
  },
  {
   "cell_type": "code",
   "execution_count": null,
   "id": "a135eb5d-2776-440c-825c-a93658225f03",
   "metadata": {},
   "outputs": [],
   "source": [
    "# Correctness checks\n",
    "\n",
    "# 1) Does the reconstructed graph contain the same number of nodes as the raw data?\n",
    "num_nodes_in_graph = g.vcount()\n",
    "assert num_nodes_in_graph == num_nodes, f\"Node counts differ: {num_nodes_in_graph} != {num_nodes}\"\n",
    "print(f\"{num_nodes_in_graph:,} = {num_nodes:,}\")\n",
    "\n",
    "# 2) Does the reconstructed graph contain the same number of (unique) edges as the raw data?\n",
    "num_edges_in_graph = g.ecount()\n",
    "assert num_edges_in_graph == num_edges, f\"Edge counts differ: {num_edges_in_graph} != {num_unique_triples}\"\n",
    "print(f\"{num_edges_in_graph:,} = {num_edges:,}\")"
   ]
  },
  {
   "cell_type": "markdown",
   "id": "2332eb12-372b-4abd-9ddd-e67d31eac0d9",
   "metadata": {},
   "source": [
    "### d) Export the graph to a GraphML file\n",
    "\n",
    "Export the graph with all nodes, edges and properties as a single [GraphML](https://en.wikipedia.org/wiki/GraphML) file."
   ]
  },
  {
   "cell_type": "code",
   "execution_count": null,
   "id": "a8f21de1-9a69-4c72-a85f-c36d89762cdd",
   "metadata": {},
   "outputs": [],
   "source": [
    "%%time\n",
    "\n",
    "g_graphml_filepath = shared_bmkg.export_graph_as_graphml(g, results_dir, project_name)"
   ]
  },
  {
   "cell_type": "markdown",
   "id": "320e1741-8ece-4226-b9a1-0d592517bc0b",
   "metadata": {},
   "source": [
    "## 7. Subgraph exploration\n",
    "\n",
    "This section explores small subgraphs of the knowledge graph in two ways: first by inspecting the direct neighborhood of a selected node, and second by finding shortest paths between two chosen nodes.\n",
    "\n",
    "As a simple case study, the goal is to identify some nodes in the knowledge graph that are associated with the success story of the drug Imatinib, which was one of the first [targeted therapies](https://en.wikipedia.org/wiki/Targeted_therapy) against cancer. Detailed background information can for example be found in an article by the [National Cancer Institute](https://www.cancer.gov/research/progress/discovery/gleevec) and in a [talk by Brian Druker](https://www.ibiology.org/human-disease/imatinib-paradigm-targeted-cancer-therapies) who played a major role in the development of this paradigm-changing drug. To give a simplified summary, following biological entities and relationships are involved:\n",
    "\n",
    "- Mutation: In a bone marrow stem cell, a translocation event between chromosome 9 and 22 leads to what has been called the [Philadelphia chromosome](https://en.wikipedia.org/wiki/Philadelphia_chromosome), which can be seen under a microscope and got named after the city it originally got discovered in.\n",
    "- Gene: It turned out that this particular rearrangement of DNA fuses the [BCR](https://en.wikipedia.org/wiki/BCR_(gene)) gene on chromosome 22 to the [ABL1](https://en.wikipedia.org/wiki/ABL_(gene)) gene on chromosome 9, resulting in a new fusion gene known as BCR-ABL1.\n",
    "- Disease: BCR-ABL1 acts as an oncogene, because it expresses a protein that is a defective [tyrosine kinase](https://en.wikipedia.org/wiki/Tyrosine_kinase) in a permanent \"on\" state, which leads to uncontrolled growth of certain white blood cells and their precursors, thereby driving the disease [Chronic Myelogenous Leukemia (CML)](https://en.wikipedia.org/wiki/Chronic_myelogenous_leukemia).\n",
    "- Drug: [Imatinib (Gleevec)](https://en.wikipedia.org/wiki/Imatinib) was the first demonstration that a potent and selective [Bcr-Abl tyrosine-kinase inhibitor (TKI)](https://en.wikipedia.org/wiki/Bcr-Abl_tyrosine-kinase_inhibitor) is possible and that such a targeted inhibition of an oncoprotein halts the uncontrolled growth of leukemia cells with BCR-ABL1, while having significantly less effect on other cells in the body compared to conventional chemotherapies used in cancer. This revolutionized the treatment of CML and drastically improved the five-year survival rate of patients from less than 20% to over 90%, as well as their quality of life.\n",
    "\n",
    "In reality the story is a bit more complex, for example because there are other genes involved in disease progression, there are many closely related forms of leukemia, BCR-ABL1 also plays a role in other forms of cancer, there are several drugs available as treatment options today, all of them bind to more than one target and with different affinities, and their individual binding profiles are relevant to their particular therapeutic effects. Inspecting the knowledge graph will focus on highlighting some entities of the simplified story, but the surrounding elements will also indicate some of the complexity encountered in reality. Some simple forms of reasoning on the knowledge graph will demonstrate its potential for discovering new patterns and hypotheses.\n",
    "\n",
    "### a) Search for interesting nodes"
   ]
  },
  {
   "cell_type": "code",
   "execution_count": null,
   "id": "e170fab6-7458-4407-98ac-6d4793c58e11",
   "metadata": {},
   "outputs": [],
   "source": [
    "# Drug: Imatinib\n",
    "shared_bmkg.list_nodes_matching_substring(g, \"imatinib\", \"label\")"
   ]
  },
  {
   "cell_type": "code",
   "execution_count": null,
   "id": "0c10c46b-d5cf-4eed-8a5b-e9ee930addc8",
   "metadata": {},
   "outputs": [],
   "source": [
    "# Gene: ABL1\n",
    "shared_bmkg.list_nodes_matching_substring(g, \"abl1\", \"label\")"
   ]
  },
  {
   "cell_type": "code",
   "execution_count": null,
   "id": "b9883ace-49a5-43a0-aff8-d5fccbfdb4e2",
   "metadata": {},
   "outputs": [],
   "source": [
    "# Disease: Myeloid Leukemia - to find Chronic Myeloid Leukemia (CML)\n",
    "shared_bmkg.list_nodes_matching_substring(g, \"myeloid leukemia\", \"label\")"
   ]
  },
  {
   "cell_type": "markdown",
   "id": "4b81780f-8ee9-42cf-858b-d3913030dc6c",
   "metadata": {},
   "source": [
    "### b) Explore the neighborhood of a chosen node"
   ]
  },
  {
   "cell_type": "code",
   "execution_count": null,
   "id": "5c6cbf2f-6743-4514-bcaf-9c83e86bf7a8",
   "metadata": {},
   "outputs": [],
   "source": [
    "# Neighborhood of drug Imatinib\n",
    "source = 14207\n",
    "subgraph = shared_bmkg.get_egocentric_subgraph(g, source)\n",
    "\n",
    "# Export\n",
    "filename = f\"{project_name}_neighbors_imatinib\"\n",
    "shared_bmkg.export_graph_as_graphml(subgraph, results_dir, filename)\n",
    "shared_bmkg.export_nodes_as_csv(nodes, results_dir, filename, subgraph)\n",
    "shared_bmkg.export_edges_as_csv(edges, results_dir, filename, subgraph)\n",
    "\n",
    "# Report\n",
    "shared_bmkg.report_graph_stats(subgraph)"
   ]
  },
  {
   "cell_type": "markdown",
   "id": "a8d24ac7-88db-43aa-966f-6fdfbd1ed2a4",
   "metadata": {},
   "source": [
    "Interpretation:\n",
    "- PrimeKG contains too many nodes connected to the drug Imatinib for plotting it and performing a visual analysis."
   ]
  },
  {
   "cell_type": "code",
   "execution_count": null,
   "id": "3b4d8440-f302-4bf0-9e59-ac8404f46d11",
   "metadata": {},
   "outputs": [],
   "source": [
    "# Neighborhood of gene ABL1\n",
    "source = 601\n",
    "subgraph = shared_bmkg.get_egocentric_subgraph(g, source)\n",
    "\n",
    "# Export\n",
    "filename = f\"{project_name}_neighbors_abl1\"\n",
    "shared_bmkg.export_graph_as_graphml(subgraph, results_dir, filename)\n",
    "shared_bmkg.export_nodes_as_csv(nodes, results_dir, filename, subgraph)\n",
    "shared_bmkg.export_edges_as_csv(edges, results_dir, filename, subgraph)\n",
    "\n",
    "# Report\n",
    "shared_bmkg.report_graph_stats(subgraph)"
   ]
  },
  {
   "cell_type": "markdown",
   "id": "b75df1a6-6b3c-4cdb-87c5-1dbe2c442db2",
   "metadata": {},
   "source": [
    "Interpretation:\n",
    "- PrimeKG contains too many nodes connected to the gene ABL1 for plotting it and performing a visual analysis."
   ]
  },
  {
   "cell_type": "code",
   "execution_count": null,
   "id": "3f3e36c9-a92f-4159-ba3d-3d853f5afa5b",
   "metadata": {},
   "outputs": [],
   "source": [
    "# Neighborhood of disease CML\n",
    "source = 30039\n",
    "subgraph = shared_bmkg.get_egocentric_subgraph(g, source)\n",
    "\n",
    "# Export\n",
    "filename = f\"{project_name}_neighbors_cml\"\n",
    "shared_bmkg.export_graph_as_graphml(subgraph, results_dir, filename)\n",
    "shared_bmkg.export_nodes_as_csv(nodes, results_dir, filename, subgraph)\n",
    "shared_bmkg.export_edges_as_csv(edges, results_dir, filename, subgraph)\n",
    "\n",
    "# Report\n",
    "shared_bmkg.report_graph_stats(subgraph)\n",
    "shared_bmkg.visualize_graph(subgraph, node_type_to_color, source)"
   ]
  },
  {
   "cell_type": "markdown",
   "id": "14d07435-6a54-4547-a7a0-1f8782897b35",
   "metadata": {},
   "source": [
    "Interpretation:\n",
    "- Disease-Drug relations: The disease CML (red node with label `30039` in center) stands in an \"indication\", \"contraindication\" or \"off-label use\" relation to many drugs (green nodes). The type of relation can be seen when hovering over an arrow. The schema also summarized the edge types found between pairs of node types.\n",
    "  - Example: CML is linked to drug `14207` (=[Imatinib](https://en.wikipedia.org/wiki/Imatinib)), which in turn is linked via \"drug_drug\" relations to many other drugs such as `14794` (=[Dasatinib](https://en.wikipedia.org/wiki/Dasatinib)) or `15429` (=[Ponatinib](https://en.wikipedia.org/wiki/Ponatinib)), all of which are tyrosine-kinase inhibitors and form a cluster here. On the other hand, some drugs like `19886` ([Omacetaxine mepesuccinate](https://en.wikipedia.org/wiki/Omacetaxine_mepesuccinate)), which is a natural plant alkaloid used in CML treatment, are isolated in this subgraph. The choice of edge types does not make clear what the meaning behind the presence or absence of these associations is.\n",
    "- Disease-Gene relations: The disease CML stands in a \"disease_protein\" relation with many nodes of type \"gene/protein\" (blue nodes).\n",
    "  - Example: Gene `1530` represents BCR and is connected to CML, to the tyrosine-kinase inhibitors just mentioned, and to gene `601` which represents ABL1."
   ]
  },
  {
   "cell_type": "markdown",
   "id": "1e231929-01ca-4a88-888e-56f2c05f58bf",
   "metadata": {},
   "source": [
    "### c) Find shortest paths between two chosen nodes"
   ]
  },
  {
   "cell_type": "code",
   "execution_count": null,
   "id": "205c4717-f13c-4f94-9826-c58481a4bcf4",
   "metadata": {},
   "outputs": [],
   "source": [
    "# Paths from drug Imatinib to disease AML\n",
    "source = 14207\n",
    "target = 99701\n",
    "subgraph = shared_bmkg.get_paths_subgraph(g, source, target)\n",
    "\n",
    "# Report\n",
    "shared_bmkg.report_graph_stats(subgraph)\n",
    "shared_bmkg.visualize_graph(subgraph, node_type_to_color, source, target)"
   ]
  },
  {
   "cell_type": "markdown",
   "id": "7a9eae73-4340-440a-b0c4-6c4ae21b7165",
   "metadata": {},
   "source": [
    "Interpretation:\n",
    "- The drug Imatinib with id `14207` (green node on the left) is not only used in the treatment of the disease CML, but also affecting other diseases, including AML with id `99701` (red node on the right). There is no direct link between Imatinib and AML present in the PrimeKG knowledge graph, but this subgraph shows a few genes (blue nodes in the middle) by which the effect of Imatinib on AML might be facilitated, such as `2108` (=[KIT](https://en.wikipedia.org/wiki/KIT_(gene))) or `1573` (=[CSFR1](https://en.wikipedia.org/wiki/Colony_stimulating_factor_1_receptor)).\n",
    "- A simple pattern like this suggests that a link between Imatinib and AML could be discovered by a suitable link prediction method. Similar but perhaps a bit more complex patterns between other nodes may uncover indirect relationships between compounds and diseases that are not yet known. This is one way of forming drug repurposing hypotheses, which means that a drug that has already been shown in clinical trials to be safe to humans could potentially be effective in the treatment of another disease too and thereby find a new purpose.\n",
    "- The paths involve many other disease nodes that are subforms of AML such as `83859` (\"acute myeloid leukemia with t(9;11)(p22;q23)\") or `83861` (\"acute myeloid leukemia with NPM1 somatic mutations\"). This shows that PrimeKG contains a lot of highly specific disease nodes. Some analyses might profit from aggregating subforms of diseases into a single general node."
   ]
  }
 ],
 "metadata": {
  "kernelspec": {
   "display_name": "Python 3 (ipykernel)",
   "language": "python",
   "name": "python3"
  },
  "language_info": {
   "codemirror_mode": {
    "name": "ipython",
    "version": 3
   },
   "file_extension": ".py",
   "mimetype": "text/x-python",
   "name": "python",
   "nbconvert_exporter": "python",
   "pygments_lexer": "ipython3",
   "version": "3.12.4"
  }
 },
 "nbformat": 4,
 "nbformat_minor": 5
}
