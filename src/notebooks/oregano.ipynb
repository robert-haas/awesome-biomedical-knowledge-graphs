{
 "cells": [
  {
   "cell_type": "markdown",
   "id": "e6970235-b70f-4d93-9298-76cb1d34160b",
   "metadata": {},
   "source": [
    "# OREGANO\n",
    "\n",
    "This notebook explores the biomedical knowledge graph provided by the project **OREGANO**: [Publication (2023)](https://doi.org/10.1038/s41597-023-02757-0), [Code](https://gitub.u-bordeaux.fr/erias/oregano), Data on [figshare](https://doi.org/10.6084/m9.figshare.23553114) or [Zenodo](https://zenodo.org/records/10103842), [Query interface](http://91.121.148.199:8889/bigdata/#query)\n",
    "\n",
    "The source file of this notebook is [oregano.ipynb](https://github.com/robert-haas/awesome-biomedical-knowledge-graphs/blob/main/src/notebooks/oregano.ipynb) and can be found in the repository [awesome-biomedical-knowledge-graphs](https://github.com/robert-haas/awesome-biomedical-knowledge-graphs) that also contains information about similar projects.\n",
    "\n",
    "## Table of contents\n",
    "\n",
    "1. [Setup](#1.-Setup)\n",
    "2. [Data download](#2.-Data-download)\n",
    "3. [Data import](#3.-Data-import)\n",
    "4. [Data inspection](#4.-Data-inspection)\n",
    "5. [Schema discovery](#5.-Schema-discovery)\n",
    "6. [Knowledge graph reconstruction](#6.-Knowledge-graph-reconstruction)\n",
    "7. [Subgraph exploration](#7.-Subgraph-exploration)"
   ]
  },
  {
   "cell_type": "markdown",
   "id": "121fa16a-5c8e-47eb-89a2-68de3d795f33",
   "metadata": {},
   "source": [
    "## 1. Setup\n",
    "\n",
    "This section prepares the environment for the following exploratory data analysis.\n",
    "\n",
    "### a) Import packages\n",
    "\n",
    "From the [Python standard library](https://docs.python.org/3/library/index.html)."
   ]
  },
  {
   "cell_type": "code",
   "execution_count": null,
   "id": "7753c427-678d-437b-9877-f79f2628e830",
   "metadata": {},
   "outputs": [],
   "source": [
    "import math\n",
    "import os"
   ]
  },
  {
   "cell_type": "markdown",
   "id": "9d60a1b5-d22e-4091-a68d-fd352542b188",
   "metadata": {},
   "source": [
    "From the [Python Package Index (PyPI)](https://pypi.org)."
   ]
  },
  {
   "cell_type": "code",
   "execution_count": null,
   "id": "28887441-1e2c-4b7e-a94f-b25e3a73eb8a",
   "metadata": {},
   "outputs": [],
   "source": [
    "import gravis as gv  # for visualization of the KG schema and subgraphs, developed by the author of this notebook\n",
    "import igraph as ig\n",
    "import pandas as pd"
   ]
  },
  {
   "cell_type": "markdown",
   "id": "e3e7f1e1-3156-4ef3-9647-98b59942083d",
   "metadata": {},
   "source": [
    "From a local Python module named [shared_bmkg.py](https://github.com/robert-haas/awesome-biomedical-knowledge-graphs/blob/main/src/notebooks/shared_bmkg.py). The functions in it are used in several similar notebooks to reduce code repetition and to improve readability."
   ]
  },
  {
   "cell_type": "code",
   "execution_count": null,
   "id": "461fcdd3-f276-4300-a276-17f3a59f4b15",
   "metadata": {},
   "outputs": [],
   "source": [
    "import shared_bmkg"
   ]
  },
  {
   "cell_type": "markdown",
   "id": "154692d1-dd89-4289-a345-54d5e32f26eb",
   "metadata": {},
   "source": [
    "### b) Create data directories\n",
    "\n",
    "The raw data provided by the project and the transformed data generated throughout this notebook are stored in separate directories. If the notebook is run more than once, the downloaded data is reused instead of fetching it again, but all data transformations are rerun."
   ]
  },
  {
   "cell_type": "code",
   "execution_count": null,
   "id": "5508cc4b-02fd-42a0-97e3-e8e6ccaded3d",
   "metadata": {},
   "outputs": [],
   "source": [
    "project_name = \"oregano\"\n",
    "download_dir = os.path.join(project_name, \"downloads\")\n",
    "results_dir = os.path.join(project_name, \"results\")\n",
    "\n",
    "shared_bmkg.create_dir(download_dir)\n",
    "shared_bmkg.create_dir(results_dir)"
   ]
  },
  {
   "cell_type": "markdown",
   "id": "ef1bd25a-1ec1-439b-84b7-a1fc2335cee3",
   "metadata": {},
   "source": [
    "## 2. Data download\n",
    "\n",
    "This section fetches the data published by the project on [figshare](https://doi.org/10.6084/m9.figshare.23553114).\n",
    " The latest available version at the time of creating this notebook was used: `Version 3 (2023-10-16)`.\n",
    "\n",
    "### All files provided by the project\n",
    "\n",
    "- `OREGANO_V2.1.tsv`: Nodes and edges in form of semantic triples (subject, predicate, object).\n",
    "  - Publication: \"File containing all knowledge graph triples. It is composed of 3 columns: Subject; Predicate;Object\"\n",
    "- Ten further TSV files named `ACTIVITY.tsv` to `TARGET.tsv`: Node annotations, each file for one particular node type.\n",
    "  - Publication: \"Cross-reference tables [...] column headers are the names of the sources to which the cross-references belong, and the row headers contain the name of the entity in the OREGANO graph. The first column header of each file is a key consisting of “ID_OREGANO:” followed by the number of entries in the file.\"\n",
    "- `oreganov2.1_metadata_complet.ttl`: Seemingly the same information as above, but in a format compatible with the [RDF standard](https://en.wikipedia.org/wiki/Resource_Description_Framework), a central technology of the [semantic web](https://en.wikipedia.org/wiki/Semantic_Web).\n",
    "  - Publication: \"The OREGANO knowledge graph in turtle format with the names and cross-references of the various integrated entities.\"\n",
    "\n",
    "### Files needed to create the knowledge graph\n",
    "\n",
    "- `OREGANO_V2.1.tsv` together with `ACTIVITY.tsv` to `TARGET.tsv` contain all information required for reconstructing the knowledge graph.\n",
    "- Alternatively, `oreganov2.1_metadata_complet.ttl` could presumably be used as well, but parsing it is much slower and interpreting it correctly is more tedious compared to using the TSV files."
   ]
  },
  {
   "cell_type": "code",
   "execution_count": null,
   "id": "9aa65396-8ec9-4e6e-8976-e705ae2d59c9",
   "metadata": {},
   "outputs": [],
   "source": [
    "download_specification = [\n",
    "    (\"OREGANO_V2.1.tsv\", \"https://figshare.com/ndownloader/files/42612700\", \"3e534cadf7717c705cbd5e6dd8c392a6\"),\n",
    "\n",
    "    (\"ACTIVITY.tsv\", \"https://figshare.com/ndownloader/files/42612697\", \"d1faec938bd32ec9bb45ae5bba14d7a2\"),\n",
    "    (\"COMPOUND.tsv\", \"https://figshare.com/ndownloader/files/42612676\", \"d86277d0e849c3774acb3c6be1878b44\"),\n",
    "    (\"DISEASES.tsv\", \"https://figshare.com/ndownloader/files/42612685\", \"747a48c9786fd50912bb8d7f33d630df\"),\n",
    "    (\"EFFECT.tsv\", \"https://figshare.com/ndownloader/files/42612694\", \"9b1656a45df7d0369dc2a8e5f52b5c2b\"),\n",
    "    (\"GENES.tsv\", \"https://figshare.com/ndownloader/files/42612673\", \"8fe9a917b23ab715a268feda50b4a8d7\"),\n",
    "    (\"INDICATION.tsv\", \"https://figshare.com/ndownloader/files/42612691\", \"eae2cbaebc64b1387cce1755a386d1cb\"),\n",
    "    (\"PATHWAYS.tsv\", \"https://figshare.com/ndownloader/files/42612688\", \"d3f0abefe355c4b9cd1eea4cc8d58021\"),\n",
    "    (\"PHENOTYPES.tsv\", \"https://figshare.com/ndownloader/files/42612679\", \"cada3e9316ba4ec654dd2b9ec2afa23c\"),\n",
    "    (\"SIDE_EFFECT.tsv\", \"https://figshare.com/ndownloader/files/42612670\", \"8388b5a37db250128e50571d42d96cbc\"),\n",
    "    (\"TARGET.tsv\", \"https://figshare.com/ndownloader/files/42612682\", \"46e189c556b2b010952d4212b8779cef\"),\n",
    "\n",
    "    (\"oreganov2.1_metadata_complete.ttl\", \"https://figshare.com/ndownloader/files/42700234\", \"b087300f5e597d263a03c02eaae53bc7\"),\n",
    "]\n",
    "\n",
    "for filename, url, md5 in download_specification:\n",
    "    filepath = os.path.join(download_dir, filename)\n",
    "    shared_bmkg.fetch_file(url, filepath)\n",
    "    shared_bmkg.validate_file(filepath, md5)\n",
    "    print()"
   ]
  },
  {
   "cell_type": "markdown",
   "id": "87559690-fc84-4f16-8153-bcf33e59114d",
   "metadata": {},
   "source": [
    "## 3. Data import\n",
    "\n",
    "This section loads the raw files into Python data structures for the following inspection and conversion."
   ]
  },
  {
   "cell_type": "code",
   "execution_count": null,
   "id": "c4da36eb-ddb2-42de-b6fb-732153647a44",
   "metadata": {},
   "outputs": [],
   "source": [
    "%%time\n",
    "\n",
    "df_kg = shared_bmkg.read_tsv_file(os.path.join(download_dir, \"OREGANO_V2.1.tsv\"), header=None)\n",
    "df_kg.columns = [\"subject\", \"predicate\", \"object\"]"
   ]
  },
  {
   "cell_type": "code",
   "execution_count": null,
   "id": "4e7b2f22-e97c-4d79-8ff0-4f3d26d3ce56",
   "metadata": {},
   "outputs": [],
   "source": [
    "%%time\n",
    "\n",
    "df_activity = shared_bmkg.read_tsv_file(os.path.join(download_dir, \"ACTIVITY.tsv\"))\n",
    "df_activity.columns.values[0] = \"id\"\n",
    "\n",
    "df_compound = shared_bmkg.read_tsv_file(os.path.join(download_dir, \"COMPOUND.tsv\"))\n",
    "df_compound.columns.values[0] = \"id\"\n",
    "\n",
    "df_diseases = shared_bmkg.read_tsv_file(os.path.join(download_dir, \"DISEASES.tsv\"))\n",
    "df_diseases.columns.values[0] = \"id\"\n",
    "\n",
    "df_effect = shared_bmkg.read_tsv_file(os.path.join(download_dir, \"EFFECT.tsv\"))\n",
    "df_effect.columns.values[0] = \"id\"\n",
    "\n",
    "df_genes = shared_bmkg.read_tsv_file(os.path.join(download_dir, \"GENES.tsv\"))\n",
    "df_genes.columns.values[0] = \"id\"\n",
    "\n",
    "df_indication = shared_bmkg.read_tsv_file(os.path.join(download_dir, \"INDICATION.tsv\"))\n",
    "df_indication.columns.values[0] = \"id\"\n",
    "\n",
    "df_pathways = shared_bmkg.read_tsv_file(os.path.join(download_dir, \"PATHWAYS.tsv\"))\n",
    "df_pathways.columns.values[0] = \"id\"\n",
    "\n",
    "df_phenotypes = shared_bmkg.read_tsv_file(os.path.join(download_dir, \"PHENOTYPES.tsv\"))\n",
    "df_phenotypes.columns.values[0] = \"id\"\n",
    "\n",
    "df_sideeffect = shared_bmkg.read_tsv_file(os.path.join(download_dir, \"SIDE_EFFECT.tsv\"))\n",
    "df_sideeffect.columns.values[0] = \"id\"\n",
    "\n",
    "df_target = shared_bmkg.read_tsv_file(os.path.join(download_dir, \"TARGET.tsv\"))\n",
    "df_target.columns.values[0] = \"id\""
   ]
  },
  {
   "cell_type": "code",
   "execution_count": null,
   "id": "d68e8def-acf8-45f2-82b2-d8d5d4938fd2",
   "metadata": {},
   "outputs": [],
   "source": [
    "%%time\n",
    "\n",
    "rdf_kg = shared_bmkg.read_ttl_file(os.path.join(download_dir, \"oreganov2.1_metadata_complete.ttl\"))"
   ]
  },
  {
   "cell_type": "markdown",
   "id": "3d7db746-5557-4fa6-8e98-6227b08df909",
   "metadata": {},
   "source": [
    "## 4. Data inspection\n",
    "\n",
    "This section attempts to reproduce some published numbers by inspecting the raw data and then prints a few exemplary records.\n",
    "\n",
    "The [publication](https://doi.org/10.1038/s41597-023-02757-0) and data repository on [figshare](https://doi.org/10.6084/m9.figshare.23553114) mention following statistics about the knowledge graph contents:\n",
    "- 88,937 nodes having 11 different node types\n",
    "- 824,231 edges having 19 different edge types\n",
    "\n",
    "### a) Number of nodes and edges"
   ]
  },
  {
   "cell_type": "code",
   "execution_count": null,
   "id": "2702777e-d354-4c98-81ee-18b5f8c29a64",
   "metadata": {},
   "outputs": [],
   "source": [
    "unique_nodes = list(set(df_kg['subject'].unique().tolist() + df_kg['object'].unique().tolist()))\n",
    "num_nodes = len(unique_nodes)\n",
    "num_edges = len(df_kg)\n",
    "\n",
    "print(f\"{num_nodes:,} nodes\")\n",
    "print(f\"{num_edges:,} edges\")"
   ]
  },
  {
   "cell_type": "markdown",
   "id": "c422fab5-1e21-42f4-ae8b-6b08c5c89f40",
   "metadata": {},
   "source": [
    "Interpretation:\n",
    "- Inspecting the raw data resulted in **88,937 nodes**, which matches the number mentioned in the publication.\n",
    "- Inspecting the raw data resulted in **823,005 edges**, while the publication mentions **824,231 edges**, which is 1226 more.\n",
    "- A **difference** was also present in earlier versions of the public dataset (Version 1 and 2), though in form of yet another number. The reason for these deviations did not become clear."
   ]
  },
  {
   "cell_type": "code",
   "execution_count": null,
   "id": "56fa5738-400d-42d1-b11f-6b48315db7d2",
   "metadata": {},
   "outputs": [],
   "source": [
    "raw_triples = [(row.subject, row.predicate, row.object) for row in df_kg.itertuples()]\n",
    "unique_triples = list(set(raw_triples))\n",
    "\n",
    "num_raw_triples = len(raw_triples)\n",
    "num_unique_triples = len(unique_triples)\n",
    "print(f\"{num_raw_triples:,} triples\")\n",
    "print(f\"{num_unique_triples:,} unique triples\")"
   ]
  },
  {
   "cell_type": "markdown",
   "id": "0bb6d387-8c07-4387-921e-31c3edaff8a3",
   "metadata": {},
   "source": [
    "Interpretation:\n",
    "- Inspecting the raw data further resulted only in **819,884 unique edges**, while the original list contains 823,005 edges, which is 3121 more. This means approximately 0.38% of the edges are redundant, because they connect the same pair of nodes via the same type of edge. The reason for this deviation seems to be a mistake in the process that generated the data."
   ]
  },
  {
   "cell_type": "markdown",
   "id": "e3705e13-78f5-4a0b-9122-6c5eb92ba3f7",
   "metadata": {},
   "source": [
    "### b) Types of nodes and edges"
   ]
  },
  {
   "cell_type": "code",
   "execution_count": null,
   "id": "cc423e23-9bce-43b6-9cff-90211f2f60b2",
   "metadata": {},
   "outputs": [],
   "source": [
    "def node_name_to_type(node_name):\n",
    "    try:\n",
    "        # Most node names contain both the type and id of a node separated by a \":\"\n",
    "        node_type, _ = node_name.split(':', 1)\n",
    "        node_type = node_type.lower()\n",
    "    except Exception:\n",
    "        # Node names that occur in \"has_code\" relations as target do not have a \":\" and explicit type\n",
    "        # Here the type \"code\" is assigned to such nodes to be consistent\n",
    "        node_type = \"code\"\n",
    "    return node_type"
   ]
  },
  {
   "cell_type": "code",
   "execution_count": null,
   "id": "1b442f84-7847-45a4-8c70-e705c33f892c",
   "metadata": {},
   "outputs": [],
   "source": [
    "nt_counts = dict()\n",
    "for node_name in unique_nodes:\n",
    "    nt = node_name_to_type(node_name)\n",
    "    if nt not in nt_counts:\n",
    "        nt_counts[nt] = 0    \n",
    "    nt_counts[nt] += 1\n",
    "\n",
    "print(len(nt_counts), \"node types, sorted by their frequency of occurrence:\")\n",
    "for nt, cnt in sorted(nt_counts.items(), key=lambda item: -item[1]):\n",
    "    print(f\"- {nt}: {cnt}\")"
   ]
  },
  {
   "cell_type": "code",
   "execution_count": null,
   "id": "c3c05a40-4b3a-428a-9278-4fa0a0efa486",
   "metadata": {},
   "outputs": [],
   "source": [
    "et_column = \"predicate\"\n",
    "et_counts = dict(df_kg.groupby(et_column).size().sort_values(ascending=False))\n",
    "\n",
    "print(len(et_counts), \"edge types, sorted by their frequency:\")\n",
    "for key, val in et_counts.items():\n",
    "    print(f\"- {key}: {val}\")"
   ]
  },
  {
   "cell_type": "code",
   "execution_count": null,
   "id": "25587785-df59-475d-bc99-81b5972116aa",
   "metadata": {},
   "outputs": [],
   "source": [
    "# Correctness checks\n",
    "\n",
    "# 1) Do the counts of different node types add up to the total number of nodes?\n",
    "sum_node_types = sum(nt_counts.values())\n",
    "assert sum_node_types == num_nodes, f\"Node counts differ: {sum_node_types} != {num_nodes}\"\n",
    "print(f\"{sum_node_types:,} = {num_nodes:,} nodes\")\n",
    "\n",
    "# 2) Do the counts of different edge types add up to the total number of edges?\n",
    "sum_edge_types = sum(et_counts.values())\n",
    "assert sum_edge_types == num_edges, f\"Edge counts differ: {sum_edge_types} != {num_edges}\"\n",
    "print(f\"{sum_edge_types:,} = {num_edges:,} edges\")"
   ]
  },
  {
   "cell_type": "code",
   "execution_count": null,
   "id": "09877443-6e2e-4b1e-8b06-c5bbadb99409",
   "metadata": {},
   "outputs": [],
   "source": [
    "85657 - 88937"
   ]
  },
  {
   "cell_type": "markdown",
   "id": "9fad0c8c-d6d2-4c58-85c6-5ecfd498b769",
   "metadata": {},
   "source": [
    "Interpretation:\n",
    "- Inspecting the raw data resulted in **12 node types**, while the publication mentioned **11 node types**, which is 1 fewer.\n",
    "- Inspecting the raw data resulted in **18 edge types**, while the publication mentioned **19 edge types**, which is 1 more.\n",
    "- The **differences** can be explained by two separate reasons:\n",
    "  - The number of node types differ because of a peculiarity in how node types are encoded in the raw data, which can also be seen in the next section. A node name usually has the form \"type:id\", which assigns an explicit type to the node. In some cases, however, there are objects whose node name has the form \"id\" without any type assignment, but because they are always part of a triple with the predicate \"has_code\", their implicit type is taken to be \"code\" in this notebook in order construct a proper knowledge graph where every node has a type.\n",
    "  - The number of edge types do not differ when using an earlier version of the public dataset (Version 1). This suggests that the authors made slight modifications to the knowledge graph creation process after the publication, presumably to correct an error in the computation or to accommodate slightly different input data."
   ]
  },
  {
   "cell_type": "markdown",
   "id": "a0b82303-fa37-46cc-9677-64611d7cb600",
   "metadata": {},
   "source": [
    "### c) Example entries\n",
    "\n",
    "This section prints some example entries of the raw data. It gives an impression of the format chosen by the authors, which differs greatly between projects due to a lack of a broadly accepted standard for biomedical knowledge graphs."
   ]
  },
  {
   "cell_type": "code",
   "execution_count": null,
   "id": "6d3bc528-27d0-4abb-8beb-7797883953fc",
   "metadata": {},
   "outputs": [],
   "source": [
    "def report_first_n_items(data, n):\n",
    "    return data.head(n)"
   ]
  },
  {
   "cell_type": "code",
   "execution_count": null,
   "id": "e92d81ee-a06e-4bb8-b77f-bb01e15d555e",
   "metadata": {},
   "outputs": [],
   "source": [
    "def report_last_n_items(data, n):\n",
    "    return data.tail(n)"
   ]
  },
  {
   "cell_type": "markdown",
   "id": "51d57485-25ea-496a-a660-5107876d2932",
   "metadata": {},
   "source": [
    "#### Edges and the nodes they connect"
   ]
  },
  {
   "cell_type": "code",
   "execution_count": null,
   "id": "beb50843-b179-4253-955f-0e31fc7baf43",
   "metadata": {},
   "outputs": [],
   "source": [
    "report_first_n_items(df_kg, 2)"
   ]
  },
  {
   "cell_type": "code",
   "execution_count": null,
   "id": "ef75e539-46d6-4e02-b3ae-0e1c2cd9c26a",
   "metadata": {},
   "outputs": [],
   "source": [
    "report_last_n_items(df_kg, 2)"
   ]
  },
  {
   "cell_type": "code",
   "execution_count": null,
   "id": "0557ad0e-b2e0-4887-8614-2fdc7c4ad7c5",
   "metadata": {},
   "outputs": [],
   "source": [
    "# Caution: Some edges contain a target node without type, i.e. there is no \":\" in the node name\n",
    "df_notype = df_kg[~df_kg['subject'].str.contains(':') | ~df_kg['object'].str.contains(':')]\n",
    "report_first_n_items(df_notype, 4)"
   ]
  },
  {
   "cell_type": "markdown",
   "id": "14266c74-054e-443f-ace2-ff1f02c1ce20",
   "metadata": {},
   "source": [
    "#### Node annotations"
   ]
  },
  {
   "cell_type": "code",
   "execution_count": null,
   "id": "fcf7d1a6-bb0b-464f-8cf7-c3fbd3f6ca12",
   "metadata": {},
   "outputs": [],
   "source": [
    "report_first_n_items(df_activity, 2)"
   ]
  },
  {
   "cell_type": "code",
   "execution_count": null,
   "id": "03e10f8a-69e4-46e5-90c9-9e7864d3ab85",
   "metadata": {},
   "outputs": [],
   "source": [
    "report_first_n_items(df_compound, 2)"
   ]
  },
  {
   "cell_type": "code",
   "execution_count": null,
   "id": "974189a9-f4e6-4841-bfcc-e05fdc9ba7f9",
   "metadata": {},
   "outputs": [],
   "source": [
    "report_first_n_items(df_diseases, 2)"
   ]
  },
  {
   "cell_type": "code",
   "execution_count": null,
   "id": "b117a1a6-42d0-4f30-855a-f891991789e2",
   "metadata": {},
   "outputs": [],
   "source": [
    "report_first_n_items(df_effect, 2)"
   ]
  },
  {
   "cell_type": "code",
   "execution_count": null,
   "id": "5798e8ca-daa7-47f4-a768-672cffc4ce57",
   "metadata": {},
   "outputs": [],
   "source": [
    "report_first_n_items(df_genes, 2)"
   ]
  },
  {
   "cell_type": "code",
   "execution_count": null,
   "id": "2e192bfa-5b95-4cb1-929a-b5d51f016765",
   "metadata": {},
   "outputs": [],
   "source": [
    "report_first_n_items(df_indication, 2)"
   ]
  },
  {
   "cell_type": "code",
   "execution_count": null,
   "id": "1dc22bd9-e427-4977-8d2a-b7abc92c52ea",
   "metadata": {},
   "outputs": [],
   "source": [
    "report_first_n_items(df_pathways, 2)"
   ]
  },
  {
   "cell_type": "code",
   "execution_count": null,
   "id": "eadc39dd-69b0-4f32-a8ed-1610cc7e8c76",
   "metadata": {},
   "outputs": [],
   "source": [
    "report_first_n_items(df_phenotypes, 2)"
   ]
  },
  {
   "cell_type": "code",
   "execution_count": null,
   "id": "933bd97f-6334-4d74-ad16-a98ab434ee9c",
   "metadata": {},
   "outputs": [],
   "source": [
    "report_first_n_items(df_sideeffect, 2)"
   ]
  },
  {
   "cell_type": "code",
   "execution_count": null,
   "id": "a413d7bf-3267-4541-affb-545218c63ecc",
   "metadata": {},
   "outputs": [],
   "source": [
    "report_first_n_items(df_target, 2)"
   ]
  },
  {
   "cell_type": "markdown",
   "id": "2ff1cd86-9099-466f-a77a-7c4bce9039da",
   "metadata": {},
   "source": [
    "#### Nodes, edges and annotations in a different format for semantic web technologies"
   ]
  },
  {
   "cell_type": "code",
   "execution_count": null,
   "id": "09ee6708-1d50-4794-b0cd-edea7f9a5182",
   "metadata": {},
   "outputs": [],
   "source": [
    "for i, (s, p, o) in enumerate(rdf_kg):\n",
    "    print(\"Subject:  \", s)\n",
    "    print(\"Predicate:\", p)\n",
    "    print(\"Object:   \", o)\n",
    "    print()\n",
    "    if i >= 4:\n",
    "        break"
   ]
  },
  {
   "cell_type": "markdown",
   "id": "a6c3f9e7-f72d-49c3-840e-abd1ad104fb2",
   "metadata": {},
   "source": [
    "## 5. Schema discovery\n",
    "\n",
    "This section analyzes the structure of the knowledge graph by determining which types of nodes are connected by which types of edges. To construct this overview, it is necessary to iterate over the entire data once. The result is a condensed representation of all entities and relations, which is known as [data model](https://neo4j.com/docs/getting-started/data-modeling/guide-data-modeling/#whiteboard-friendly) or [schema](https://memgraph.com/docs/fundamentals/graph-modeling#designing-a-graph-database-schema) in the context of graph databases."
   ]
  },
  {
   "cell_type": "code",
   "execution_count": null,
   "id": "a1ad2326-0193-4d35-967d-ffd0caafb2a7",
   "metadata": {},
   "outputs": [],
   "source": [
    "node_type_to_color = {\n",
    "    \"compound\": \"green\",\n",
    "    \"molecule\": \"green\",\n",
    "\n",
    "    \"gene\": \"blue\",\n",
    "    \"protein\": \"blue\",\n",
    "\n",
    "    \"disease\": \"red\",\n",
    "    \"pathway\": \"red\",\n",
    "}"
   ]
  },
  {
   "cell_type": "code",
   "execution_count": null,
   "id": "39bbe303-ed51-4178-b17c-9e8318ecf372",
   "metadata": {},
   "outputs": [],
   "source": [
    "%%time\n",
    "\n",
    "unique_triples = set()\n",
    "for row in df_kg.itertuples():\n",
    "    s = node_name_to_type(row.subject)\n",
    "    p = row.predicate\n",
    "    o = node_name_to_type(row.object)\n",
    "    triple = (s, p, o)\n",
    "    unique_triples.add(triple)"
   ]
  },
  {
   "cell_type": "code",
   "execution_count": null,
   "id": "7f81047a-b4c0-4fe3-8b7c-018115d1a1f4",
   "metadata": {},
   "outputs": [],
   "source": [
    "gs = ig.Graph(directed=True)\n",
    "unique_nodes = set()\n",
    "for s, p, o in unique_triples:\n",
    "    for node in (s, o):\n",
    "        if node not in unique_nodes:\n",
    "            unique_nodes.add(node)\n",
    "\n",
    "            node_size = int(nt_counts[node])\n",
    "            node_color = node_type_to_color.get(node, '')\n",
    "            node_hover = f\"{node}\\n\\n{nt_counts[node]} nodes of this type are contained in the knowledge graph.\"\n",
    "            gs.add_vertex(node, size=node_size, color=node_color, label_color=node_color, hover=node_hover)\n",
    "\n",
    "    edge_size = int(et_counts[p])\n",
    "    edge_color = node_type_to_color.get(s, '')\n",
    "    edge_hover = f\"{p}\\n\\n{et_counts[p]} edges of this type are contained in the knowledge graph.\"\n",
    "    gs.add_edge(s, o, size=edge_size, color=edge_color, hover=edge_hover, label=p, label_color=\"gray\", label_size=5)\n",
    "\n",
    "gs.vcount(), gs.ecount()"
   ]
  },
  {
   "cell_type": "code",
   "execution_count": null,
   "id": "1611dc29-eccf-4eae-a2ad-33b0a228c259",
   "metadata": {},
   "outputs": [],
   "source": [
    "fig = gv.d3(\n",
    "    gs,\n",
    "    show_node_label=True,\n",
    "    node_label_data_source=\"name\",\n",
    "\n",
    "    show_edge_label=True,\n",
    "    edge_label_data_source=\"label\",\n",
    "    edge_curvature=0.2,\n",
    "\n",
    "    use_node_size_normalization=True,\n",
    "    node_size_normalization_min=10,\n",
    "    node_size_normalization_max=50,\n",
    "    node_drag_fix=True,\n",
    "    node_hover_neighborhood=True,\n",
    "    \n",
    "    use_edge_size_normalization=True,\n",
    "    edge_size_normalization_max=3,\n",
    "\n",
    "    many_body_force_strength=-3000,\n",
    "    zoom_factor=0.8,\n",
    ")\n",
    "fig"
   ]
  },
  {
   "cell_type": "code",
   "execution_count": null,
   "id": "a56e1348-3f4c-4fd7-acb9-4acbbbe8cb4a",
   "metadata": {},
   "outputs": [],
   "source": [
    "# Export the schema visualization\n",
    "schema_filepath = os.path.join(results_dir, f\"{project_name}_schema.html\")\n",
    "fig.export_html(schema_filepath, overwrite=True)"
   ]
  },
  {
   "cell_type": "markdown",
   "id": "8ff5e927-bbe9-490e-b932-ec084bf58161",
   "metadata": {},
   "source": [
    "Interpretation:\n",
    "- Each node in the schema corresponds to one of the 12 node types in the data.\n",
    "  - *Node size* represents the number of instances, i.e. how often that node type is present in the knowledge graph. The exact number can also be seen when hovering over a node.\n",
    "  - *Node color* represents particular node types. The coloring scheme is based on a deliberately simple RGB palette with the same meaning across multiple notebooks to enable some visual comparison. The idea behind it is to highlight an interplay of certain entities, namely that drugs (or small molecules in general) can bind to proteins (or gene products in general) and thereby alter diseases (or involved pathways).\n",
    "    - *green* = drugs & other small molecules (e.g. toxins)\n",
    "    - *blue* = genes & gene products (e.g. proteins or RNAs)\n",
    "    - *red* = diseases & related concepts (e.g. pathways)\n",
    "    - *black* = all other types of entities\n",
    "- Each edge in the schema stands for one of the 18 edge types in the data. It is possible that the same edge type appears between different nodes.\n",
    "  - *Edge size* represents the number of instances, i.e. how often that edge type is present in the knowledge graph.\n",
    "  - *Edge color* is identical to the color of the source node, again to highlight the interplay between drugs, targets and diseases."
   ]
  },
  {
   "cell_type": "markdown",
   "id": "f9e5d00c-923c-4def-b30c-23196269fb65",
   "metadata": {},
   "source": [
    "## 6. Knowledge graph reconstruction\n",
    "\n",
    "This section first converts the raw data to an intermediate format used in several notebooks, and then reconstructs the knowledge graph from the standardized data with shared code.\n",
    "- The intermediate form of the data is created as two simple Python lists, one for nodes and the other for edges, which can be exported to two CSV files.\n",
    "- The knowledge graph is built as a graph object from the Python package [igraph](https://igraph.org/python), which can be exported to a [GraphML](https://en.wikipedia.org/wiki/GraphML) file.\n",
    "\n",
    "### a) Convert the data into a standardized format\n",
    "\n",
    "Transform the raw data to an standardized format that is compatible with most biomedical knowledge graphs in order to enable shared downstream processing:\n",
    "- Each node is represented by three items: `id (str), type (str), properties (dict)`\n",
    "- Each edge is represented by four items: `source_id (str), target_id (str), type(str), properties (dict)`\n",
    "\n",
    "This format was initially inspired by a straightforward way in which the content of a Neo4j graph database can be exported to two CSV files, one for all nodes and the other for all edges. This is an effect of the [property graph model](https://neo4j.com/docs/getting-started/appendix/graphdb-concepts/) used in Neo4j and many other graph databases, which also appears to be general enough to fully capture the majority of biomedical knowledge graphs described in scientific literature, despite the large variety of formats they are shared in.\n",
    "\n",
    "A second motivation was that each line represents a single node or edge, and that no entry is connected to any sections at other locations, such as property descriptions at the beginning of a GraphML file. This structural simplicity makes it very easy to load just a subset of nodes and edges by picking a subset of lines, or to skip the loading of properties if they not required for a task simply by ignoring a single column.\n",
    "\n",
    "Finally, this format also allows to load the data directly into popular SQL databases like [SQLite](https://www.sqlite.org), [MySQL](https://www.mysql.com) or [PostgreSQL](https://www.postgresql.org/) with built-in CSV functions ([CSV in SQLite](https://www.sqlite.org/draft/cli.html#importing_files_as_csv_or_other_formats), [CSV in MySQL](https://dev.mysql.com/doc/refman/en/loading-tables.html), [CSV in PostgreSQL](https://www.postgresql.org/docs/current/sql-copy.html)). Further, the JSON string in the property column can be accessed directly by built-in JSON functions ([JSON in SQLite](https://www.sqlite.org/json1.html), [JSON in MySQL](https://dev.mysql.com/doc/refman/en/json-function-reference.html), [JSON in PostgreSQL](https://www.postgresql.org/docs/current/functions-json.html)), which enables sophisticated queries that access or modify specific properties within the JSON data.\n",
    "\n",
    "#### Prepare node annotations"
   ]
  },
  {
   "cell_type": "code",
   "execution_count": null,
   "id": "c7f7dcce-7890-4c21-a195-0b449c3451e8",
   "metadata": {},
   "outputs": [],
   "source": [
    "%%time\n",
    "\n",
    "def strip_if_str(val):\n",
    "    if isinstance(val, str):\n",
    "        val = val.strip()\n",
    "    return val\n",
    "\n",
    "def is_nan(val):\n",
    "    if isinstance(val, float):\n",
    "        return math.isnan(val)\n",
    "    return False\n",
    "\n",
    "dataframes = [\n",
    "    df_activity,\n",
    "    df_compound,\n",
    "    df_diseases,\n",
    "    df_effect,\n",
    "    df_genes,\n",
    "    df_indication,\n",
    "    df_pathways,\n",
    "    df_phenotypes,\n",
    "    df_sideeffect,\n",
    "    df_target,\n",
    "]\n",
    "node_name_to_annotation_map = {}\n",
    "for df in dataframes:\n",
    "    data_columns = list(df.columns)[1:]\n",
    "    for row in df.itertuples():\n",
    "        # indexing: 0=id (ignored), 1=name, 2-n=annotations\n",
    "        node_name = row[1]\n",
    "        annotation = {col: row[i] for i, col in enumerate(data_columns, 2)}\n",
    "        annotation = {strip_if_str(k):strip_if_str(v) for k, v in annotation.items()\n",
    "                      if v is not None\n",
    "                      and strip_if_str(v) != \"\"\n",
    "                      and not is_nan(v)}\n",
    "        node_name_to_annotation_map[node_name] = annotation"
   ]
  },
  {
   "cell_type": "code",
   "execution_count": null,
   "id": "e5f34c21-d453-4066-9e6e-2c7b9d3e91a0",
   "metadata": {},
   "outputs": [],
   "source": [
    "for i, (k, v) in enumerate(node_name_to_annotation_map.items()):\n",
    "    if i >= 20000:\n",
    "        print(k, v)\n",
    "    if i >= 20004:\n",
    "        break"
   ]
  },
  {
   "cell_type": "markdown",
   "id": "a8399edd-c4db-4101-9930-1b6a949c5e4f",
   "metadata": {},
   "source": [
    "#### Nodes"
   ]
  },
  {
   "cell_type": "code",
   "execution_count": null,
   "id": "4486af2a-49d4-4f89-b7b5-cd36a9844ac6",
   "metadata": {},
   "outputs": [],
   "source": [
    "%%time\n",
    "\n",
    "nodes = []\n",
    "seen_nodes = set()\n",
    "for row in df_kg.itertuples():\n",
    "    for node_name in (row.subject, row.object):\n",
    "        if node_name not in seen_nodes:\n",
    "            seen_nodes.add(node_name)\n",
    "\n",
    "            node_id = node_name\n",
    "            node_type = node_name_to_type(node_name)\n",
    "            node_properties = node_name_to_annotation_map.get(node_id, {})\n",
    "            node = (node_id, node_type, node_properties)  # default format\n",
    "            nodes.append(node)"
   ]
  },
  {
   "cell_type": "markdown",
   "id": "8e63102b-750b-4816-8cd1-f6cc84eb1cc6",
   "metadata": {},
   "source": [
    "#### Edges\n",
    "\n",
    "Note: As mentioned before, there are redundant edges in the raw data. These are skipped here deliberately, because igraph would support to place an edge of the same type between the same pair of nodes multiple times, which doesn't add any useful information."
   ]
  },
  {
   "cell_type": "code",
   "execution_count": null,
   "id": "fae33981-1cc0-4a4d-b256-d330f57c1584",
   "metadata": {},
   "outputs": [],
   "source": [
    "%%time\n",
    "\n",
    "edges = []\n",
    "seen_triples = set()\n",
    "for row in df_kg.itertuples():\n",
    "    source_id = row.subject\n",
    "    target_id = row.object\n",
    "    edge_type = row.predicate\n",
    "    edge_properties = {}\n",
    "    \n",
    "    triple = (source_id, edge_type, target_id)\n",
    "    if triple not in seen_triples:\n",
    "        seen_triples.add(triple)\n",
    "\n",
    "        edge = (source_id, target_id, edge_type, edge_properties)  # default format\n",
    "        edges.append(edge)"
   ]
  },
  {
   "cell_type": "markdown",
   "id": "5892187f-67ea-48b6-bde3-c5997058aa82",
   "metadata": {},
   "source": [
    "### b) Export the standardized data to two CSV files\n",
    "\n",
    "Both the `id` and `type` items are simple strings, while the `properties` item is collection of key-value pairs represented by a Python dictionary that can be converted to a single JSON string, which the export function does internally. This means each node is fully represented by three strings, and each edge by four strings due to having a source id and target id."
   ]
  },
  {
   "cell_type": "code",
   "execution_count": null,
   "id": "07c6e44d-291f-4955-b9ac-6a116f3c8e5c",
   "metadata": {},
   "outputs": [],
   "source": [
    "nodes_csv_filepath = shared_bmkg.export_nodes_as_csv(nodes, results_dir, project_name)"
   ]
  },
  {
   "cell_type": "code",
   "execution_count": null,
   "id": "88085e02-2201-4c14-be3c-2644f6d84327",
   "metadata": {},
   "outputs": [],
   "source": [
    "edges_csv_filepath = shared_bmkg.export_edges_as_csv(edges, results_dir, project_name)"
   ]
  },
  {
   "cell_type": "markdown",
   "id": "a8825f40-ad9d-444b-8cb3-7894c81271a1",
   "metadata": {},
   "source": [
    "### c) Use the standardized data to build a graph\n",
    "\n",
    "Reconstruct the knowledge graph in form of a [Graph object](https://igraph.org/python/doc/api/igraph.Graph.html) from the package [igraph](https://igraph.org/python). This kind of graph object allows to have directed multi-edges, i.e. an edge has a source and a target node, and two nodes can be connected by more than one edge. It also allows to have node and edge properties. These features are necessary and sufficient to represent almost any biomedical knowledge graph found in academic literature."
   ]
  },
  {
   "cell_type": "code",
   "execution_count": null,
   "id": "e3dbe64b-d9e1-4e0e-ac5a-02283e5841e3",
   "metadata": {},
   "outputs": [],
   "source": [
    "%%time\n",
    "\n",
    "g = shared_bmkg.create_graph(nodes, edges)"
   ]
  },
  {
   "cell_type": "code",
   "execution_count": null,
   "id": "4c863657-a480-43e6-8ee0-bec7589bd08c",
   "metadata": {},
   "outputs": [],
   "source": [
    "shared_bmkg.report_graph_stats(g)"
   ]
  },
  {
   "cell_type": "code",
   "execution_count": null,
   "id": "08478169-e7bb-42d5-9b22-6d3fd3d8d2f3",
   "metadata": {},
   "outputs": [],
   "source": [
    "# Correctness checks\n",
    "\n",
    "# 1) Does the reconstructed graph contain the same number of nodes as the raw data?\n",
    "num_nodes_in_graph = g.vcount()\n",
    "assert num_nodes_in_graph == num_nodes, f\"Node counts differ: {num_nodes_in_graph} != {num_nodes}\"\n",
    "print(f\"{num_nodes_in_graph:,} = {num_nodes:,}\")\n",
    "\n",
    "# 2) Does the reconstructed graph contain the same number of (unique) edges as the raw data?\n",
    "num_edges_in_graph = g.ecount()\n",
    "assert num_edges_in_graph == num_unique_triples, f\"Edge counts differ: {num_edges_in_graph} != {num_unique_triples}\"\n",
    "print(f\"{num_edges_in_graph:,} = {num_unique_triples:,}\")"
   ]
  },
  {
   "cell_type": "markdown",
   "id": "2332eb12-372b-4abd-9ddd-e67d31eac0d9",
   "metadata": {},
   "source": [
    "### d) Export the graph to a GraphML file\n",
    "\n",
    "Export the graph with all nodes, edges and properties as a single [GraphML](https://en.wikipedia.org/wiki/GraphML) file."
   ]
  },
  {
   "cell_type": "code",
   "execution_count": null,
   "id": "a8f21de1-9a69-4c72-a85f-c36d89762cdd",
   "metadata": {},
   "outputs": [],
   "source": [
    "%%time\n",
    "\n",
    "g_graphml_filepath = shared_bmkg.export_graph_as_graphml(g, results_dir, project_name)"
   ]
  },
  {
   "cell_type": "markdown",
   "id": "320e1741-8ece-4226-b9a1-0d592517bc0b",
   "metadata": {},
   "source": [
    "## 7. Subgraph exploration\n",
    "\n",
    "This section explores small subgraphs of the knowledge graph in two ways: first by inspecting the direct neighborhood of a selected node, and second by finding shortest paths between two chosen nodes.\n",
    "\n",
    "As a simple case study, the goal is to identify some nodes in the knowledge graph that are associated with the success story of the drug Imatinib, which was one of the first [targeted therapies](https://en.wikipedia.org/wiki/Targeted_therapy) against cancer. Detailed background information can for example be found in an article by the [National Cancer Institute](https://www.cancer.gov/research/progress/discovery/gleevec) and in a [talk by Brian Druker](https://www.ibiology.org/human-disease/imatinib-paradigm-targeted-cancer-therapies) who played a major role in the development of this paradigm-changing drug. To give a simplified summary, following biological entities and relationships are involved:\n",
    "\n",
    "- Mutation: In a bone marrow stem cell, a translocation event between chromosome 9 and 22 leads to what has been called the [Philadelphia chromosome](https://en.wikipedia.org/wiki/Philadelphia_chromosome), which can be seen under a microscope and got named after the city it originally got discovered in.\n",
    "- Gene: It turned out that this particular rearrangement of DNA fuses the [BCR](https://en.wikipedia.org/wiki/BCR_(gene)) gene on chromosome 22 to the [ABL1](https://en.wikipedia.org/wiki/ABL_(gene)) gene on chromosome 9, resulting in a new fusion gene known as BCR-ABL1.\n",
    "- Disease: BCR-ABL1 acts as an oncogene, because it expresses a protein that is a defective [tyrosine kinase](https://en.wikipedia.org/wiki/Tyrosine_kinase) in a permanent \"on\" state, which leads to uncontrolled growth of certain white blood cells and their precursors, thereby driving the disease [Chronic Myelogenous Leukemia (CML)](https://en.wikipedia.org/wiki/Chronic_myelogenous_leukemia).\n",
    "- Drug: [Imatinib (Gleevec)](https://en.wikipedia.org/wiki/Imatinib) was the first demonstration that a potent and selective [Bcr-Abl tyrosine-kinase inhibitor (TKI)](https://en.wikipedia.org/wiki/Bcr-Abl_tyrosine-kinase_inhibitor) is possible and that such a targeted inhibition of an oncoprotein halts the uncontrolled growth of leukemia cells with BCR-ABL1, while having significantly less effect on other cells in the body compared to conventional chemotherapies used in cancer. This revolutionized the treatment of CML and drastically improved the five-year survival rate of patients from less than 20% to over 90%, as well as their quality of life.\n",
    "\n",
    "In reality the story is a bit more complex, for example because there are other genes involved in disease progression, there are many closely related forms of leukemia, BCR-ABL1 also plays a role in other forms of cancer, there are several drugs available as treatment options today, all of them bind to more than one target and with different affinities, and their individual binding profiles are relevant to their particular therapeutic effects. Inspecting the knowledge graph will focus on highlighting some entities of the simplified story, but the surrounding elements will also indicate some of the complexity encountered in reality. Some simple forms of reasoning on the knowledge graph will demonstrate its potential for discovering new patterns and hypotheses.\n",
    "\n",
    "### a) Search for interesting nodes\n",
    "\n",
    "The OREGANO knowledge graph mainly consists of abstract identifiers for entities rather than names or descriptions. Therefore a search in external databases on the web is necessary to identify interesting entities."
   ]
  },
  {
   "cell_type": "code",
   "execution_count": null,
   "id": "569460fa-3f0c-4cea-aec2-f4da3726e813",
   "metadata": {},
   "outputs": [],
   "source": [
    "def print_vertex(v):\n",
    "    print(v.index)\n",
    "    for k, v in v.attributes().items():\n",
    "        if v is not None:\n",
    "            print(f\"- {k}: {v}\")"
   ]
  },
  {
   "cell_type": "markdown",
   "id": "bda49b92-e0ac-4621-a69e-b750e34192de",
   "metadata": {},
   "source": [
    "#### Drugs\n",
    "\n",
    "- Search for drugs online to get their DrugBank Accession Numbers: https://go.drugbank.com/drugs\n",
    "  - Example: [Imatinib](https://go.drugbank.com/drugs/DB00619) shows `DrugBank Accession Number DB00619`"
   ]
  },
  {
   "cell_type": "code",
   "execution_count": null,
   "id": "4bfb3af9-0373-4641-972d-cf5c0f36da41",
   "metadata": {},
   "outputs": [],
   "source": [
    "def find_node_by_drugbank_id(graph, drugbank_id):\n",
    "    for v in graph.vs:\n",
    "        if v[\"DRUGBANK\"] == drugbank_id:\n",
    "            print_vertex(v)\n",
    "            print()"
   ]
  },
  {
   "cell_type": "code",
   "execution_count": null,
   "id": "ec875894-ce3b-4ccd-baf8-7dfb9c11717c",
   "metadata": {},
   "outputs": [],
   "source": [
    "# Drug: Imatinib - with DrugBank accession number \"DB00619\"\n",
    "find_node_by_drugbank_id(g, \"DB00619\")"
   ]
  },
  {
   "cell_type": "markdown",
   "id": "1bd5c2b6-1cc4-4aec-9d56-6999e9dae5ee",
   "metadata": {},
   "source": [
    "#### Genes\n",
    "\n",
    "- Search for genes online to get their NCBI Gene ID: https://www.ncbi.nlm.nih.gov/gene\n",
    "  - Example: [ABL1](https://www.ncbi.nlm.nih.gov/gene/25) shows `Gene ID: 25`"
   ]
  },
  {
   "cell_type": "code",
   "execution_count": null,
   "id": "5914db1c-4e39-4762-822d-43bbc48f8b60",
   "metadata": {},
   "outputs": [],
   "source": [
    "def find_node_by_ncbi_gene_id(graph, ncbi_gene_id):\n",
    "    for v in graph.vs:\n",
    "        if v[\"NCBI GENE\"] == ncbi_gene_id:\n",
    "            print_vertex(v)\n",
    "            print()"
   ]
  },
  {
   "cell_type": "code",
   "execution_count": null,
   "id": "608da93b-c88e-4637-9560-489ca0cd703c",
   "metadata": {},
   "outputs": [],
   "source": [
    "# Gene: ABL1 - with NCBI Gene ID \"25\"\n",
    "find_node_by_ncbi_gene_id(g, \"25\")"
   ]
  },
  {
   "cell_type": "markdown",
   "id": "689df6cc-b530-4630-b4f9-391277735535",
   "metadata": {},
   "source": [
    "#### Diseases\n",
    "\n",
    "- Online search for diseases to get their MeSH (Medical Subject Headings) Unique ID: https://www.ncbi.nlm.nih.gov/mesh\n",
    "  - Example: [Leukemia, Myelogenous, Chronic, BCR-ABL Positive](https://www.ncbi.nlm.nih.gov/mesh/68015464) shows `MeSH Unique ID: D015464`\n",
    "  - Example: [Leukemia, Myeloid, Acute](https://www.ncbi.nlm.nih.gov/mesh/68015470) shows `MeSH Unique ID: D015470`"
   ]
  },
  {
   "cell_type": "code",
   "execution_count": null,
   "id": "1323c568-5f45-46a2-8d0b-c2fe68cad559",
   "metadata": {},
   "outputs": [],
   "source": [
    "def find_node_by_mesh_id(graph, mesh_id):\n",
    "    for v in graph.vs:\n",
    "        if v[\"MESH\"] == mesh_id:\n",
    "            print(v[\"name\"])"
   ]
  },
  {
   "cell_type": "code",
   "execution_count": null,
   "id": "ffc33a1d-08cd-44d3-a435-0ffde0381f61",
   "metadata": {},
   "outputs": [],
   "source": [
    "# Disease: Chronic Myelogenous Leukemia (CML) - with MeSH ID \"D015464\"\n",
    "find_node_by_mesh_id(g, \"D015464\")"
   ]
  },
  {
   "cell_type": "code",
   "execution_count": null,
   "id": "e6faf80f-c7b1-4000-8be3-e80cf8d2ffa6",
   "metadata": {},
   "outputs": [],
   "source": [
    "# Disease: Acute Myelogenous Leukemia (AML) - with MeSH ID \"D015470\"\n",
    "find_node_by_mesh_id(g, \"D015470\")"
   ]
  },
  {
   "cell_type": "markdown",
   "id": "4b81780f-8ee9-42cf-858b-d3913030dc6c",
   "metadata": {},
   "source": [
    "### b) Explore the neighborhood of a chosen node"
   ]
  },
  {
   "cell_type": "code",
   "execution_count": null,
   "id": "14b46077-9ca0-432d-90b0-b035564deeff",
   "metadata": {},
   "outputs": [],
   "source": [
    "# Neighborhood of drug Imatinib\n",
    "source = \"COMPOUND:605\"\n",
    "subgraph = shared_bmkg.get_egocentric_subgraph(g, source)\n",
    "\n",
    "# Export\n",
    "filename = f\"{project_name}_neighbors_imatinib\"\n",
    "shared_bmkg.export_graph_as_graphml(subgraph, results_dir, filename)\n",
    "shared_bmkg.export_nodes_as_csv(nodes, results_dir, filename, subgraph)\n",
    "shared_bmkg.export_edges_as_csv(edges, results_dir, filename, subgraph)\n",
    "\n",
    "# Report\n",
    "shared_bmkg.report_graph_stats(subgraph)\n",
    "shared_bmkg.visualize_graph(subgraph, node_type_to_color, source)"
   ]
  },
  {
   "cell_type": "markdown",
   "id": "e9504f30-560d-45eb-8844-3f3722f1e826",
   "metadata": {},
   "source": [
    "Interpretation:\n",
    "- Compound-Compound relations: The compound Imatinib (green node in the center) stands in two relations (mainly \"decrease_efficiency\", a few cases of \"increase_efficiency\") to a lot of other compounds (green nodes).\n",
    "  - Example: `COMPOUND:536` represents [Propylthiouracil](https://en.wikipedia.org/wiki/Propylthiouracil) and interacts with a lot of compounds that also interact with Imatinib, seen as a dense cluster of green nodes in the visualization. A second cluster is formed by `COMPOUND:1053` which represents [Fludarabine](https://en.wikipedia.org/wiki/Fludarabine) and interacts with many of the same compounds. Why this is the case remains unclear, since an online search does not reveal any obvious connection between Imatinib, Propylthiouracil and Fludarabine.\n",
    "- As before, there are many Compound-Gene and Gene-Disease relations present in this subgraph.\n",
    "  - Example: `DISEASE:1228` has MeSH id [D046152](https://meshb.nlm.nih.gov/record/ui?ui=D046152) and represents \"Gastrointestinal Stromal Tumors (GIST)\". Imatinib stands in a \"is_substance_that_treats\" relation to it. This is facilitated by Imatinib standing in a \"is_affecting\" relation with a lot of genes that in turn stand in a \"causes_condition\" relation to this disease. For example, `GENE:9737` represents the tyrosine kinase [KIT](https://en.wikipedia.org/wiki/KIT_(gene)), which is a proto-oncogene that is indeed targeted by Imatinib and associated with \"gastrointestinal stromal tumors\", \"acute myeloid leukemia\" and a few other diseases according to Wikipedia, which is also reflected in the subgraph.\n",
    "- In contrast to before, this subgraph also contains nodes of type Effect or Activity (black nodes)."
   ]
  },
  {
   "cell_type": "code",
   "execution_count": null,
   "id": "06db1a00-b2b1-487c-98d9-b68f503f7841",
   "metadata": {},
   "outputs": [],
   "source": [
    "# Neighborhood of gene ABL1\n",
    "source = \"GENE:117\"\n",
    "subgraph = shared_bmkg.get_egocentric_subgraph(g, source)\n",
    "\n",
    "# Export\n",
    "filename = f\"{project_name}_neighbors_abl1\"\n",
    "shared_bmkg.export_graph_as_graphml(subgraph, results_dir, filename)\n",
    "shared_bmkg.export_nodes_as_csv(nodes, results_dir, filename, subgraph)\n",
    "shared_bmkg.export_edges_as_csv(edges, results_dir, filename, subgraph)\n",
    "\n",
    "# Report\n",
    "shared_bmkg.report_graph_stats(subgraph)\n",
    "shared_bmkg.visualize_graph(subgraph, node_type_to_color, source)"
   ]
  },
  {
   "cell_type": "markdown",
   "id": "a8dc3aab-2002-42eb-b5c1-0d41449f284b",
   "metadata": {},
   "source": [
    "Interpretation:\n",
    "- Gene-Disease relations: The gene ABL1 (blue node in the center) stands in a \"causes_condition\" relation to 6 diseases (red nodes).\n",
    "  - Example: Among the disease nodes is `DISEASE:1822`, which represents CML as seen before.\n",
    "- Compound-Gene relations: There are 12 compounds (green nodes) that stand in a \"is_affecting\" relation to the gene ABL1.\n",
    "  - Example: Among the compound nodes is `COMPOUND:605`, which represents Imatinib as seen before. This compound in turn stands in a \"is_substance_that_treats\" relation to two diseases, where `DISEASE:1822` represents CML and `DISEASE:2199` represents Neoplasms in general. This can be determined by hovering over it to see its MeSH id and then perform an online search with it that results in [D009369](https://meshb.nlm.nih.gov/record/ui?ui=D009369). "
   ]
  },
  {
   "cell_type": "code",
   "execution_count": null,
   "id": "3f3e36c9-a92f-4159-ba3d-3d853f5afa5b",
   "metadata": {},
   "outputs": [],
   "source": [
    "# Neighborhood of disease CML\n",
    "source = \"DISEASE:1822\"\n",
    "subgraph = shared_bmkg.get_egocentric_subgraph(g, source)\n",
    "\n",
    "# Export\n",
    "filename = f\"{project_name}_neighbors_cml\"\n",
    "shared_bmkg.export_graph_as_graphml(subgraph, results_dir, filename)\n",
    "shared_bmkg.export_nodes_as_csv(nodes, results_dir, filename, subgraph)\n",
    "shared_bmkg.export_edges_as_csv(edges, results_dir, filename, subgraph)\n",
    "\n",
    "# Report\n",
    "shared_bmkg.report_graph_stats(subgraph)\n",
    "shared_bmkg.visualize_graph(subgraph, node_type_to_color, source)"
   ]
  },
  {
   "cell_type": "markdown",
   "id": "4de6932d-3d76-42d6-b829-d3acadbb665a",
   "metadata": {},
   "source": [
    "Interpretation:\n",
    "- Gene-Disease relations: There are 22 genes (blue nodes) that stand in a \"causes_condition\" relation with the disease CML (red node in the center). The edge types can be seen when hovering over an arrow. The schema detection in a previous section also clarified that there is only this particular edge type between gene and disease nodes.\n",
    "  - Examples: `GENE:117` is ABL1 and `GENE:1648` is BCR, which was also detected in the node search and can be seen when hovering over them and looking at the GENECARD property. From the Imatinib story it was expected to see these genes here, while others might be more informative.\n",
    "- Compound-Disease relations: There are 2 compounds (green nodes) that stand in a \"is_substance_that_treats\" relation with the disease CML.\n",
    "  - Examples: `COMPOUND:605` is Imatinib and `COMPOUND:90342` is Methotrexate, which can be seen when hovering over them and looking at the URL property that refers to Wikipedia."
   ]
  },
  {
   "cell_type": "markdown",
   "id": "1e231929-01ca-4a88-888e-56f2c05f58bf",
   "metadata": {},
   "source": [
    "### c) Find shortest paths between two chosen nodes"
   ]
  },
  {
   "cell_type": "code",
   "execution_count": null,
   "id": "205c4717-f13c-4f94-9826-c58481a4bcf4",
   "metadata": {},
   "outputs": [],
   "source": [
    "# Paths from drug Imatinib to disease AML\n",
    "source = \"COMPOUND:605\"\n",
    "target = \"DISEASE:1824\"\n",
    "subgraph = shared_bmkg.get_paths_subgraph(g, source, target)\n",
    "\n",
    "# Report\n",
    "shared_bmkg.report_graph_stats(subgraph)\n",
    "shared_bmkg.visualize_graph(subgraph, node_type_to_color, source, target)"
   ]
  },
  {
   "cell_type": "markdown",
   "id": "baf89bfe-425b-4cda-a413-0079a51c0f8d",
   "metadata": {},
   "source": [
    "Interpretation:\n",
    "- As mentioned before, Imatinib (green node on the left) is not only used in the treatment of the disease CML, but also affecting other diseases, including AML (red node on the right). There is no direct link between Imatinib and AML present in the OREGANO knowledge graph, but this subgraph shows some genes (blue nodes in the middle) by which the effect of Imatinib on AML might be facilitated.\n",
    "- A simple pattern like this suggests that a link between Imatinib and AML could be discovered by a suitable link prediction method. Similar but perhaps a bit more complex patterns between other nodes may uncover indirect relationships between compounds and diseases that are not yet known. This is one way of forming drug repurposing hypotheses, which means that a drug that has already been shown in clinical trials to be safe to humans could potentially be effective in the treatment of another disease too and thereby find a new purpose."
   ]
  }
 ],
 "metadata": {
  "kernelspec": {
   "display_name": "Python 3 (ipykernel)",
   "language": "python",
   "name": "python3"
  },
  "language_info": {
   "codemirror_mode": {
    "name": "ipython",
    "version": 3
   },
   "file_extension": ".py",
   "mimetype": "text/x-python",
   "name": "python",
   "nbconvert_exporter": "python",
   "pygments_lexer": "ipython3",
   "version": "3.12.4"
  }
 },
 "nbformat": 4,
 "nbformat_minor": 5
}
