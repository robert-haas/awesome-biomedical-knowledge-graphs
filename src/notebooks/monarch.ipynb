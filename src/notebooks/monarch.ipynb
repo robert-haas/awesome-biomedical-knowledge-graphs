{
 "cells": [
  {
   "cell_type": "markdown",
   "id": "e6970235-b70f-4d93-9298-76cb1d34160b",
   "metadata": {},
   "source": [
    "# Monarch\n",
    "\n",
    "This notebook explores the biomedical knowledge graph provided by the project **Monarch**: [Publication (2024)](https://doi.org/10.1093/nar/gkad1082), [Website](https://monarchinitiative.org/), [Code](https://github.com/monarch-initiative/monarch-ingest), [Data](https://data.monarchinitiative.org/monarch-kg/index.html)\n",
    "\n",
    "The source file of this notebook is [monarch.ipynb](https://github.com/robert-haas/awesome-biomedical-knowledge-graphs/blob/main/src/notebooks/monarch.ipynb) and can be found in the repository [awesome-biomedical-knowledge-graphs](https://github.com/robert-haas/awesome-biomedical-knowledge-graphs) that also contains information about similar projects.\n",
    "\n",
    "## Table of contents\n",
    "\n",
    "1. [Setup](#1.-Setup)\n",
    "2. [Data download](#2.-Data-download)\n",
    "3. [Data import](#3.-Data-import)\n",
    "4. [Data inspection](#4.-Data-inspection)\n",
    "5. [Schema discovery](#5.-Schema-discovery)\n",
    "6. [Knowledge graph reconstruction](#6.-Knowledge-graph-reconstruction)\n",
    "7. [Subgraph exploration](#7.-Subgraph-exploration)"
   ]
  },
  {
   "cell_type": "markdown",
   "id": "121fa16a-5c8e-47eb-89a2-68de3d795f33",
   "metadata": {},
   "source": [
    "## 1. Setup\n",
    "\n",
    "This section prepares the environment for the following exploratory data analysis.\n",
    "\n",
    "### a) Import packages\n",
    "\n",
    "From the [Python standard library](https://docs.python.org/3/library/index.html)."
   ]
  },
  {
   "cell_type": "code",
   "execution_count": null,
   "id": "7753c427-678d-437b-9877-f79f2628e830",
   "metadata": {},
   "outputs": [],
   "source": [
    "import os"
   ]
  },
  {
   "cell_type": "markdown",
   "id": "89a0fd3f-4d8e-415f-846d-e82b4e353fa1",
   "metadata": {},
   "source": [
    "From the [Python Package Index (PyPI)](https://pypi.org)."
   ]
  },
  {
   "cell_type": "code",
   "execution_count": null,
   "id": "c739d569-068c-4cb5-b7ee-f4830602736b",
   "metadata": {},
   "outputs": [],
   "source": [
    "import dask.dataframe as dd\n",
    "import gravis as gv\n",
    "import igraph as ig"
   ]
  },
  {
   "cell_type": "markdown",
   "id": "adf9cd34-45ed-4fe1-b254-9456cfe54b02",
   "metadata": {},
   "source": [
    "From a local Python module named [shared_bmkg.py](https://github.com/robert-haas/awesome-biomedical-knowledge-graphs/blob/main/src/notebooks/shared_bmkg.py). The functions in it are used in several similar notebooks to reduce code repetition and to improve readability."
   ]
  },
  {
   "cell_type": "code",
   "execution_count": null,
   "id": "480d3c54-79e4-4ef8-a352-4dd1812f2559",
   "metadata": {},
   "outputs": [],
   "source": [
    "import shared_bmkg"
   ]
  },
  {
   "cell_type": "markdown",
   "id": "154692d1-dd89-4289-a345-54d5e32f26eb",
   "metadata": {},
   "source": [
    "### b) Create data directories\n",
    "\n",
    "The raw data provided by the project and the transformed data generated throughout this notebook are stored in separate directories. If the notebook is run more than once, the downloaded data is reused instead of fetching it again, but all data transformations are rerun."
   ]
  },
  {
   "cell_type": "code",
   "execution_count": null,
   "id": "5508cc4b-02fd-42a0-97e3-e8e6ccaded3d",
   "metadata": {},
   "outputs": [],
   "source": [
    "project_name = \"monarch\"\n",
    "download_dir = os.path.join(project_name, \"downloads\")\n",
    "results_dir = os.path.join(project_name, \"results\")\n",
    "\n",
    "shared_bmkg.create_dir(download_dir)\n",
    "shared_bmkg.create_dir(results_dir)"
   ]
  },
  {
   "cell_type": "markdown",
   "id": "ef1bd25a-1ec1-439b-84b7-a1fc2335cee3",
   "metadata": {},
   "source": [
    "## 2. Data download\n",
    "\n",
    "This section fetches the data published by the project in a [data repository on a custom web server](https://data.monarchinitiative.org/monarch-kg/index.html). The latest available version at the time of creating this notebook was used: `2024-07-12`.\n",
    "\n",
    "### All files provided by the project\n",
    "\n",
    "Monarch provides regular updates of its data and provides it in many different formats.\n",
    "\n",
    "- TSV files\n",
    "  - `monarch-kg.tar.gz`: [Tarball](https://en.wikipedia.org/wiki/Tar_(computing)) archive with two files\n",
    "    - `monarch-kg_nodes.tsv`: Nodes and node annotations\n",
    "    - `monarch-kg_edges.tsv`: Edges and edge annotations\n",
    "  - `monarch-kg-denormalized-edges.tsv.gz`\n",
    "  - `monarch-kg-denormalized-nodes.tsv.gz`\n",
    "- Database dumps\n",
    "  - `monarch-kg.db.gz`: [SQLite](https://en.wikipedia.org/wiki/SQLite) relational database\n",
    "  - `monarch-kg.duckdb.gz`: [DuckDB](https://en.wikipedia.org/wiki/DuckDB) relational database\n",
    "  - `monarch-kg.neo4j.dump`: [Neo4j](https://en.wikipedia.org/wiki/Neo4j) graph database\n",
    "- RDF files\n",
    "  - `monarch-kg.jsonl.tar.gz`: [JSON-LD](https://en.wikipedia.org/wiki/JSON-LD) file\n",
    "  - `monarch-kg.nt.gz`: [N-Triples](https://en.wikipedia.org/wiki/N-Triples) file\n",
    "- Metadata\n",
    "  - `metadata.yaml`\n",
    "  - `merged_graph_stats.yaml`\n",
    "  - `qc_report.yaml`\n",
    "- Other\n",
    "  - `phenio.db.gz`: Phenomics Integrated Ontology database\n",
    "  - `solr.tar.gz`: Solr index for the website's search function\n",
    "\n",
    "Remarks in the publication:\n",
    "- \"For users who want to integrate Monarch’s KG into their own datasets or analysis pipelines, we use Knowledge Graph Exchange (KGX) tools to serialize to various formats (e.g. SQLite, Neo4J, RDF, KGX).\"\n",
    "- \"the Monarch Knowledge Graph (KG), which comprises the combined knowledge of 33 biomedical resources and biomedical ontologies (see Data Sources below), and is updated with the latest data from each source once a month.\"\n",
    "- \"ontologies are integrated into a ‘semantic layer,’ a Biolink-conformant representation of the Phenomics Integrated Ontology (PHENIO; github.com/monarch-initiative/phenio), which serves as a hierarchical schema and classification system for the integrated data.\"\n",
    "\n",
    "### Files needed to create the knowledge graph\n",
    "\n",
    "- `monarch-kg.tar.gz` contains all information required for reconstructing the knowledge graph.\n",
    "- Alternatively, many other formats are provided and could be used instead."
   ]
  },
  {
   "cell_type": "code",
   "execution_count": null,
   "id": "9aa65396-8ec9-4e6e-8976-e705ae2d59c9",
   "metadata": {},
   "outputs": [],
   "source": [
    "download_specification = [\n",
    "    # TAR archive of two files that contain the knowledge graph and annotations for nodes and edges\n",
    "    # - monarch-kg_nodes.tsv: TSV file that contains the node data\n",
    "    # - monarch-kg_edges.tsv: TSV file that contains the edge data\n",
    "    (\"monarch-kg.tar.gz\", \"https://data.monarchinitiative.org/monarch-kg/2024-07-12/monarch-kg.tar.gz\", \"df24db3c3b743c5829af71b6cd41c9fb\"),\n",
    "]\n",
    "\n",
    "for filename, url, md5 in download_specification:\n",
    "    filepath = os.path.join(download_dir, filename)\n",
    "    shared_bmkg.fetch_file(url, filepath)\n",
    "    shared_bmkg.validate_file(filepath, md5)\n",
    "    print()"
   ]
  },
  {
   "cell_type": "code",
   "execution_count": null,
   "id": "ae7f9e92-05f8-44ac-b1ff-de5a960f6093",
   "metadata": {},
   "outputs": [],
   "source": [
    "filepath_extracted_1 = os.path.join(download_dir, \"monarch-kg_nodes.tsv\")\n",
    "filepath_extracted_2 = os.path.join(download_dir, \"monarch-kg_edges.tsv\")\n",
    "\n",
    "if os.path.isfile(filepath_extracted_1) and os.path.isfile(filepath_extracted_2):\n",
    "    print(\"Found existing files from a previous extraction of the archive.\")\n",
    "else:\n",
    "    filepath = os.path.join(download_dir, \"monarch-kg.tar.gz\")\n",
    "    shared_bmkg.extract_tar_gz(filepath)"
   ]
  },
  {
   "cell_type": "markdown",
   "id": "87559690-fc84-4f16-8153-bcf33e59114d",
   "metadata": {},
   "source": [
    "## 3. Data import\n",
    "\n",
    "This section loads the raw files into Python data structures for the following inspection and conversion."
   ]
  },
  {
   "cell_type": "code",
   "execution_count": null,
   "id": "d68e8def-acf8-45f2-82b2-d8d5d4938fd2",
   "metadata": {},
   "outputs": [],
   "source": [
    "def read_tsv_file(filepath):\n",
    "    with open(filepath) as f:\n",
    "        # A Dask dataframe, not Pandas\n",
    "        df = dd.read_csv(filepath, sep='\\t', dtype=str)\n",
    "    return df"
   ]
  },
  {
   "cell_type": "code",
   "execution_count": null,
   "id": "6ec4ff77-5a6e-48e5-beb8-9455d4d8dcc6",
   "metadata": {},
   "outputs": [],
   "source": [
    "%%time\n",
    "\n",
    "df_nodes = read_tsv_file(os.path.join(download_dir, \"monarch-kg_nodes.tsv\"))\n",
    "df_edges = read_tsv_file(os.path.join(download_dir, \"monarch-kg_edges.tsv\"))"
   ]
  },
  {
   "cell_type": "markdown",
   "id": "3d7db746-5557-4fa6-8e98-6227b08df909",
   "metadata": {},
   "source": [
    "## 4. Data inspection\n",
    "\n",
    "This section attempts to reproduce some published numbers by inspecting the raw data and then prints a few exemplary records.\n",
    "\n",
    "The file [merged_graph_stats.yaml](https://data.monarchinitiative.org/monarch-kg/2024-06-10/merged_graph_stats.yaml) of the 2024-06-10 release mentions following statistics about the knowledge graph contents, which can be found in the entries `total_nodes`, `total_edges`, `predicates` (number of entries), `node_categories` (number of entries):\n",
    "- 1,028,155 nodes having 80 different node types\n",
    "- 11,076,689 edges having 28 different edge types\n",
    "\n",
    "\n",
    "### a) Number of nodes and edges"
   ]
  },
  {
   "cell_type": "code",
   "execution_count": null,
   "id": "2702777e-d354-4c98-81ee-18b5f8c29a64",
   "metadata": {},
   "outputs": [],
   "source": [
    "%%time\n",
    "\n",
    "num_nodes = len(df_nodes)\n",
    "num_edges = len(df_edges)\n",
    "\n",
    "print(f\"{num_nodes:,} nodes\")\n",
    "print(f\"{num_edges:,} edges\")\n",
    "print()"
   ]
  },
  {
   "cell_type": "markdown",
   "id": "5ac9166f-f744-4f51-b5b1-d02d5cbcc421",
   "metadata": {},
   "source": [
    "Interpretation:\n",
    "- Inspecting the raw data resulted in **1,028,155 nodes**, which matches the number mentioned in the stats file.\n",
    "- Inspecting the raw data resulted in **11,076,689 edges**, which matches the number mentioned in the stats file."
   ]
  },
  {
   "cell_type": "markdown",
   "id": "e3705e13-78f5-4a0b-9122-6c5eb92ba3f7",
   "metadata": {},
   "source": [
    "### b) Types of nodes and edges"
   ]
  },
  {
   "cell_type": "code",
   "execution_count": null,
   "id": "cc423e23-9bce-43b6-9cff-90211f2f60b2",
   "metadata": {},
   "outputs": [],
   "source": [
    "%%time\n",
    "\n",
    "nt_column = \"category\"\n",
    "nt_counts = df_nodes.groupby(nt_column).size().compute()\n",
    "nt_counts = nt_counts.sort_values(ascending=False)\n",
    "\n",
    "print(len(nt_counts), \"node types, sorted by their frequency of occurrence:\")\n",
    "for type, cnt in sorted(nt_counts.items(), key=lambda item: -item[1]):\n",
    "    print(f\"- {type}: {cnt}\")\n",
    "print()"
   ]
  },
  {
   "cell_type": "code",
   "execution_count": null,
   "id": "c034fb51-5fa5-435a-b84c-1d26cd8a32dd",
   "metadata": {},
   "outputs": [],
   "source": [
    "%%time\n",
    "\n",
    "et_column = \"predicate\"\n",
    "et_counts = df_edges.groupby(et_column).size().compute()\n",
    "et_counts = et_counts.sort_values(ascending=False)\n",
    "\n",
    "print(len(et_counts), \"edge types, sorted by their frequency:\")\n",
    "for key, val in et_counts.items():\n",
    "    print(f\"- {key}: {val}\")\n",
    "print()"
   ]
  },
  {
   "cell_type": "code",
   "execution_count": null,
   "id": "15db6221-639e-4b3a-ba03-929897533fb3",
   "metadata": {},
   "outputs": [],
   "source": [
    "# Correctness checks\n",
    "\n",
    "# 1) Do the counts of different node types add up to the total number of nodes?\n",
    "sum_node_types = nt_counts.sum()\n",
    "assert sum_node_types == num_nodes, f\"Node counts differ: {sum_node_types} != {num_nodes}\"\n",
    "print(f\"{sum_node_types:,} = {num_nodes:,} nodes\")\n",
    "\n",
    "# 2) Do the counts of different edge types add up to the total number of edges?\n",
    "sum_edge_types = et_counts.sum()\n",
    "assert sum_edge_types == num_edges, f\"Edge counts differ: {sum_edge_types} != {num_edges}\"\n",
    "print(f\"{sum_edge_types:,} = {num_edges:,} edges\")"
   ]
  },
  {
   "cell_type": "markdown",
   "id": "2357397e-1e84-4194-8385-f08e1b94d3ee",
   "metadata": {},
   "source": [
    "Interpretation:\n",
    "- Inspecting the raw data resulted in **80 node types**, which matches the number mentioned in the stats file.\n",
    "- Inspecting the raw data resulted in **28 edge types**, which matches the number mentioned in the stats file.\n",
    "- Looking at **relative frequencies of node and edge types** suggests that the dataset is rather unbalanced.\n",
    "  - The most frequent node type is \"biolink:Gene\" with 571,074 instances, while the least frequent node types only have 1 instance each.\n",
    "  - The most frequent edge type is \"biolink:interacts_with\" with 2,799,181 instances, while the least frequent edge type is \"biolink:acts_upstream_of_or_within_negative_effect\" with 180 instances, a difference of four orders of magnitude."
   ]
  },
  {
   "cell_type": "markdown",
   "id": "a0b82303-fa37-46cc-9677-64611d7cb600",
   "metadata": {},
   "source": [
    "### c) Example entries\n",
    "\n",
    "This section prints some example entries of the raw data. It gives an impression of the format chosen by the authors, which differs greatly between projects due to a lack of a broadly accepted standard for biomedical knowledge graphs."
   ]
  },
  {
   "cell_type": "code",
   "execution_count": null,
   "id": "6d3bc528-27d0-4abb-8beb-7797883953fc",
   "metadata": {},
   "outputs": [],
   "source": [
    "def report_first_n_items(data, n):\n",
    "    return data.head(n)"
   ]
  },
  {
   "cell_type": "code",
   "execution_count": null,
   "id": "276081ef-e5e2-4785-a93d-61d53d2d98aa",
   "metadata": {},
   "outputs": [],
   "source": [
    "def report_last_n_items(data, n):\n",
    "    return data.tail(n)"
   ]
  },
  {
   "cell_type": "markdown",
   "id": "51d57485-25ea-496a-a660-5107876d2932",
   "metadata": {},
   "source": [
    "#### Nodes together with node annotations"
   ]
  },
  {
   "cell_type": "code",
   "execution_count": null,
   "id": "beb50843-b179-4253-955f-0e31fc7baf43",
   "metadata": {},
   "outputs": [],
   "source": [
    "report_first_n_items(df_nodes, 2)"
   ]
  },
  {
   "cell_type": "code",
   "execution_count": null,
   "id": "23954093-d9fa-480c-88f1-c781f32c68e1",
   "metadata": {},
   "outputs": [],
   "source": [
    "report_last_n_items(df_nodes, 2)"
   ]
  },
  {
   "cell_type": "markdown",
   "id": "14266c74-054e-443f-ace2-ff1f02c1ce20",
   "metadata": {},
   "source": [
    "#### Edges together with edge annotations"
   ]
  },
  {
   "cell_type": "code",
   "execution_count": null,
   "id": "fed44a0b-69b4-4ba5-b29f-f083694989bd",
   "metadata": {},
   "outputs": [],
   "source": [
    "report_first_n_items(df_edges, 2)"
   ]
  },
  {
   "cell_type": "code",
   "execution_count": null,
   "id": "7f1a2d21-556d-4f50-b0b2-6cb4baa3d0a0",
   "metadata": {},
   "outputs": [],
   "source": [
    "report_last_n_items(df_edges, 2)"
   ]
  },
  {
   "cell_type": "markdown",
   "id": "a6c3f9e7-f72d-49c3-840e-abd1ad104fb2",
   "metadata": {},
   "source": [
    "## 5. Schema discovery\n",
    "\n",
    "This section analyzes the structure of the knowledge graph by determining which types of nodes are connected by which types of edges. To construct this overview, it is necessary to iterate over the entire data once. The result is a condensed representation of all entities and relations, which is known as [data model](https://neo4j.com/docs/getting-started/data-modeling/guide-data-modeling/#whiteboard-friendly) or [schema](https://memgraph.com/docs/fundamentals/graph-modeling#designing-a-graph-database-schema) in the context of graph databases."
   ]
  },
  {
   "cell_type": "code",
   "execution_count": null,
   "id": "a1ad2326-0193-4d35-967d-ffd0caafb2a7",
   "metadata": {},
   "outputs": [],
   "source": [
    "node_type_to_color = {\n",
    "    \"biolink:Drug\": \"green\",\n",
    "    \"biolink:ChemicalEntity\": \"green\",\n",
    "    \"biolink:MolecularEntity\": \"green\",\n",
    "    \"biolink:SmallMolecule\": \"green\",\n",
    "\n",
    "    \"biolink:Gene\": \"blue\",\n",
    "    \"biolink:Protein\": \"blue\",\n",
    "\n",
    "    \"biolink:Disease\": \"red\",\n",
    "    \"biolink:Pathway\": \"red\",\n",
    "    \"biolink:BiologicalProcessOrActivity\": \"red\",\n",
    "}"
   ]
  },
  {
   "cell_type": "code",
   "execution_count": null,
   "id": "34acf79c-91ca-48ea-9f6b-581087d09755",
   "metadata": {},
   "outputs": [],
   "source": [
    "%%time\n",
    "\n",
    "node_id_to_type = {row.id: row.category for row in df_nodes.itertuples()}"
   ]
  },
  {
   "cell_type": "code",
   "execution_count": null,
   "id": "62fa05f2-778b-4fe3-bb9f-c46b54928bfa",
   "metadata": {},
   "outputs": [],
   "source": [
    "%%time\n",
    "\n",
    "unique_triples = set()\n",
    "for row in df_edges.itertuples():\n",
    "    s = node_id_to_type[row.subject]\n",
    "    p = row.predicate\n",
    "    o = node_id_to_type[row.object]\n",
    "    triple = (s, p, o)\n",
    "    unique_triples.add(triple)"
   ]
  },
  {
   "cell_type": "code",
   "execution_count": null,
   "id": "396e14d1-aaae-40e5-ad5b-0e757d996e6f",
   "metadata": {},
   "outputs": [],
   "source": [
    "gs = ig.Graph(directed=True)\n",
    "unique_nodes = set()\n",
    "for s, p, o in unique_triples:\n",
    "    for node in (s, o):\n",
    "        if node not in unique_nodes:\n",
    "            unique_nodes.add(node)\n",
    "            \n",
    "            node_size = int(nt_counts[node])\n",
    "            node_color = node_type_to_color.get(node, '')\n",
    "            node_hover = f\"{node}\\n\\n{nt_counts[node]} nodes of this type are contained in the knowledge graph.\"\n",
    "            gs.add_vertex(node, size=node_size, color=node_color, label_color=node_color, hover=node_hover)\n",
    "\n",
    "    edge_size = int(et_counts[p])\n",
    "    edge_color = node_type_to_color.get(s, '')\n",
    "    edge_hover = f\"{p}\\n\\n{et_counts[p]} edges of this type are contained in the knowledge graph.\"\n",
    "    gs.add_edge(s, o, size=edge_size, color=edge_color, hover=edge_hover, label=p, label_color=\"gray\", label_size=5)\n",
    "\n",
    "gs.vcount(), gs.ecount()"
   ]
  },
  {
   "cell_type": "code",
   "execution_count": null,
   "id": "288f937b-a354-41f2-ad60-eae92a7786e3",
   "metadata": {},
   "outputs": [],
   "source": [
    "fig = gv.d3(\n",
    "    gs,\n",
    "    show_node_label=True,\n",
    "    node_label_data_source=\"name\",\n",
    "\n",
    "    show_edge_label=True,\n",
    "    edge_label_data_source=\"label\",\n",
    "    edge_curvature=0.2,\n",
    "\n",
    "    use_node_size_normalization=True,\n",
    "    node_size_normalization_min=10,\n",
    "    node_size_normalization_max=50,\n",
    "    node_drag_fix=True,\n",
    "    node_hover_neighborhood=True,\n",
    "    \n",
    "    use_edge_size_normalization=True,\n",
    "    edge_size_normalization_max=3,\n",
    "\n",
    "    many_body_force_strength=-3000,\n",
    "    zoom_factor=0.3,\n",
    ")\n",
    "fig"
   ]
  },
  {
   "cell_type": "code",
   "execution_count": null,
   "id": "bc498335-9815-4bc6-b0bf-3bdc0c2df75e",
   "metadata": {},
   "outputs": [],
   "source": [
    "# Export the schema visualization\n",
    "schema_filepath = os.path.join(results_dir, f\"{project_name}_schema.html\")\n",
    "fig.export_html(schema_filepath, overwrite=True)"
   ]
  },
  {
   "cell_type": "markdown",
   "id": "f80d097b-cc3d-4124-99df-924a20f8e95a",
   "metadata": {},
   "source": [
    "Interpretation:\n",
    "- Each node in the schema corresponds to one of the 80 node types in the data.\n",
    "  - *Node size* represents the number of instances, i.e. how often that node type is present in the knowledge graph. The exact number can also be seen when hovering over a node.\n",
    "  - *Node color* represents particular node types. The coloring scheme is based on a deliberately simple RGB palette with the same meaning across multiple notebooks to enable some visual comparison. The idea behind it is to highlight an interplay of certain entities, namely that drugs (or small molecules in general) can bind to proteins (or gene products in general) and thereby alter diseases (or involved pathways).\n",
    "    - *green* = drugs & other small molecules (e.g. toxins)\n",
    "    - *blue* = genes & gene products (e.g. proteins or RNAs)\n",
    "    - *red* = diseases & related concepts (e.g. pathways)\n",
    "    - *black* = all other types of entities\n",
    "- Each edge in the schema stands for one of the 28 edge types in the data. It is possible that the same edge type appears between different nodes.\n",
    "  - *Edge size* represents the number of instances, i.e. how often that edge type is present in the knowledge graph.\n",
    "  - *Edge color* is identical to the color of the source node, again to highlight the interplay between drugs, targets and diseases."
   ]
  },
  {
   "cell_type": "markdown",
   "id": "f9e5d00c-923c-4def-b30c-23196269fb65",
   "metadata": {},
   "source": [
    "## 6. Knowledge graph reconstruction\n",
    "\n",
    "This section first converts the raw data to an intermediate format used in several notebooks, and then reconstructs the knowledge graph from the standardized data with shared code.\n",
    "- The intermediate form of the data is created as two simple Python lists, one for nodes and the other for edges, which can be exported to two CSV files.\n",
    "- The knowledge graph is built as a graph object from the Python package [igraph](https://igraph.org/python), which can be exported to a [GraphML](https://en.wikipedia.org/wiki/GraphML) file.\n",
    "\n",
    "### a) Convert the data into a standardized format\n",
    "\n",
    "Transform the raw data to an standardized format that is compatible with most biomedical knowledge graphs in order to enable shared downstream processing:\n",
    "- Each node is represented by three items: `id (str), type (str), properties (dict)`\n",
    "- Each edge is represented by four items: `source_id (str), target_id (str), type(str), properties (dict)`\n",
    "\n",
    "This format was initially inspired by a straightforward way in which the content of a Neo4j graph database can be exported to two CSV files, one for all nodes and the other for all edges. This is an effect of the [property graph model](https://neo4j.com/docs/getting-started/appendix/graphdb-concepts/) used in Neo4j and many other graph databases, which also appears to be general enough to fully capture the majority of biomedical knowledge graphs described in scientific literature, despite the large variety of formats they are shared in.\n",
    "\n",
    "A second motivation was that each line represents a single node or edge, and that no entry is connected to any sections at other locations, such as property descriptions at the beginning of a GraphML file. This structural simplicity makes it very easy to load just a subset of nodes and edges by picking a subset of lines, or to skip the loading of properties if they not required for a task simply by ignoring a single column.\n",
    "\n",
    "Finally, this format also allows to load the data directly into popular SQL databases like [SQLite](https://www.sqlite.org), [MySQL](https://www.mysql.com) or [PostgreSQL](https://www.postgresql.org/) with built-in CSV functions ([CSV in SQLite](https://www.sqlite.org/draft/cli.html#importing_files_as_csv_or_other_formats), [CSV in MySQL](https://dev.mysql.com/doc/refman/en/loading-tables.html), [CSV in PostgreSQL](https://www.postgresql.org/docs/current/sql-copy.html)). Further, the JSON string in the property column can be accessed directly by built-in JSON functions ([JSON in SQLite](https://www.sqlite.org/json1.html), [JSON in MySQL](https://dev.mysql.com/doc/refman/en/json-function-reference.html), [JSON in PostgreSQL](https://www.postgresql.org/docs/current/functions-json.html)), which enables sophisticated queries that access or modify specific properties within the JSON data.\n",
    "\n",
    "#### Nodes"
   ]
  },
  {
   "cell_type": "code",
   "execution_count": null,
   "id": "4486af2a-49d4-4f89-b7b5-cd36a9844ac6",
   "metadata": {},
   "outputs": [],
   "source": [
    "%%time\n",
    "\n",
    "nodes = []\n",
    "for row in df_nodes.itertuples():\n",
    "    node_id = row.id\n",
    "    node_type = row.category\n",
    "    node_properties = {\n",
    "        \"label\": row.name,  # Caution: The attribute \"name\" is reserved in igraph as unique identifier of a node, therefore using \"label\"\n",
    "        \"description\": row.description,\n",
    "        \"xref\": row.xref,\n",
    "        \"provided_by\": row.provided_by,\n",
    "        \"synonym\": row.synonym,\n",
    "        \"full_name\": row.full_name,\n",
    "        \"in_taxon\": row.in_taxon,\n",
    "        \"in_taxon_label\": row.in_taxon_label,\n",
    "        \"symbol\": row.symbol,\n",
    "        \"deprecated\": row.deprecated,\n",
    "        \"iri\": row.iri,\n",
    "        \"same_as\": row.same_as,\n",
    "    }\n",
    "    node = (node_id, node_type, node_properties)\n",
    "    nodes.append(node)"
   ]
  },
  {
   "cell_type": "markdown",
   "id": "8e63102b-750b-4816-8cd1-f6cc84eb1cc6",
   "metadata": {},
   "source": [
    "#### Edges"
   ]
  },
  {
   "cell_type": "code",
   "execution_count": null,
   "id": "fae33981-1cc0-4a4d-b256-d330f57c1584",
   "metadata": {},
   "outputs": [],
   "source": [
    "%%time\n",
    "\n",
    "edges = []\n",
    "for row in df_edges.itertuples():\n",
    "    source_id = row.subject\n",
    "    target_id = row.object\n",
    "    edge_type = row.predicate\n",
    "    edge_properties = {\n",
    "        \"id\": row.id,\n",
    "        \"original_subject\": row.original_subject,\n",
    "        \"original_object\": row.original_object,\n",
    "        \"category\": row.category,\n",
    "        \"agent_type\": row.agent_type,\n",
    "        \"aggregator_knowledge_source\": row.aggregator_knowledge_source,\n",
    "        \"knowledge_level\": row.knowledge_level,\n",
    "        \"primary_knowledge_source\": row.primary_knowledge_source,\n",
    "        \"qualifiers\": row.qualifiers,\n",
    "        \"provided_by\": row.provided_by,\n",
    "        \"has_evidence\": row.has_evidence,\n",
    "        \"publications\": row.publications,\n",
    "        \"stage_qualifier\": row.stage_qualifier,\n",
    "        \"frequency_qualifier\": row.frequency_qualifier,\n",
    "        \"has_count\": row.has_count,\n",
    "        \"has_percentage\": row.has_percentage,\n",
    "        \"has_quotient\": row.has_quotient,\n",
    "        \"has_total\": row.has_total,\n",
    "        \"negated\": row.negated,\n",
    "        \"onset_qualifier\": row.onset_qualifier,\n",
    "        \"sex_qualifier\": row.sex_qualifier,\n",
    "    }\n",
    "    edge = (source_id, target_id, edge_type, edge_properties)\n",
    "    edges.append(edge)"
   ]
  },
  {
   "cell_type": "markdown",
   "id": "5892187f-67ea-48b6-bde3-c5997058aa82",
   "metadata": {},
   "source": [
    "### b) Export the standardized data to two CSV files\n",
    "\n",
    "Both the `id` and `type` items are simple strings, while the `properties` item is collection of key-value pairs represented by a Python dictionary that can be converted to a single JSON string, which the export function does internally. This means each node is fully represented by three strings, and each edge by four strings due to having a source id and target id."
   ]
  },
  {
   "cell_type": "code",
   "execution_count": null,
   "id": "07c6e44d-291f-4955-b9ac-6a116f3c8e5c",
   "metadata": {},
   "outputs": [],
   "source": [
    "%%time\n",
    "\n",
    "nodes_csv_filepath = shared_bmkg.export_nodes_as_csv(nodes, results_dir, project_name)"
   ]
  },
  {
   "cell_type": "code",
   "execution_count": null,
   "id": "ccf61ec2-321e-4769-91e9-e730b5980f0c",
   "metadata": {},
   "outputs": [],
   "source": [
    "%%time\n",
    "\n",
    "edges_csv_filepath = shared_bmkg.export_edges_as_csv(edges, results_dir, project_name)"
   ]
  },
  {
   "cell_type": "markdown",
   "id": "a8825f40-ad9d-444b-8cb3-7894c81271a1",
   "metadata": {},
   "source": [
    "### c) Use the standardized data to build a graph\n",
    "\n",
    "Reconstruct the knowledge graph in form of a [Graph object](https://igraph.org/python/doc/api/igraph.Graph.html) from the package [igraph](https://igraph.org/python). This kind of graph object allows to have directed multi-edges, i.e. an edge has a source and a target node, and two nodes can be connected by more than one edge. It also allows to have node and edge properties. These features are necessary and sufficient to represent almost any biomedical knowledge graph found in academic literature."
   ]
  },
  {
   "cell_type": "code",
   "execution_count": null,
   "id": "e3dbe64b-d9e1-4e0e-ac5a-02283e5841e3",
   "metadata": {},
   "outputs": [],
   "source": [
    "%%time\n",
    "\n",
    "g = shared_bmkg.create_graph(nodes, edges)"
   ]
  },
  {
   "cell_type": "code",
   "execution_count": null,
   "id": "e7343e46-8691-45f9-8f18-545d1274387e",
   "metadata": {},
   "outputs": [],
   "source": [
    "shared_bmkg.report_graph_stats(g)"
   ]
  },
  {
   "cell_type": "code",
   "execution_count": null,
   "id": "60c70f8e-9cbe-49f4-9778-68ea726dd338",
   "metadata": {},
   "outputs": [],
   "source": [
    "# Correctness checks\n",
    "\n",
    "# 1) Does the reconstructed graph contain the same number of nodes as the raw data?\n",
    "num_nodes_in_graph = g.vcount()\n",
    "assert num_nodes_in_graph == num_nodes, f\"Node counts differ: {num_nodes_in_graph} != {num_nodes}\"\n",
    "print(f\"{num_nodes_in_graph:,} = {num_nodes:,}\")\n",
    "\n",
    "# 2) Does the reconstructed graph contain the same number of (unique) edges as the raw data?\n",
    "num_edges_in_graph = g.ecount()\n",
    "assert num_edges_in_graph == num_edges, f\"Edge counts differ: {num_edges_in_graph} != {num_unique_triples}\"\n",
    "print(f\"{num_edges_in_graph:,} = {num_edges:,}\")"
   ]
  },
  {
   "cell_type": "markdown",
   "id": "2332eb12-372b-4abd-9ddd-e67d31eac0d9",
   "metadata": {},
   "source": [
    "### d) Export the graph to a GraphML file\n",
    "\n",
    "Export the graph with all nodes, edges and properties as a single [GraphML](https://en.wikipedia.org/wiki/GraphML) file."
   ]
  },
  {
   "cell_type": "code",
   "execution_count": null,
   "id": "a8f21de1-9a69-4c72-a85f-c36d89762cdd",
   "metadata": {},
   "outputs": [],
   "source": [
    "%%time\n",
    "\n",
    "g_graphml_filepath = shared_bmkg.export_graph_as_graphml(g, results_dir, project_name)"
   ]
  },
  {
   "cell_type": "markdown",
   "id": "320e1741-8ece-4226-b9a1-0d592517bc0b",
   "metadata": {},
   "source": [
    "## 7. Subgraph exploration\n",
    "\n",
    "This section explores small subgraphs of the knowledge graph in two ways: first by inspecting the direct neighborhood of a selected node, and second by finding shortest paths between two chosen nodes.\n",
    "\n",
    "As a simple case study, the goal is to identify some nodes in the knowledge graph that are associated with the success story of the drug Imatinib, which was one of the first [targeted therapies](https://en.wikipedia.org/wiki/Targeted_therapy) against cancer. Detailed background information can for example be found in an article by the [National Cancer Institute](https://www.cancer.gov/research/progress/discovery/gleevec) and in a [talk by Brian Druker](https://www.ibiology.org/human-disease/imatinib-paradigm-targeted-cancer-therapies) who played a major role in the development of this paradigm-changing drug. To give a simplified summary, following biological entities and relationships are involved:\n",
    "\n",
    "- Mutation: In a bone marrow stem cell, a translocation event between chromosome 9 and 22 leads to what has been called the [Philadelphia chromosome](https://en.wikipedia.org/wiki/Philadelphia_chromosome), which can be seen under a microscope and got named after the city it originally got discovered in.\n",
    "- Gene: It turned out that this particular rearrangement of DNA fuses the [BCR](https://en.wikipedia.org/wiki/BCR_(gene)) gene on chromosome 22 to the [ABL1](https://en.wikipedia.org/wiki/ABL_(gene)) gene on chromosome 9, resulting in a new fusion gene known as BCR-ABL1.\n",
    "- Disease: BCR-ABL1 acts as an oncogene, because it expresses a protein that is a defective [tyrosine kinase](https://en.wikipedia.org/wiki/Tyrosine_kinase) in a permanent \"on\" state, which leads to uncontrolled growth of certain white blood cells and their precursors, thereby driving the disease [Chronic Myelogenous Leukemia (CML)](https://en.wikipedia.org/wiki/Chronic_myelogenous_leukemia).\n",
    "- Drug: [Imatinib (Gleevec)](https://en.wikipedia.org/wiki/Imatinib) was the first demonstration that a potent and selective [Bcr-Abl tyrosine-kinase inhibitor (TKI)](https://en.wikipedia.org/wiki/Bcr-Abl_tyrosine-kinase_inhibitor) is possible and that such a targeted inhibition of an oncoprotein halts the uncontrolled growth of leukemia cells with BCR-ABL1, while having significantly less effect on other cells in the body compared to conventional chemotherapies used in cancer. This revolutionized the treatment of CML and drastically improved the five-year survival rate of patients from less than 20% to over 90%, as well as their quality of life.\n",
    "\n",
    "In reality the story is a bit more complex, for example because there are other genes involved in disease progression, there are many closely related forms of leukemia, BCR-ABL1 also plays a role in other forms of cancer, there are several drugs available as treatment options today, all of them bind to more than one target and with different affinities, and their individual binding profiles are relevant to their particular therapeutic effects. Inspecting the knowledge graph will focus on highlighting some entities of the simplified story, but the surrounding elements will also indicate some of the complexity encountered in reality. Some simple forms of reasoning on the knowledge graph will demonstrate its potential for discovering new patterns and hypotheses.\n",
    "\n",
    "### a) Search for interesting nodes"
   ]
  },
  {
   "cell_type": "code",
   "execution_count": null,
   "id": "e537cbef-42c4-4a68-9182-53e2d43c2e85",
   "metadata": {},
   "outputs": [],
   "source": [
    "# Drug: Imatinib - seems not to be contained in Monarch\n",
    "shared_bmkg.list_nodes_matching_substring(g, \"imatinib\", \"label\")"
   ]
  },
  {
   "cell_type": "code",
   "execution_count": null,
   "id": "323c1090-2997-4e9b-99e6-dfa2f8b2f3d9",
   "metadata": {},
   "outputs": [],
   "source": [
    "# Gene: ABL1\n",
    "shared_bmkg.list_nodes_matching_substring(g, \"abl1\", \"label\")"
   ]
  },
  {
   "cell_type": "code",
   "execution_count": null,
   "id": "3556c520-4a44-40af-907a-1913a2829ab5",
   "metadata": {},
   "outputs": [],
   "source": [
    "# Disease: Chronic Myeloid Leukemia (CML)\n",
    "shared_bmkg.list_nodes_matching_substring(g, \"chronic myelogenous leukemia\", \"label\")"
   ]
  },
  {
   "cell_type": "markdown",
   "id": "4b81780f-8ee9-42cf-858b-d3913030dc6c",
   "metadata": {},
   "source": [
    "### b) Explore the neighborhood of a chosen node"
   ]
  },
  {
   "cell_type": "code",
   "execution_count": null,
   "id": "bb4b5ae9-2e21-46b9-be71-b4b174f5741b",
   "metadata": {},
   "outputs": [],
   "source": [
    "# Neighborhood of gene ABL1 - in Homo sapiens\n",
    "source = \"HGNC:76\"\n",
    "subgraph = shared_bmkg.get_egocentric_subgraph(g, source)\n",
    "\n",
    "# Export\n",
    "filename = f\"{project_name}_neighbors_abl1\"\n",
    "shared_bmkg.export_graph_as_graphml(subgraph, results_dir, filename)\n",
    "shared_bmkg.export_nodes_as_csv(nodes, results_dir, filename, subgraph)\n",
    "shared_bmkg.export_edges_as_csv(edges, results_dir, filename, subgraph)\n",
    "\n",
    "# Report\n",
    "shared_bmkg.report_graph_stats(subgraph)"
   ]
  },
  {
   "cell_type": "markdown",
   "id": "4a6cc4e5-6880-4d6e-8706-def4ec87f733",
   "metadata": {},
   "source": [
    "Interpretation:\n",
    "- Monarch contains too many nodes connected to the gene ABL1 for plotting it and performing a visual analysis."
   ]
  },
  {
   "cell_type": "code",
   "execution_count": null,
   "id": "3f3e36c9-a92f-4159-ba3d-3d853f5afa5b",
   "metadata": {},
   "outputs": [],
   "source": [
    "# Neighborhood of disease CML\n",
    "source = \"MONDO:0011996\"\n",
    "subgraph = shared_bmkg.get_egocentric_subgraph(g, source)\n",
    "\n",
    "# Export\n",
    "filename = f\"{project_name}_neighbors_cml\"\n",
    "shared_bmkg.export_graph_as_graphml(subgraph, results_dir, filename)\n",
    "shared_bmkg.export_nodes_as_csv(nodes, results_dir, filename, subgraph)\n",
    "shared_bmkg.export_edges_as_csv(edges, results_dir, filename, subgraph)\n",
    "\n",
    "# Report\n",
    "shared_bmkg.report_graph_stats(subgraph)\n",
    "shared_bmkg.visualize_graph(subgraph, node_type_to_color, source)"
   ]
  },
  {
   "cell_type": "markdown",
   "id": "4d914525-4566-479e-8b5d-7158401aee29",
   "metadata": {},
   "source": [
    "Interpretation:\n",
    "- Disease-Disease relations: The disease CML with id `MONDO:0011996` (red node in the center) stands in a \"biolink:subclass_of\" relation to many other diseases (red nodes). The type of relation can be seen when hovering over an arrow. The schema also summarized the edge types found between pairs of node types. In this case, there can be \"biolink:subclass_of\" and \"biolink:related_to\" edges between pairs of diseases.\n",
    "  - Example: The disease `MONDO:0010809` (=\"familial chronic myelocytic leukemia-like syndrome\") is a subclass of the disease CML with id `MONDO:0011996` (=\"chronic myelogenous leukemia, BCR-ABL1 positive\"), which in turn is a subclass of the disease `MONDO:0004643` (=myeloid leukemia).\n",
    "- Disease-Gene relations: The disease CML stands in \"biolink:gene_associated_with_condition\" and \"biolink:causes\" relations with genes (blue nodes).\n",
    "  - Example: The two genes `HGNC:1014` (=\"BCR\") and `HGNC:76` (=\"ABL1\") are connected with both these relations to the disease CML, while the gene `HGNC:10471` (=\"RUNX1\") only stands in the weaker \"biolink:gene_associated_with_condition\" relation to CML.\n",
    "- Other relations: The disease CML stands in various relations to node types like \"biolink:Genotype\" or \"biolink:PhenotypicFeature\" (black nodes).\n",
    "  - Example: The disease CML stands in a \"biolink:has_phenotype\" relation to the node `HP:0001894` (=\"Thrombocytosis\"), which is described as \"Increased numbers of platelets in the peripheral blood.\". This information can be read when hovering over the edges or nodes in this visualization."
   ]
  },
  {
   "cell_type": "markdown",
   "id": "1e231929-01ca-4a88-888e-56f2c05f58bf",
   "metadata": {},
   "source": [
    "### c) Find shortest paths between two chosen nodes"
   ]
  },
  {
   "cell_type": "code",
   "execution_count": null,
   "id": "205c4717-f13c-4f94-9826-c58481a4bcf4",
   "metadata": {},
   "outputs": [],
   "source": [
    "# Paths from gene ABL1 to disease \"myeloid leukemia\"\n",
    "source = \"HGNC:76\"\n",
    "target = \"MONDO:0004643\"\n",
    "subgraph = shared_bmkg.get_paths_subgraph(g, source, target)\n",
    "\n",
    "# Export\n",
    "filename = f\"{project_name}_paths_abl1_to_ML\"\n",
    "shared_bmkg.export_graph_as_graphml(subgraph, results_dir, filename)\n",
    "shared_bmkg.export_nodes_as_csv(nodes, results_dir, filename, subgraph)\n",
    "shared_bmkg.export_edges_as_csv(edges, results_dir, filename, subgraph)\n",
    "\n",
    "# Report\n",
    "shared_bmkg.report_graph_stats(subgraph)\n",
    "shared_bmkg.visualize_graph(subgraph, node_type_to_color, source, target)"
   ]
  },
  {
   "cell_type": "markdown",
   "id": "2b44aa8c-2fca-4034-a3e7-02189fc27d7c",
   "metadata": {},
   "source": [
    "Interpretation:\n",
    "- The gene `HGNC:76` (=\"ABL1\") is connected to the disease `MONDO:0004643` (=\"myeloid leukemia\") only by one shortest path via the disease `MONDO:0011996` (=\"chronic myelogenous leukemia, BCR-ABL1 positive\"). This path was already part of a previous subgraph showing the neighborhood of CML, but there could have been alternative paths as well."
   ]
  }
 ],
 "metadata": {
  "kernelspec": {
   "display_name": "Python 3 (ipykernel)",
   "language": "python",
   "name": "python3"
  },
  "language_info": {
   "codemirror_mode": {
    "name": "ipython",
    "version": 3
   },
   "file_extension": ".py",
   "mimetype": "text/x-python",
   "name": "python",
   "nbconvert_exporter": "python",
   "pygments_lexer": "ipython3",
   "version": "3.12.4"
  }
 },
 "nbformat": 4,
 "nbformat_minor": 5
}
