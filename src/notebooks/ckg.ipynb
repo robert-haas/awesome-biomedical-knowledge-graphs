{
 "cells": [
  {
   "cell_type": "markdown",
   "id": "e6970235-b70f-4d93-9298-76cb1d34160b",
   "metadata": {},
   "source": [
    "# CKG\n",
    "\n",
    "This notebook explores the biomedical knowledge graph provided by the project **Clinical Knowledge Graph (CKG)**: [Publication (2023)](https://doi.org/10.1038/s41587-021-01145-6), [Website](https://ckg.readthedocs.io), [Code](https://github.com/MannLabs/CKG), [Data](https://doi.org/10.17632/mrcf7f4tc2)\n",
    "\n",
    "The source file of this notebook is [ckg.ipynb](https://github.com/robert-haas/awesome-biomedical-knowledge-graphs/blob/main/src/notebooks/ckg.ipynb) and can be found in the repository [awesome-biomedical-knowledge-graphs](https://github.com/robert-haas/awesome-biomedical-knowledge-graphs) that also contains information about similar projects.\n",
    "\n",
    "\n",
    "## Table of contents\n",
    "\n",
    "1. [Setup](#1.-Setup)\n",
    "2. [Data download](#2.-Data-download)\n",
    "3. [Data extraction](#2.-Data-extraction)\n",
    "4. [Data import](#3.-Data-import)\n",
    "5. [Data inspection](#4.-Data-inspection)\n",
    "6. [Schema discovery](#5.-Schema-discovery)\n",
    "7. [Knowledge graph reconstruction](#6.-Knowledge-graph-reconstruction)\n",
    "8. [Subgraph exploration](#7.-Subgraph-exploration)"
   ]
  },
  {
   "cell_type": "markdown",
   "id": "121fa16a-5c8e-47eb-89a2-68de3d795f33",
   "metadata": {},
   "source": [
    "## 1. Setup\n",
    "\n",
    "This section prepares the environment for the following exploratory data analysis.\n",
    "\n",
    "### a) Import packages\n",
    "\n",
    "From the [Python standard library](https://docs.python.org/3/library/index.html)."
   ]
  },
  {
   "cell_type": "code",
   "execution_count": null,
   "id": "7753c427-678d-437b-9877-f79f2628e830",
   "metadata": {},
   "outputs": [],
   "source": [
    "import json\n",
    "import os"
   ]
  },
  {
   "cell_type": "markdown",
   "id": "16df09f9-1647-480d-a85a-79b3bc23161d",
   "metadata": {},
   "source": [
    "From the [Python Package Index (PyPI)](https://pypi.org)."
   ]
  },
  {
   "cell_type": "code",
   "execution_count": null,
   "id": "edf084af-841b-4976-ac2e-a9380934e199",
   "metadata": {},
   "outputs": [],
   "source": [
    "import dask.dataframe as dd\n",
    "import gravis as gv\n",
    "import igraph as ig"
   ]
  },
  {
   "cell_type": "code",
   "execution_count": null,
   "id": "e199d4a8-dd39-4fa3-8556-4bb999c0a5e8",
   "metadata": {},
   "outputs": [],
   "source": [
    "# A docker installation is required to load and convert the Neo4j database inside a suitable container\n",
    "import docker"
   ]
  },
  {
   "cell_type": "markdown",
   "id": "adf9cd34-45ed-4fe1-b254-9456cfe54b02",
   "metadata": {},
   "source": [
    "From a local Python module named [shared_bmkg.py](https://github.com/robert-haas/awesome-biomedical-knowledge-graphs/blob/main/src/notebooks/shared_bmkg.py). The functions in it are used in several similar notebooks to reduce code repetition and to improve readability."
   ]
  },
  {
   "cell_type": "code",
   "execution_count": null,
   "id": "480d3c54-79e4-4ef8-a352-4dd1812f2559",
   "metadata": {},
   "outputs": [],
   "source": [
    "import shared_bmkg"
   ]
  },
  {
   "cell_type": "markdown",
   "id": "154692d1-dd89-4289-a345-54d5e32f26eb",
   "metadata": {},
   "source": [
    "### b) Create data directories\n",
    "\n",
    "The raw data provided by the project and the transformed data generated throughout this notebook are stored in separate directories. If the notebook is run more than once, the downloaded data is reused instead of fetching it again, but all data transformations are rerun."
   ]
  },
  {
   "cell_type": "code",
   "execution_count": null,
   "id": "5508cc4b-02fd-42a0-97e3-e8e6ccaded3d",
   "metadata": {},
   "outputs": [],
   "source": [
    "project_name = \"ckg\"\n",
    "download_dir = os.path.join(project_name, \"downloads\")\n",
    "results_dir = os.path.join(project_name, \"results\")\n",
    "\n",
    "shared_bmkg.create_dir(download_dir)\n",
    "shared_bmkg.create_dir(results_dir)"
   ]
  },
  {
   "cell_type": "markdown",
   "id": "ef1bd25a-1ec1-439b-84b7-a1fc2335cee3",
   "metadata": {},
   "source": [
    "## 2. Data download\n",
    "\n",
    "This section fetches the data published by the project on [Mendeley Data](https://data.mendeley.com/datasets/mrcf7f4tc2/3). The latest available version at the time of creating this notebook was used: `Version 3 (2021-08-17)`.\n",
    "\n",
    "### All files provided by the project\n",
    "\n",
    "- `ckg_latest_4.2.3.dump`: Neo4j graph database with nodes, edges and annotations.\n",
    "- `data.zip`: Data about experimental studies presented in the publication.\n",
    "\n",
    "### Files needed to create the knowledge graph\n",
    "\n",
    "- `ckg_latest_4.2.3.dump` contains all information required for reconstructing the knowledge graph."
   ]
  },
  {
   "cell_type": "code",
   "execution_count": null,
   "id": "9aa65396-8ec9-4e6e-8976-e705ae2d59c9",
   "metadata": {},
   "outputs": [],
   "source": [
    "download_specification = [\n",
    "    (\"ckg_latest_4.2.3.dump\", \"https://data.mendeley.com/public-files/datasets/mrcf7f4tc2/files/ffaab45e-e15c-412d-b63b-5df681a2e303/file_downloaded\", \"eebe895e2e9f9fc39f3663fbcea032d5\"),\n",
    "    (\"data.zip\", \"https://data.mendeley.com/public-files/datasets/mrcf7f4tc2/files/69de0ef6-6e71-4d8e-8fbc-b933b9fc4dce/file_downloaded\", \"1bbd8be31efcd559244b26f474d9ad59\"),\n",
    "\n",
    "    # APOC library for Neo4j to enable exports of the knowledge graph in CSV format\n",
    "    (\"apoc-4.4.0.24-all.jar\", \"https://github.com/neo4j-contrib/neo4j-apoc-procedures/releases/download/4.4.0.24/apoc-4.4.0.24-all.jar\", \"7c6a702322b0aaf663c25f378cd3494d\"),\n",
    "]\n",
    "\n",
    "for filename, url, md5 in download_specification:\n",
    "    filepath = os.path.join(download_dir, filename)\n",
    "    shared_bmkg.fetch_file(url, filepath)\n",
    "    shared_bmkg.validate_file(filepath, md5)\n",
    "    print()"
   ]
  },
  {
   "cell_type": "markdown",
   "id": "87559690-fc84-4f16-8153-bcf33e59114d",
   "metadata": {},
   "source": [
    "## 3. Data extraction\n",
    "\n",
    "This section extracts the raw data from the Neo4j database into two CSV files. It uses a Docker container with a specific Neo4j+APOC installation and parameterization that allows to load and export the database dump file. It was tricky to figure out a configuration that works with this specific dump file."
   ]
  },
  {
   "cell_type": "code",
   "execution_count": null,
   "id": "d68e8def-acf8-45f2-82b2-d8d5d4938fd2",
   "metadata": {},
   "outputs": [],
   "source": [
    "def check_docker_installation():\n",
    "    try:\n",
    "        client = docker.from_env()\n",
    "        \n",
    "        # Pull the hello-world image\n",
    "        client.images.pull('hello-world')\n",
    "        \n",
    "        # Run the hello-world container\n",
    "        container = client.containers.run('hello-world', detach=True)\n",
    "        output = container.logs()\n",
    "        \n",
    "        # Check the output for the expected message\n",
    "        if b\"Hello from Docker!\" in output:\n",
    "            print(\"Docker is installed and running properly. The hello-world container output is correct.\")\n",
    "            success = True\n",
    "        else:\n",
    "            print(\"Docker is installed but the hello-world container output is incorrect.\")\n",
    "            success = False\n",
    "        \n",
    "        # Clean-up: Remove the container and image\n",
    "        container.remove()\n",
    "        client.images.remove('hello-world')\n",
    "        return success\n",
    "    except (DockerException, ImageNotFound, ContainerError) as e:\n",
    "        print(f\"Docker is not installed or not running properly: {e}\")\n",
    "        return False\n",
    "\n",
    "\n",
    "check_docker_installation()"
   ]
  },
  {
   "cell_type": "code",
   "execution_count": null,
   "id": "cc04d2d8-20d8-4e1c-85d6-bd2f180de819",
   "metadata": {},
   "outputs": [],
   "source": [
    "def run_docker_command(container, command, verbose):\n",
    "    # Report the command\n",
    "    if verbose:\n",
    "        print('Running command:', command)\n",
    "\n",
    "    # Run the command\n",
    "    exit_code, output = container.exec_run(command)\n",
    "\n",
    "    # Report the result\n",
    "    if verbose:\n",
    "        print(' Worked!' if exit_code == 0 else f'Failed! Exit code: {exit_code}')\n",
    "        try:\n",
    "            output = output.decode()\n",
    "            output = output.strip()\n",
    "        except Exception:\n",
    "            pass\n",
    "        if output:\n",
    "            print(' Output:', output)\n",
    "        print()\n",
    "\n",
    "\n",
    "def convert_neo4j_dump_to_csv_files(download_dir, results_dir, filename_db, filename_apoc, verbose=False):\n",
    "    # Install APOC and load the export functions: https://neo4j.com/docs/apoc/5/installation\n",
    "    # Use the export functions: https://neo4j.com/labs/apoc/4.4/overview/apoc.export\n",
    "\n",
    "    # Construct source filepaths\n",
    "    filepath_db_src = os.path.join(download_dir, filename_db)\n",
    "    filepath_apoc_src = os.path.join(download_dir, filename_apoc)\n",
    "\n",
    "    # Create a temporary destination directory\n",
    "    dirname_dst = \"tempdir_for_docker\"\n",
    "    dirpath_dst = os.path.abspath(os.path.join(download_dir, dirname_dst))\n",
    "    os.makedirs(dirpath_dst, exist_ok=True)\n",
    "\n",
    "    # Create the destination filepaths\n",
    "    filepath_db_dst = os.path.join(dirpath_dst, \"neo4j.dump\")\n",
    "    filepath_apoc_dst = os.path.join(dirpath_dst, filename_apoc)\n",
    "\n",
    "    # Move files from source to destination directory\n",
    "    os.rename(filepath_db_src, filepath_db_dst)\n",
    "    os.rename(filepath_apoc_src, filepath_apoc_dst)\n",
    "\n",
    "    # Fetch and run the Neo4j v4.4 Docker container\n",
    "    client = docker.from_env()\n",
    "    if verbose:\n",
    "        print('Starting Docker container:', end=' ')\n",
    "    container = client.containers.run(\n",
    "        \"neo4j:4.4\",\n",
    "        detach=True,\n",
    "        volumes={dirpath_dst: {'bind': '/mnt', 'mode': 'rw'}},\n",
    "        working_dir='/mnt',\n",
    "        entrypoint='tail -f /dev/null',\n",
    "    )\n",
    "    if verbose:\n",
    "        print(container)\n",
    "        print()\n",
    "\n",
    "    # Convert the .dump file to a .csv file\n",
    "    try:\n",
    "        commands = [\n",
    "            # Configure Neo4j for the import\n",
    "            '''sh -c \"echo 'dbms.allow_upgrade=true' >> /var/lib/neo4j/conf/neo4j.conf\"''',\n",
    "            '''sh -c \"echo 'dbms.security.procedures.allowlist=apoc.*' >> /var/lib/neo4j/conf/neo4j.conf\"''',\n",
    "            '''sh -c \"echo 'dbms.security.procedures.unrestricted=apoc.*' >> /var/lib/neo4j/conf/neo4j.conf\"''',\n",
    "            '''sh -c \"echo 'apoc.export.file.enabled=true' >> /var/lib/neo4j/conf/neo4j.conf\"''',\n",
    "            '''sh -c \"neo4j-admin set-initial-password correcthorsebatterystaple\"''',\n",
    "            # Make APOC extension available to Neo4j\n",
    "            f'''sh -c \"cp /mnt/{filename_apoc} /var/lib/neo4j/plugins\"''',\n",
    "            # Import the .dump file\n",
    "            f'''sh -c \"neo4j-admin load --from=/mnt/neo4j.dump --database=neo4j --force\"''',\n",
    "            # Start the database\n",
    "            '''sh -c \"rm -rf /var/lib/neo4j/logs && neo4j start\"''',\n",
    "            # Wait so it is ready\n",
    "            '''sh -c \"sleep 60\"''',\n",
    "            # Export a .csv file for nodes\n",
    "            '''cypher-shell -u neo4j -p correcthorsebatterystaple -d neo4j \"CALL apoc.export.csv.query('MATCH (n) RETURN id(n) as id, labels(n)[0] as type, properties(n) as properties', 'nodes.csv', {})\"''',\n",
    "            # Export a .csv file for edges\n",
    "            '''cypher-shell -u neo4j -p correcthorsebatterystaple -d neo4j \"CALL apoc.export.csv.query('MATCH ()-[r]->() RETURN id(startNode(r)) as source_id, id(endNode(r)) as target_id, type(r) as type, properties(r) as properties', 'edges.csv', {})\"''',\n",
    "            # Move the .csv files to the mounted directory to make them available outside the container\n",
    "            '''sh -c \"mv /var/lib/neo4j/import/nodes.csv /mnt\"''',\n",
    "            '''sh -c \"mv /var/lib/neo4j/import/edges.csv /mnt\"''',\n",
    "        ]\n",
    "        for cmd in commands:\n",
    "            run_docker_command(container, cmd, verbose)\n",
    "    except Exception as e:\n",
    "        print(e)\n",
    "    finally:\n",
    "        if container:\n",
    "            if verbose:\n",
    "                print('Stopping and removing the container')\n",
    "            container.stop()\n",
    "            container.remove()\n",
    "\n",
    "        # Move the original files from temporary destination to source directory\n",
    "        os.rename(filepath_db_dst, filepath_db_src)\n",
    "        os.rename(filepath_apoc_dst, filepath_apoc_src)\n",
    "\n",
    "        # Move the new .csv file from temporary destination to results directory\n",
    "        os.rename(os.path.join(dirpath_dst, \"nodes.csv\"), os.path.join(results_dir, \"nodes.csv\"))\n",
    "        os.rename(os.path.join(dirpath_dst, \"edges.csv\"), os.path.join(results_dir, \"edges.csv\"))\n",
    "\n",
    "        # Delete the temporary destination directory\n",
    "        os.rmdir(dirpath_dst)\n",
    "    return container"
   ]
  },
  {
   "cell_type": "code",
   "execution_count": null,
   "id": "78690795-0129-4ba9-a0a9-7bf3f4faefc6",
   "metadata": {
    "scrolled": true
   },
   "outputs": [],
   "source": [
    "%%time\n",
    "\n",
    "filepath_nodes = os.path.join(results_dir, \"nodes.csv\")\n",
    "filepath_edges = os.path.join(results_dir, \"edges.csv\")\n",
    "\n",
    "if not (os.path.exists(filepath_nodes) and os.path.exists(filepath_edges)):\n",
    "    print(f\"Starting the conversion of the .dump file to two .csv files.\")\n",
    "    # takes about 45min to create nodes.csv and edges.csv\n",
    "    container = convert_neo4j_dump_to_csv_files(\n",
    "        download_dir,\n",
    "        results_dir,\n",
    "        \"ckg_latest_4.2.3.dump\",\n",
    "        \"apoc-4.4.0.24-all.jar\",\n",
    "        verbose=True,\n",
    "    )\n",
    "else:\n",
    "    print(f\"Found existing files {filepath_nodes} and {filepath_edges}. Using these instead of performing another conversion.\")"
   ]
  },
  {
   "cell_type": "markdown",
   "id": "2f964ac0-7275-4b63-b82e-8e4c638f3cb7",
   "metadata": {},
   "source": [
    "## 4. Data import\n",
    "\n",
    "This section loads the extracted data files that are required for reconstructing the knowledge graph."
   ]
  },
  {
   "cell_type": "code",
   "execution_count": null,
   "id": "4f35c7de-65a2-4ad1-aa69-4e1b59d5c9fa",
   "metadata": {},
   "outputs": [],
   "source": [
    "def read_csv_file(filepath):\n",
    "    with open(filepath) as f:\n",
    "        # A Dask dataframe, not Pandas\n",
    "        df = dd.read_csv(filepath, dtype=str)\n",
    "    return df"
   ]
  },
  {
   "cell_type": "code",
   "execution_count": null,
   "id": "a2572e16-cfa9-4a73-9da6-1d17c32219c7",
   "metadata": {},
   "outputs": [],
   "source": [
    "%%time\n",
    "\n",
    "df_nodes = read_csv_file(os.path.join(results_dir, \"nodes.csv\"))\n",
    "df_edges = read_csv_file(os.path.join(results_dir, \"edges.csv\"))"
   ]
  },
  {
   "cell_type": "markdown",
   "id": "3d7db746-5557-4fa6-8e98-6227b08df909",
   "metadata": {},
   "source": [
    "## 5. Data inspection\n",
    "\n",
    "This section attempts to reproduce some published numbers by inspecting the raw data and then prints a few exemplary records.\n",
    "\n",
    "The [publication](https://doi.org/10.1038/s41587-021-01145-6) mentions following statistics about the knowledge graph contents: \n",
    "- Close to 20 million nodes having 36 node types\n",
    "- More than 200 million edges having 47 edge types\n",
    "\n",
    "### a) Number of nodes and edges"
   ]
  },
  {
   "cell_type": "code",
   "execution_count": null,
   "id": "2702777e-d354-4c98-81ee-18b5f8c29a64",
   "metadata": {},
   "outputs": [],
   "source": [
    "%%time\n",
    "\n",
    "num_nodes = len(df_nodes)\n",
    "num_edges = len(df_edges)\n",
    "\n",
    "print(f\"{num_nodes:,} nodes\")\n",
    "print(f\"{num_edges:,} edges\")\n",
    "print()"
   ]
  },
  {
   "cell_type": "markdown",
   "id": "245cdfd1-e19a-4707-a6cf-a3befbc9895f",
   "metadata": {},
   "source": [
    "Interpretation:\n",
    "- Inspecting the raw data resulted in **14,543,042 nodes**, while the publication mentioned **close to 20,000,000 nodes**.\n",
    "- Inspecting the raw data resulted in **188,266,233 edges**, while the publication mentioned **more than 200,000,000 edges**.\n",
    "- Both **differences** could have a variety of reasons, e.g. the authors may have changed the process that generates the data from Version 1 to Version 3 after the publication, there may be an error in the reported numbers, or the data extraction via Neo4j import and export inside a Docker container may have a defect."
   ]
  },
  {
   "cell_type": "markdown",
   "id": "e3705e13-78f5-4a0b-9122-6c5eb92ba3f7",
   "metadata": {},
   "source": [
    "### b) Types of nodes and edges"
   ]
  },
  {
   "cell_type": "code",
   "execution_count": null,
   "id": "cc423e23-9bce-43b6-9cff-90211f2f60b2",
   "metadata": {},
   "outputs": [],
   "source": [
    "%%time\n",
    "\n",
    "nt_column = \"type\"\n",
    "nt_counts = df_nodes.groupby(nt_column).size().compute()\n",
    "nt_counts = nt_counts.sort_values(ascending=False)\n",
    "\n",
    "print(len(nt_counts), \"node types, sorted by their frequency:\")\n",
    "for key, val in nt_counts.items():\n",
    "    print(f\"- {key}: {val}\")\n",
    "print()"
   ]
  },
  {
   "cell_type": "code",
   "execution_count": null,
   "id": "5c1808bd-2ba2-4ade-88fb-e9612ba24fcd",
   "metadata": {},
   "outputs": [],
   "source": [
    "%%time\n",
    "\n",
    "et_column = \"type\"\n",
    "et_counts = df_edges.groupby(et_column).size().compute()\n",
    "et_counts = et_counts.sort_values(ascending=False)\n",
    "\n",
    "print(len(et_counts), \"edge types, sorted by their frequency:\")\n",
    "for key, val in et_counts.items():\n",
    "    print(f\"- {key}: {val}\")\n",
    "print()"
   ]
  },
  {
   "cell_type": "code",
   "execution_count": null,
   "id": "f2fc486e-2f88-4695-9bfd-9a0ce131295a",
   "metadata": {},
   "outputs": [],
   "source": [
    "# Correctness checks\n",
    "\n",
    "# 1) Do the counts of different node types add up to the total number of nodes?\n",
    "sum_node_types = nt_counts.sum()\n",
    "assert sum_node_types == num_nodes, f\"Node counts differ: {sum_node_types} != {num_nodes}\"\n",
    "print(f\"{sum_node_types:,} = {num_nodes:,} nodes\")\n",
    "\n",
    "# 2) Do the counts of different edge types add up to the total number of edges?\n",
    "sum_edge_types = et_counts.sum()\n",
    "assert sum_edge_types == num_edges, f\"Edge counts differ: {sum_edge_types} != {num_edges}\"\n",
    "print(f\"{sum_edge_types:,} = {num_edges:,} edges\")"
   ]
  },
  {
   "cell_type": "markdown",
   "id": "f1492b0a-baca-43e6-9f9d-6b8ec5e1bc23",
   "metadata": {},
   "source": [
    "Interpretation:\n",
    "- Inspecting the raw data resulted in **32 node types**, while the publication mentions **36 node types**, which is 4 more.\n",
    "- Inspecting the raw data resulted in **39 edge types**, while the publication mentions **47 edge types**, which is 8 more.\n",
    "- Both **differences** could have a variety of reasons, probably the same as the differences observed in node and edge counts.\n",
    "- Looking at **relative frequencies of node and edge types** suggests that the dataset is rather unbalanced.\n",
    "  - The most frequent node type is \"Known_variant\" with 10,630,108 instances, while the least frequent node type is \"User\" with only 2 instances, a difference of 7 orders of magnitude.\n",
    "  - The most frequent edge type is \"MENTIONED_IN_PUBLICATION\" with 111,109,238 instances, while the least frequent edge types only have 7 instance each, a difference of 8 orders of magnitude."
   ]
  },
  {
   "cell_type": "markdown",
   "id": "a0b82303-fa37-46cc-9677-64611d7cb600",
   "metadata": {},
   "source": [
    "### c) Example entries\n",
    "\n",
    "This section prints some example entries of the raw data. It gives an impression of the format chosen by the authors, which differs greatly between projects due to a lack of a broadly accepted standard for biomedical knowledge graphs."
   ]
  },
  {
   "cell_type": "code",
   "execution_count": null,
   "id": "6d3bc528-27d0-4abb-8beb-7797883953fc",
   "metadata": {},
   "outputs": [],
   "source": [
    "def report_first_n_items(data, n):\n",
    "    return data.head(n)"
   ]
  },
  {
   "cell_type": "code",
   "execution_count": null,
   "id": "46b3df14-1d3a-49f0-803a-0c34bc306cb6",
   "metadata": {},
   "outputs": [],
   "source": [
    "def report_last_n_items(data, n):\n",
    "    return data.tail(n)"
   ]
  },
  {
   "cell_type": "markdown",
   "id": "51d57485-25ea-496a-a660-5107876d2932",
   "metadata": {},
   "source": [
    "#### Nodes together with node annotations"
   ]
  },
  {
   "cell_type": "code",
   "execution_count": null,
   "id": "beb50843-b179-4253-955f-0e31fc7baf43",
   "metadata": {},
   "outputs": [],
   "source": [
    "report_first_n_items(df_nodes, 2)"
   ]
  },
  {
   "cell_type": "code",
   "execution_count": null,
   "id": "ab764eb2-f492-4e75-8500-086f70a75bb9",
   "metadata": {},
   "outputs": [],
   "source": [
    "report_last_n_items(df_nodes, 2)"
   ]
  },
  {
   "cell_type": "markdown",
   "id": "14266c74-054e-443f-ace2-ff1f02c1ce20",
   "metadata": {},
   "source": [
    "#### Edges together with edge annotations"
   ]
  },
  {
   "cell_type": "code",
   "execution_count": null,
   "id": "fed44a0b-69b4-4ba5-b29f-f083694989bd",
   "metadata": {},
   "outputs": [],
   "source": [
    "report_first_n_items(df_edges, 2)"
   ]
  },
  {
   "cell_type": "code",
   "execution_count": null,
   "id": "983bc968-1f17-48a0-8370-744dbec277ce",
   "metadata": {},
   "outputs": [],
   "source": [
    "report_last_n_items(df_edges, 2)"
   ]
  },
  {
   "cell_type": "markdown",
   "id": "a6c3f9e7-f72d-49c3-840e-abd1ad104fb2",
   "metadata": {},
   "source": [
    "## 6. Schema detection\n",
    "\n",
    "This section analyzes the structure of the knowledge graph by determining which types of nodes are connected by which types of edges. To construct this overview, it is necessary to iterate over the entire data once. The result is a condensed representation of all entities and relations, which is known as [data model](https://neo4j.com/docs/getting-started/data-modeling/guide-data-modeling/#whiteboard-friendly) or [schema](https://memgraph.com/docs/fundamentals/graph-modeling#designing-a-graph-database-schema) in the context of graph databases."
   ]
  },
  {
   "cell_type": "code",
   "execution_count": null,
   "id": "a1ad2326-0193-4d35-967d-ffd0caafb2a7",
   "metadata": {},
   "outputs": [],
   "source": [
    "node_type_to_color = {\n",
    "    \"Metabolite\": \"green\",\n",
    "\n",
    "    \"Gene\": \"blue\",\n",
    "    \"Transcript\": \"blue\",\n",
    "    \"Protein\": \"blue\",\n",
    "    \"Modified_protein\": \"blue\",\n",
    "    \"Peptide\": \"blue\",\n",
    "\n",
    "    \"Disease\": \"red\",\n",
    "    \"Pathway\": \"red\",\n",
    "    \"Biological_process\": \"red\",\n",
    "}"
   ]
  },
  {
   "cell_type": "code",
   "execution_count": null,
   "id": "085797b2-11c5-46d2-8c2c-be5b84efe4ae",
   "metadata": {},
   "outputs": [],
   "source": [
    "%%time\n",
    "\n",
    "node_id_to_type = {row.id: row.type for row in df_nodes.itertuples()}"
   ]
  },
  {
   "cell_type": "code",
   "execution_count": null,
   "id": "69d65666-825f-42f9-a86b-a3e3cac4d4d1",
   "metadata": {},
   "outputs": [],
   "source": [
    "%%time\n",
    "\n",
    "unique_triples = set()\n",
    "for row in df_edges.itertuples():\n",
    "    s = node_id_to_type[row.source_id]\n",
    "    p = row.type\n",
    "    o = node_id_to_type[row.target_id]\n",
    "    triple = (s, p, o)\n",
    "    unique_triples.add(triple)"
   ]
  },
  {
   "cell_type": "code",
   "execution_count": null,
   "id": "6adbbb36-3212-44de-8bdd-8b382488bb54",
   "metadata": {},
   "outputs": [],
   "source": [
    "gs = ig.Graph(directed=True)\n",
    "unique_nodes = set()\n",
    "for s, p, o in unique_triples:\n",
    "    for node in (s, o):\n",
    "        if node not in unique_nodes:\n",
    "            unique_nodes.add(node)\n",
    "            \n",
    "            node_size = int(nt_counts[node])\n",
    "            node_color = node_type_to_color.get(node, '')\n",
    "            node_hover = f\"{node}\\n\\n{nt_counts[node]} nodes of this type are contained in the knowledge graph.\"\n",
    "            gs.add_vertex(node, size=node_size, color=node_color, label_color=node_color, hover=node_hover)\n",
    "\n",
    "    edge_size = int(et_counts[p])\n",
    "    edge_color = node_type_to_color.get(s, '')\n",
    "    edge_hover = f\"{p}\\n\\n{et_counts[p]} edges of this type are contained in the knowledge graph.\"\n",
    "    gs.add_edge(s, o, size=edge_size, color=edge_color, hover=edge_hover, label=p, label_color=\"gray\", label_size=5)\n",
    "\n",
    "gs.vcount(), gs.ecount()"
   ]
  },
  {
   "cell_type": "code",
   "execution_count": null,
   "id": "7b272300-2f4a-4a72-9654-bf7104f929bd",
   "metadata": {},
   "outputs": [],
   "source": [
    "fig = gv.d3(\n",
    "    gs,\n",
    "    show_node_label=True,\n",
    "    node_label_data_source=\"name\",\n",
    "\n",
    "    show_edge_label=True,\n",
    "    edge_label_data_source=\"label\",\n",
    "    edge_curvature=0.2,\n",
    "\n",
    "    use_node_size_normalization=True,\n",
    "    node_size_normalization_min=10,\n",
    "    node_size_normalization_max=50,\n",
    "    node_drag_fix=True,\n",
    "    node_hover_neighborhood=True,\n",
    "    \n",
    "    use_edge_size_normalization=True,\n",
    "    edge_size_normalization_max=3,\n",
    "\n",
    "    many_body_force_strength=-3000,\n",
    "    zoom_factor=0.3,\n",
    ")\n",
    "fig"
   ]
  },
  {
   "cell_type": "code",
   "execution_count": null,
   "id": "822e0f83-be19-446b-bdd5-f94d056cc88e",
   "metadata": {},
   "outputs": [],
   "source": [
    "# Export the schema visualization\n",
    "schema_filepath = os.path.join(results_dir, f\"{project_name}_schema.html\")\n",
    "fig.export_html(schema_filepath, overwrite=True)"
   ]
  },
  {
   "cell_type": "markdown",
   "id": "1a5a56dd-009b-4490-9601-9df15ebcb644",
   "metadata": {},
   "source": [
    "Interpretation:\n",
    "- Each node in the schema corresponds to one of the 32 node types in the data.\n",
    "  - *Node size* represents the number of instances, i.e. how often that node type is present in the knowledge graph. The exact number can also be seen when hovering over a node. The large differences indicate again that the dataset is rather unbalanced.\n",
    "  - *Node color* represents particular node types. The coloring scheme is based on a deliberately simple RGB palette with the same meaning across multiple notebooks to enable some visual comparison. The idea behind it is to highlight an interplay of certain entities, namely that drugs (or small molecules in general) can bind to proteins (or gene products in general) and thereby alter diseases (or involved pathways).\n",
    "    - *green* = drugs & other small molecules (e.g. toxins)\n",
    "    - *blue* = genes & gene products (e.g. proteins or RNAs)\n",
    "    - *red* = diseases & related concepts (e.g. pathways)\n",
    "    - *black* = all other types of entities\n",
    "- Each edge in the schema stands for one of the 39 edge types in the data. It is possible that the same edge type appears between different nodes.\n",
    "  - *Edge size* represents the number of instances, i.e. how often that edge type is present in the knowledge graph.\n",
    "  - *Edge color* is identical to the color of the source node, again to highlight the interplay between drugs, targets and diseases."
   ]
  },
  {
   "cell_type": "markdown",
   "id": "f9e5d00c-923c-4def-b30c-23196269fb65",
   "metadata": {},
   "source": [
    "## 6. Knowledge graph reconstruction\n",
    "\n",
    "Usually, this section first converts the raw data to an intermediate format used in several notebooks, and then reconstructs the knowledge graph from the standardized data with shared code. However, in the case of CKG, the data conversion was already done in section 3 that extracted the nodes and edges from the provided Neo4j database. Further, only a part of the knowledge graph will be reconstructed for memory reasons.\n",
    "- The intermediate form of the data is created as two simple Python lists, one for nodes and the other for edges, which can be exported to two CSV files.\n",
    "- The knowledge graph is built as a graph object from the Python package [igraph](https://igraph.org/python), which can be exported to a [GraphML](https://en.wikipedia.org/wiki/GraphML) file.\n",
    "\n",
    "### a) Convert the data into a standardized format\n",
    "\n",
    "Transform the raw data to an standardized format that is compatible with most biomedical knowledge graphs in order to enable shared downstream processing:\n",
    "- Each node is represented by three items: `id (str), type (str), properties (dict)`\n",
    "- Each edge is represented by four items: `source_id (str), target_id (str), type(str), properties (dict)`\n",
    "\n",
    "This format was initially inspired by a straightforward way in which the content of a Neo4j graph database can be exported to two CSV files, one for all nodes and the other for all edges. This is an effect of the [property graph model](https://neo4j.com/docs/getting-started/appendix/graphdb-concepts/) used in Neo4j and many other graph databases, which also appears to be general enough to fully capture the majority of biomedical knowledge graphs described in scientific literature, despite the large variety of formats they are shared in.\n",
    "\n",
    "A second motivation was that each line represents a single node or edge, and that no entry is connected to any sections at other locations, such as property descriptions at the beginning of a GraphML file. This structural simplicity makes it very easy to load just a subset of nodes and edges by picking a subset of lines, or to skip the loading of properties if they not required for a task simply by ignoring a single column.\n",
    "\n",
    "Finally, this format also allows to load the data directly into popular SQL databases like [SQLite](https://www.sqlite.org), [MySQL](https://www.mysql.com) or [PostgreSQL](https://www.postgresql.org/) with built-in CSV functions ([CSV in SQLite](https://www.sqlite.org/draft/cli.html#importing_files_as_csv_or_other_formats), [CSV in MySQL](https://dev.mysql.com/doc/refman/en/loading-tables.html), [CSV in PostgreSQL](https://www.postgresql.org/docs/current/sql-copy.html)). Further, the JSON string in the property column can be accessed directly by built-in JSON functions ([JSON in SQLite](https://www.sqlite.org/json1.html), [JSON in MySQL](https://dev.mysql.com/doc/refman/en/json-function-reference.html), [JSON in PostgreSQL](https://www.postgresql.org/docs/current/functions-json.html)), which enables sophisticated queries that access or modify specific properties within the JSON data.\n",
    "\n",
    "#### Subset of node ids\n",
    "\n",
    "**Caution: Only a part of the knowledge graph is reconstructed here**, because the entire dataset is too large to load it completely into a igraph graph object in memory on an average laptop. To do so, first a subset of interesting nodes is identified (associated with the Imatinib/CML story that follows later), then all edges are collected that contain these nodes as source or target, and finally all nodes are collected that appear on either side of these edges."
   ]
  },
  {
   "cell_type": "code",
   "execution_count": null,
   "id": "4c2aa004-702c-4892-884f-f63622c1ce6f",
   "metadata": {},
   "outputs": [],
   "source": [
    "%%time\n",
    "\n",
    "substrings = [\"bcr\", \"abl1\", \"imatinib\", \"chronic myeloid leukemia\"]\n",
    "column = \"properties\"\n",
    "mask = df_nodes[column].str.contains(substrings[0], case=False, na=False)\n",
    "for substring in substrings[1:]:\n",
    "    mask |= df_nodes[column].str.contains(substring, case=False, na=False)\n",
    "\n",
    "df_nodes_filtered = df_nodes[mask].compute()\n",
    "node_ids = set(df_nodes_filtered[\"id\"])"
   ]
  },
  {
   "cell_type": "markdown",
   "id": "74609030-571d-490f-ae28-fdbfc0329221",
   "metadata": {},
   "source": [
    "#### Edges"
   ]
  },
  {
   "cell_type": "code",
   "execution_count": null,
   "id": "9dae1bf7-4305-4b70-9617-569a1c7f8c39",
   "metadata": {},
   "outputs": [],
   "source": [
    "%%time\n",
    "\n",
    "mask = df_edges[\"source_id\"].isin(node_ids) | df_edges[\"target_id\"].isin(node_ids)\n",
    "edges = df_edges[mask].compute().values.tolist()\n",
    "edges = [(sid, tid, etype, json.loads(eproperties)) for sid, tid, etype, eproperties in edges]"
   ]
  },
  {
   "cell_type": "markdown",
   "id": "5920d334-5319-412f-8ecf-6c36ca9e6ab3",
   "metadata": {},
   "source": [
    "#### Nodes"
   ]
  },
  {
   "cell_type": "code",
   "execution_count": null,
   "id": "1e099cfd-80bb-4f4d-9aea-5c7a18477f44",
   "metadata": {},
   "outputs": [],
   "source": [
    "source_ids = [sid for sid, tid, etype, eproperties in edges]\n",
    "target_ids = [tid for sid, tid, etype, eproperties in edges]\n",
    "node_ids_in_edges = set(source_ids + target_ids)"
   ]
  },
  {
   "cell_type": "code",
   "execution_count": null,
   "id": "089920f7-0d1b-4442-b2c6-cd8c20e13bdc",
   "metadata": {},
   "outputs": [],
   "source": [
    "%%time\n",
    "\n",
    "mask = df_nodes[\"id\"].isin(node_ids_in_edges)\n",
    "nodes = df_nodes[mask].compute().values.tolist()\n",
    "nodes = [(nid, ntype, json.loads(nproperties)) for nid, ntype, nproperties in nodes]"
   ]
  },
  {
   "cell_type": "markdown",
   "id": "5892187f-67ea-48b6-bde3-c5997058aa82",
   "metadata": {},
   "source": [
    "### b) Export the standardized data to two CSV files\n",
    "\n",
    "Both the `id` and `type` items are simple strings, while the `properties` item is collection of key-value pairs represented by a Python dictionary that can be converted to a single JSON string, which the export function does internally. This means each node is fully represented by three strings, and each edge by four strings due to having a source id and target id."
   ]
  },
  {
   "cell_type": "code",
   "execution_count": null,
   "id": "07c6e44d-291f-4955-b9ac-6a116f3c8e5c",
   "metadata": {},
   "outputs": [],
   "source": [
    "nodes_csv_filepath = shared_bmkg.export_nodes_as_csv(nodes, results_dir, project_name + \"_subset\")"
   ]
  },
  {
   "cell_type": "code",
   "execution_count": null,
   "id": "6f62e38a-5577-4f62-8450-26091cd08c31",
   "metadata": {},
   "outputs": [],
   "source": [
    "edges_csv_filepath = shared_bmkg.export_edges_as_csv(edges, results_dir, project_name + \"_subset\")"
   ]
  },
  {
   "cell_type": "markdown",
   "id": "a8825f40-ad9d-444b-8cb3-7894c81271a1",
   "metadata": {},
   "source": [
    "### c) Use the standardized data to build a graph\n",
    "\n",
    "Reconstruct a part of the knowledge graph in form of a [Graph object](https://igraph.org/python/doc/api/igraph.Graph.html) from the package [igraph](https://igraph.org/python). This kind of graph object allows to have directed multi-edges, i.e. an edge has a source and a target node, and two nodes can be connected by more than one edge. It also allows to have node and edge properties. These features are necessary and sufficient to represent almost any biomedical knowledge graph found in academic literature."
   ]
  },
  {
   "cell_type": "code",
   "execution_count": null,
   "id": "e3dbe64b-d9e1-4e0e-ac5a-02283e5841e3",
   "metadata": {},
   "outputs": [],
   "source": [
    "g = shared_bmkg.create_graph(nodes, edges)\n",
    "shared_bmkg.report_graph_stats(g)"
   ]
  },
  {
   "cell_type": "code",
   "execution_count": null,
   "id": "74864a6b-c284-4aa7-881b-7a32bdd51675",
   "metadata": {},
   "outputs": [],
   "source": [
    "# Correctness checks\n",
    "\n",
    "# 1) Does the reconstructed graph contain the same number of nodes as the raw data?\n",
    "num_nodes_in_data = len(nodes)\n",
    "num_nodes_in_graph = g.vcount()\n",
    "assert num_nodes_in_graph == num_nodes_in_data, f\"Node counts differ: {num_nodes_in_graph} != {num_nodes_in_data}\"\n",
    "print(f\"{num_nodes_in_graph:,} = {num_nodes_in_data:,}\")\n",
    "\n",
    "# 2) Does the reconstructed graph contain the same number of (unique) edges as the raw data?\n",
    "num_edges_in_data = len(edges)\n",
    "num_edges_in_graph = g.ecount()\n",
    "assert num_edges_in_graph == num_edges_in_data, f\"Edge counts differ: {num_edges_in_graph} != {num_edges_in_data}\"\n",
    "print(f\"{num_edges_in_graph:,} = {num_edges_in_data:,}\")"
   ]
  },
  {
   "cell_type": "markdown",
   "id": "02845637-eedc-4afe-b6f7-13d6a152a88a",
   "metadata": {},
   "source": [
    "Select the largest connected component of the graph in order to get rid of some small disconnected subgraphs"
   ]
  },
  {
   "cell_type": "code",
   "execution_count": null,
   "id": "60ebeec9-ed3f-4722-b19d-f7556f9c2d2e",
   "metadata": {},
   "outputs": [],
   "source": [
    "g = g.connected_components(mode=\"weak\").giant()\n",
    "shared_bmkg.report_graph_stats(g)"
   ]
  },
  {
   "cell_type": "markdown",
   "id": "2332eb12-372b-4abd-9ddd-e67d31eac0d9",
   "metadata": {},
   "source": [
    "### d) Export the graph to a GraphML file\n",
    "\n",
    "Export the graph with all nodes, edges and properties as a single [GraphML](https://en.wikipedia.org/wiki/GraphML) file."
   ]
  },
  {
   "cell_type": "code",
   "execution_count": null,
   "id": "a8f21de1-9a69-4c72-a85f-c36d89762cdd",
   "metadata": {},
   "outputs": [],
   "source": [
    "%%time\n",
    "\n",
    "g_graphml_filepath = shared_bmkg.export_graph_as_graphml(g, results_dir, project_name)"
   ]
  },
  {
   "cell_type": "markdown",
   "id": "320e1741-8ece-4226-b9a1-0d592517bc0b",
   "metadata": {},
   "source": [
    "## 7. Subgraph exploration\n",
    "\n",
    "This section explores small subgraphs of the knowledge graph in two ways: first by inspecting the direct neighborhood of a selected node, and second by finding shortest paths between two chosen nodes.\n",
    "\n",
    "As a simple case study, the goal is to identify some nodes in the knowledge graph that are associated with the success story of the drug Imatinib, which was one of the first [targeted therapies](https://en.wikipedia.org/wiki/Targeted_therapy) against cancer. Detailed background information can for example be found in an article by the [National Cancer Institute](https://www.cancer.gov/research/progress/discovery/gleevec) and in a [talk by Brian Druker](https://www.ibiology.org/human-disease/imatinib-paradigm-targeted-cancer-therapies) who played a major role in the development of this paradigm-changing drug. To give a simplified summary, following biological entities and relationships are involved:\n",
    "\n",
    "- Mutation: In a bone marrow stem cell, a translocation event between chromosome 9 and 22 leads to what has been called the [Philadelphia chromosome](https://en.wikipedia.org/wiki/Philadelphia_chromosome), which can be seen under a microscope and got named after the city it originally got discovered in.\n",
    "- Gene: It turned out that this particular rearrangement of DNA fuses the [BCR](https://en.wikipedia.org/wiki/BCR_(gene)) gene on chromosome 22 to the [ABL1](https://en.wikipedia.org/wiki/ABL_(gene)) gene on chromosome 9, resulting in a new fusion gene known as BCR-ABL1.\n",
    "- Disease: BCR-ABL1 acts as an oncogene, because it expresses a protein that is a defective [tyrosine kinase](https://en.wikipedia.org/wiki/Tyrosine_kinase) in a permanent \"on\" state, which leads to uncontrolled growth of certain white blood cells and their precursors, thereby driving the disease [Chronic Myelogenous Leukemia (CML)](https://en.wikipedia.org/wiki/Chronic_myelogenous_leukemia).\n",
    "- Drug: [Imatinib (Gleevec)](https://en.wikipedia.org/wiki/Imatinib) was the first demonstration that a potent and selective [Bcr-Abl tyrosine-kinase inhibitor (TKI)](https://en.wikipedia.org/wiki/Bcr-Abl_tyrosine-kinase_inhibitor) is possible and that such a targeted inhibition of an oncoprotein halts the uncontrolled growth of leukemia cells with BCR-ABL1, while having significantly less effect on other cells in the body compared to conventional chemotherapies used in cancer. This revolutionized the treatment of CML and drastically improved the five-year survival rate of patients from less than 20% to over 90%, as well as their quality of life.\n",
    "\n",
    "In reality the story is a bit more complex, for example because there are other genes involved in disease progression, there are many closely related forms of leukemia, BCR-ABL1 also plays a role in other forms of cancer, there are several drugs available as treatment options today, all of them bind to more than one target and with different affinities, and their individual binding profiles are relevant to their particular therapeutic effects. Inspecting the knowledge graph will focus on highlighting some entities of the simplified story, but the surrounding elements will also indicate some of the complexity encountered in reality. Some simple forms of reasoning on the knowledge graph will demonstrate its potential for discovering new patterns and hypotheses.\n",
    "\n",
    "### a) Search for interesting nodes"
   ]
  },
  {
   "cell_type": "code",
   "execution_count": null,
   "id": "1d543520-7d5e-4529-986e-ff2981536a53",
   "metadata": {},
   "outputs": [],
   "source": [
    "# Drug: Imatinib\n",
    "shared_bmkg.list_nodes_matching_substring(g, \"imatinib\", \"_name\")"
   ]
  },
  {
   "cell_type": "code",
   "execution_count": null,
   "id": "0a138d74-7f06-4077-9905-88fde2a2cc26",
   "metadata": {},
   "outputs": [],
   "source": [
    "# Gene: ABL1\n",
    "shared_bmkg.list_nodes_matching_substring(g, \"abl1\", \"_name\")  # Key \"name\" had to be replaced with \"_name\" to prevent an issue with igraph"
   ]
  },
  {
   "cell_type": "code",
   "execution_count": null,
   "id": "1fad6a2f-351b-43dd-a4ca-4a9dd21a2c7c",
   "metadata": {},
   "outputs": [],
   "source": [
    "# Disease: Myeloid Leukemia - to find Chronic Myeloid Leukemia (CML)\n",
    "shared_bmkg.list_nodes_matching_substring(g, \"myeloid leukemia\", \"_name\")"
   ]
  },
  {
   "cell_type": "markdown",
   "id": "4b81780f-8ee9-42cf-858b-d3913030dc6c",
   "metadata": {},
   "source": [
    "### b) Explore the neighborhood of a chosen node"
   ]
  },
  {
   "cell_type": "code",
   "execution_count": null,
   "id": "54ede291-ff29-4ccf-bd10-4498ad047ae3",
   "metadata": {},
   "outputs": [],
   "source": [
    "# Neighborhood of drug Imatinib\n",
    "source = \"14709403\"\n",
    "subgraph = shared_bmkg.get_egocentric_subgraph(g, source)\n",
    "\n",
    "# Export\n",
    "filename = f\"{project_name}_neighbors_imatinib\"\n",
    "shared_bmkg.export_graph_as_graphml(subgraph, results_dir, filename)\n",
    "shared_bmkg.export_nodes_as_csv(nodes, results_dir, filename, subgraph)\n",
    "shared_bmkg.export_edges_as_csv(edges, results_dir, filename, subgraph)\n",
    "\n",
    "# Report\n",
    "shared_bmkg.report_graph_stats(subgraph)\n",
    "shared_bmkg.visualize_graph(subgraph, node_type_to_color, source=source)"
   ]
  },
  {
   "cell_type": "markdown",
   "id": "55a2e0b8-b8f9-4fef-b06f-02c945160c13",
   "metadata": {},
   "source": [
    "Interpretation:\n",
    "- The drug Imatinib (green node at the center) is connected only to one other node, a pathway named \"Imatinib Inhibition of BCR-ABL\".\n",
    "- **Caution**: This small neighborhood is most likely a result of the filtering step that had to be performed in order to get to a reasonably sized graph that fits into memory. It does not reflect all information about Imatinib in CKG!"
   ]
  },
  {
   "cell_type": "code",
   "execution_count": null,
   "id": "51bb6cad-c6d2-4d36-b837-5e00c663d918",
   "metadata": {},
   "outputs": [],
   "source": [
    "# Neighborhood of protein ABL1\n",
    "source = \"415687\"\n",
    "subgraph = shared_bmkg.get_egocentric_subgraph(g, source)\n",
    "\n",
    "# Export\n",
    "filename = f\"{project_name}_neighbors_abl1\"\n",
    "shared_bmkg.export_graph_as_graphml(subgraph, results_dir, filename)\n",
    "shared_bmkg.export_nodes_as_csv(nodes, results_dir, filename, subgraph)\n",
    "shared_bmkg.export_edges_as_csv(edges, results_dir, filename, subgraph)\n",
    "\n",
    "# Report\n",
    "shared_bmkg.report_graph_stats(subgraph)\n",
    "#shared_bmkg.visualize_graph(subgraph, node_type_to_color, source=source)"
   ]
  },
  {
   "cell_type": "markdown",
   "id": "c505f932-fa2d-4b3f-b34e-be45208a4f6d",
   "metadata": {},
   "source": [
    "Interpretation:\n",
    "- CKG contains too many nodes connected to the protein ABL1 for plotting it and performing a visual analysis.\n",
    "- **Caution**: This might not even be the entire neighborhood due to the filtering step that had to be performed in order to get to a reasonably sized graph that fits into memory."
   ]
  },
  {
   "cell_type": "code",
   "execution_count": null,
   "id": "bf813f26-d411-4d26-9a03-61aacfc87ffa",
   "metadata": {},
   "outputs": [],
   "source": [
    "# Neighborhood of disease CML\n",
    "source = \"10265\"\n",
    "subgraph = shared_bmkg.get_egocentric_subgraph(g, source)\n",
    "\n",
    "# Export\n",
    "filename = f\"{project_name}_neighbors_cml\"\n",
    "shared_bmkg.export_graph_as_graphml(subgraph, results_dir, filename)\n",
    "shared_bmkg.export_nodes_as_csv(nodes, results_dir, filename, subgraph)\n",
    "shared_bmkg.export_edges_as_csv(edges, results_dir, filename, subgraph)\n",
    "\n",
    "# Report\n",
    "shared_bmkg.report_graph_stats(subgraph)"
   ]
  },
  {
   "cell_type": "markdown",
   "id": "020c7507-cbad-4216-a9b1-248f6ec145b6",
   "metadata": {},
   "source": [
    "Interpretation:\n",
    "- CKG contains too many nodes connected to the disease CML for plotting it and performing a visual analysis.\n",
    "- **Caution**: This might not be the entire neighborhood due to the filtering step that had to be performed in order to get to a reasonably sized graph that fits into memory."
   ]
  },
  {
   "cell_type": "markdown",
   "id": "1e231929-01ca-4a88-888e-56f2c05f58bf",
   "metadata": {},
   "source": [
    "### c) Find shortest paths between two chosen nodes"
   ]
  },
  {
   "cell_type": "code",
   "execution_count": null,
   "id": "205c4717-f13c-4f94-9826-c58481a4bcf4",
   "metadata": {},
   "outputs": [],
   "source": [
    "# Paths from transcript \"tyrosine-protein kinase ABL1 isoform a\" to disease AML\n",
    "source = \"270788\"\n",
    "target = \"10440\"\n",
    "subgraph = shared_bmkg.get_paths_subgraph(g, source, target)\n",
    "\n",
    "# Report\n",
    "shared_bmkg.report_graph_stats(subgraph)\n",
    "shared_bmkg.visualize_graph(subgraph, node_type_to_color, source, target)"
   ]
  },
  {
   "cell_type": "markdown",
   "id": "c2d93305-f57e-4675-b89e-17896b86fd89",
   "metadata": {},
   "source": [
    "Interpretation:\n",
    "- The transcript \"tyrosine-protein kinase ABL1 isoform a\" (blue node on the left) leads via a single path to the disease AML (red node on the right). It is connected via a \"TRANSLATED_INTO\" relation to the protein ABL1, which in turn is linked by a \"ASSOCIATED_WITH\" relation to the disease AML.\n",
    "- **Caution**: These might not be all paths due to the filtering step that had to be performed in order to get to a reasonably sized graph that fits into memory."
   ]
  }
 ],
 "metadata": {
  "kernelspec": {
   "display_name": "Python 3 (ipykernel)",
   "language": "python",
   "name": "python3"
  },
  "language_info": {
   "codemirror_mode": {
    "name": "ipython",
    "version": 3
   },
   "file_extension": ".py",
   "mimetype": "text/x-python",
   "name": "python",
   "nbconvert_exporter": "python",
   "pygments_lexer": "ipython3",
   "version": "3.12.4"
  }
 },
 "nbformat": 4,
 "nbformat_minor": 5
}
