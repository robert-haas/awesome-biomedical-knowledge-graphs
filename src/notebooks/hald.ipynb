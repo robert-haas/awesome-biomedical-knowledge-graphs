{
 "cells": [
  {
   "cell_type": "markdown",
   "id": "f9316ac5-d853-410d-b54f-4cac2a3e8c6f",
   "metadata": {},
   "source": [
    "# HALD\n",
    "\n",
    "This notebook explores the biomedical knowledge graph provided by the project **Human Aging and Longevity Dataset (HALD)**: [Publication (2023)](https://doi.org/10.1038/s41597-023-02781-0), [Website](https://bis.zju.edu.cn/hald), [Code](https://github.com/zexuwu/hald), [Data](https://doi.org/10.6084/m9.figshare.22828196)\n",
    "\n",
    "The source file of this notebook is [hald.ipynb](https://github.com/robert-haas/awesome-biomedical-knowledge-graphs/blob/main/src/notebooks/hald.ipynb) and can be found in the repository [awesome-biomedical-knowledge-graphs](https://github.com/robert-haas/awesome-biomedical-knowledge-graphs) that also contains information about similar projects.\n",
    "\n",
    "\n",
    "## Table of contents\n",
    "\n",
    "1. [Setup](#1.-Setup)\n",
    "2. [Data download](#2.-Data-download)\n",
    "3. [Data import](#3.-Data-import)\n",
    "4. [Data inspection](#4.-Data-inspection)\n",
    "5. [Schema discovery](#5.-Schema-discovery)\n",
    "6. [Knowledge graph reconstruction](#6.-Knowledge-graph-reconstruction)\n",
    "7. [Subgraph exploration](#7.-Subgraph-exploration)\n",
    "8. [Appendix: Loading and querying the converted data with SQLite](#Appendix:-Loading-and-querying-the-converted-data-with-SQLite)"
   ]
  },
  {
   "cell_type": "markdown",
   "id": "bf9831c9-8eb5-4df2-951b-1fc9d82838d4",
   "metadata": {},
   "source": [
    "## 1. Setup\n",
    "\n",
    "This section prepares the environment for the following exploratory data analysis.\n",
    "\n",
    "### a) Import packages\n",
    "\n",
    "From the [Python standard library](https://docs.python.org/3/library/index.html)."
   ]
  },
  {
   "cell_type": "code",
   "execution_count": null,
   "id": "e28dadef-c305-4cd3-b329-0b83340fbe0c",
   "metadata": {},
   "outputs": [],
   "source": [
    "import os"
   ]
  },
  {
   "cell_type": "markdown",
   "id": "7895c641-1807-42c1-8e98-ff0577ae25fe",
   "metadata": {},
   "source": [
    "From the [Python Package Index (PyPI)](https://pypi.org)."
   ]
  },
  {
   "cell_type": "code",
   "execution_count": null,
   "id": "89c52b7b-6874-414d-917f-4c3018ce361a",
   "metadata": {},
   "outputs": [],
   "source": [
    "import gravis as gv  # for visualization of the KG schema and subgraphs, developed by the author of this notebook\n",
    "import igraph as ig\n",
    "import pandas as pd"
   ]
  },
  {
   "cell_type": "markdown",
   "id": "208ac347-2ce9-46fa-aa66-61325e34c033",
   "metadata": {},
   "source": [
    "From a local Python module named [shared_bmkg.py](https://github.com/robert-haas/awesome-biomedical-knowledge-graphs/blob/main/src/notebooks/shared_bmkg.py). The functions in it are used in several similar notebooks to reduce code repetition and to improve readability."
   ]
  },
  {
   "cell_type": "code",
   "execution_count": null,
   "id": "c3fc1086-f41b-47e0-bd45-78cb138d50e7",
   "metadata": {},
   "outputs": [],
   "source": [
    "import shared_bmkg"
   ]
  },
  {
   "cell_type": "markdown",
   "id": "f4286aa1-4c98-47fc-9bb9-400370318ba4",
   "metadata": {},
   "source": [
    "### b) Create data directories\n",
    "\n",
    "The raw data provided by the project and the transformed data generated throughout this notebook are stored in separate directories. If the notebook is run more than once, the downloaded data is reused instead of fetching it again, but all data transformations are rerun."
   ]
  },
  {
   "cell_type": "code",
   "execution_count": null,
   "id": "8e7b01d5-462d-4fb6-a8f7-49602b924a4f",
   "metadata": {},
   "outputs": [],
   "source": [
    "project_name = \"hald\"\n",
    "download_dir = os.path.join(project_name, \"downloads\")\n",
    "results_dir = os.path.join(project_name, \"results\")\n",
    "\n",
    "shared_bmkg.create_dir(download_dir)\n",
    "shared_bmkg.create_dir(results_dir)"
   ]
  },
  {
   "cell_type": "markdown",
   "id": "d96a3a85-ea6a-43d2-9635-fa50f5724e1f",
   "metadata": {},
   "source": [
    "## 2. Data download\n",
    "\n",
    "This section fetches the data published by the project on [figshare](https://doi.org/10.6084/m9.figshare.22828196). The latest available version at the time of creating this notebook was used: `Version 6 (2023-12-12)`.\n",
    "\n",
    "### All files provided by the project\n",
    "\n",
    "- `Entity_Info.json`: Nodes and some node annotations.\n",
    "- `Relation_Info.json`: Edges and some edge annotations.\n",
    "- `Entities.csv`, `Roles.csv`: Presumably the same information as above, but in a format compatible with the graph database [Neo4j](https://en.wikipedia.org/wiki/Neo4j).\n",
    "- `Literature_Info.json`: Background information about the literature used as input for the NLP pipeline that identified entities and relations in the texts.\n",
    "- `Aging_Biomarkers.json`, `Longevity_Biomarkers.json`: A subset of nodes identified in a downstream analysis to either enhance or reduce aging.\n",
    "\n",
    "### Files needed to create the knowledge graph\n",
    "\n",
    "- `Entity_Info.json` and `Relation_Info.json` contain all information required for reconstructing the knowledge graph.\n",
    "- Alternatively,  `Entities.csv` and `Roles.csv` could be used as well but they are structured specifically for Neo4j."
   ]
  },
  {
   "cell_type": "code",
   "execution_count": null,
   "id": "3088e964-ab6b-47e1-9ecc-181f30c30606",
   "metadata": {},
   "outputs": [],
   "source": [
    "download_specification = [\n",
    "    (\"Entity_Info.json\", \"https://figshare.com/ndownloader/files/43612509\", \"1746cde24a1bac0460f1ccf646608cc9\"),\n",
    "    (\"Relation_Info.json\", \"https://figshare.com/ndownloader/files/43612506\", \"0c1fa199269adc58f64ad4d5b9fd87b9\"),\n",
    "\n",
    "    (\"Entities.csv\", \"https://figshare.com/ndownloader/files/43612494\", \"b29f16555759edbbd05e59fa34cccdc5\"),\n",
    "    (\"Roles.csv\", \"https://figshare.com/ndownloader/files/43612500\", \"65ad0206fb61bbc483065e47aa113172\"),\n",
    "\n",
    "    (\"Literature_Info.json\", \"https://figshare.com/ndownloader/files/43612512\", \"10b78e8ec30f5b85f2a58d8fe24f056b\"),\n",
    "\n",
    "    (\"Aging_Biomarkers.json\", \"https://figshare.com/ndownloader/files/43612503\", \"abd0eb6cb7295ae500c5d676b7797324\"),\n",
    "    (\"Longevity_Biomarkers.json\", \"https://figshare.com/ndownloader/files/43612497\", \"0dbd9c3f8474dc3cd744ed38af460d75\"),\n",
    "]\n",
    "\n",
    "for filename, url, md5 in download_specification:\n",
    "    filepath = os.path.join(download_dir, filename)\n",
    "    shared_bmkg.fetch_file(url, filepath)\n",
    "    shared_bmkg.validate_file(filepath, md5)\n",
    "    print()"
   ]
  },
  {
   "cell_type": "markdown",
   "id": "e75b467f-4447-4498-b073-addc663447f0",
   "metadata": {},
   "source": [
    "## 3. Data import\n",
    "\n",
    "This section loads the raw files into Python data structures for the following inspection and conversion."
   ]
  },
  {
   "cell_type": "code",
   "execution_count": null,
   "id": "b02afcfa-4923-4184-8ab4-1000895f1a8a",
   "metadata": {},
   "outputs": [],
   "source": [
    "%%time\n",
    "\n",
    "data_nodes = shared_bmkg.read_json_file(os.path.join(download_dir, \"Entity_Info.json\"))\n",
    "data_edges = shared_bmkg.read_json_file(os.path.join(download_dir, \"Relation_Info.json\"))"
   ]
  },
  {
   "cell_type": "code",
   "execution_count": null,
   "id": "aac8ffe7-afcf-47da-830d-ecdf4cf12995",
   "metadata": {},
   "outputs": [],
   "source": [
    "%%time\n",
    "\n",
    "df_neo4j_entities = shared_bmkg.read_csv_file(os.path.join(download_dir, \"Entities.csv\"))\n",
    "df_neo4j_roles = shared_bmkg.read_csv_file(os.path.join(download_dir, \"Roles.csv\"))"
   ]
  },
  {
   "cell_type": "code",
   "execution_count": null,
   "id": "9a13d8aa-2942-41bd-8727-438b2677db62",
   "metadata": {},
   "outputs": [],
   "source": [
    "%%time\n",
    "\n",
    "data_literature_info = shared_bmkg.read_json_file(os.path.join(download_dir, \"Literature_Info.json\"))"
   ]
  },
  {
   "cell_type": "code",
   "execution_count": null,
   "id": "2483201f-a6ba-4a93-9d9b-787caf1ffaa8",
   "metadata": {},
   "outputs": [],
   "source": [
    "%%time\n",
    "\n",
    "data_aging_biomarkers = shared_bmkg.read_json_file(os.path.join(download_dir, \"Aging_Biomarkers.json\"))\n",
    "data_longevity_biomarkers = shared_bmkg.read_json_file(os.path.join(download_dir, \"Longevity_Biomarkers.json\"))"
   ]
  },
  {
   "cell_type": "markdown",
   "id": "f88dac20-a7cc-4322-98aa-6ca8c7429e2c",
   "metadata": {},
   "source": [
    "## 4. Data inspection\n",
    "\n",
    "This section attempts to reproduce some published numbers by inspecting the raw data and then prints a few exemplary records.\n",
    "\n",
    "The [publication](https://doi.org/10.1038/s41597-023-02781-0) mentions following statistics about the knowledge graph contents: \n",
    "- 12,227 nodes having 10 different node types\n",
    "- 115,522 edges having a lot of different edge types since they reflect verbs in the input texts\n",
    "\n",
    "### a) Number of nodes and edges"
   ]
  },
  {
   "cell_type": "code",
   "execution_count": null,
   "id": "c238638e-e667-4f8a-8c8c-a8853529a8c5",
   "metadata": {},
   "outputs": [],
   "source": [
    "num_nodes = len(data_nodes)\n",
    "num_edges = len(data_edges)\n",
    "\n",
    "print(f\"{num_nodes:,} nodes\")\n",
    "print(f\"{num_edges:,} edges\")"
   ]
  },
  {
   "cell_type": "markdown",
   "id": "48b6ded0-e877-4398-ab25-b66e267556ab",
   "metadata": {},
   "source": [
    "Interpretation:\n",
    "- Inspecting the raw data resulted in **12,257 nodes**, while the publication mentioned **12,227 nodes**, which is 30 fewer.\n",
    "- Inspecting the raw data resulted in **116,495 edges**, while the publication mentioned **115,522 edges**, which is 973 fewer.\n",
    "- Both **differences** were not yet present in an earlier version of the public dataset (Version 3). This suggests that the authors made slight modifications to the knowledge graph creation process after the publication, presumably to correct an error in the computation or to accommodate slightly different input data."
   ]
  },
  {
   "cell_type": "markdown",
   "id": "6893a84e-28cf-48fb-8a32-32f57f2d7ddb",
   "metadata": {},
   "source": [
    "### b) Types of nodes and edges"
   ]
  },
  {
   "cell_type": "code",
   "execution_count": null,
   "id": "cdfb85c5-0277-46e6-9b09-e50cb0197289",
   "metadata": {},
   "outputs": [],
   "source": [
    "nt_key = \"type\"\n",
    "nt_counts = {}\n",
    "for key, val in data_nodes.items():\n",
    "    nt = val[0][nt_key]\n",
    "    if nt not in nt_counts:\n",
    "        nt_counts[nt] = 0\n",
    "    nt_counts[nt] += 1\n",
    "\n",
    "num_node_types = len(nt_counts)\n",
    "print(f\"{num_node_types} node types, sorted by their frequency of occurrence:\")\n",
    "for nt, cnt in sorted(nt_counts.items(), key=lambda item: -item[1]):\n",
    "    print(f\"- {nt}: {cnt}\")"
   ]
  },
  {
   "cell_type": "code",
   "execution_count": null,
   "id": "5d6b7c79-2a5e-4ac6-8f2d-013edb26d613",
   "metadata": {},
   "outputs": [],
   "source": [
    "et_key = \"relationship\"\n",
    "et_counts = {}\n",
    "for key, val in data_edges.items():\n",
    "    et = val[et_key]\n",
    "    if et not in et_counts:\n",
    "        et_counts[et] = 0\n",
    "    et_counts[et] += 1\n",
    "\n",
    "num_edge_types = len(et_counts)\n",
    "print(f\"{num_edge_types} edge types, sorted by their frequency of occurrence:\")\n",
    "n = 10\n",
    "print_this = True\n",
    "for i, (et, cnt) in enumerate(sorted(et_counts.items(), key=lambda item: -item[1])):\n",
    "    if print_this:\n",
    "        print(f\"- {et}: {cnt}\")\n",
    "    if i == n:\n",
    "        print('...')\n",
    "        print_this = False\n",
    "    if i == len(et_counts) - n:\n",
    "        print_this = True"
   ]
  },
  {
   "cell_type": "code",
   "execution_count": null,
   "id": "39d8d2cc-d87a-4fcc-b5e6-ba94f1c02120",
   "metadata": {},
   "outputs": [],
   "source": [
    "# Correctness checks\n",
    "\n",
    "# 1) Do the counts of different node types add up to the total number of nodes?\n",
    "sum_node_types = sum(nt_counts.values())\n",
    "assert sum_node_types == num_nodes, f\"Node counts differ: {sum_node_types} != {num_nodes}\"\n",
    "print(f\"{sum_node_types:,} = {num_nodes:,} nodes\")\n",
    "\n",
    "# 2) Do the counts of different edge types add up to the total number of edges?\n",
    "sum_edge_types = sum(et_counts.values())\n",
    "assert sum_edge_types == num_edges, f\"Edge counts differ: {sum_edge_types} != {num_edges}\"\n",
    "print(f\"{sum_edge_types:,} = {num_edges:,} edges\")"
   ]
  },
  {
   "cell_type": "markdown",
   "id": "c72c7b81-f69b-44bc-bd76-dfd0973b6c3e",
   "metadata": {},
   "source": [
    "Interpretation:\n",
    "- Inspecting the raw data resulted in **10 node types**, which matches the number mentioned in the publication.\n",
    "  - The numbers of instances per node type partially match those presented in a visualization on the [website](https://bis.zju.edu.cn/hald). They differ for example in the case of Lipids (177 here vs. 199 on the website). This observation fits to the difference in total node count.\n",
    "- Inspecting the raw data resulted in **3044 edge types**, while the publication did not specify any number for edge types.\n",
    "  - The reason for the large number of edge types and the omission of a quantification in the publication may be due to the method used for detecting edges. It is based on a natural language processing pipeline designed to \"extract open-domain relation triples with no schema input for relations in advance\". This means the types of edges are not predetermined by the authors, as is often the case in other projects, but comes directly from the texts used as input for the NLP pipeline.\n",
    "- Looking at **relative frequencies of node and edge types** suggests that the dataset is rather unbalanced.\n",
    "  - The most frequent node type is \"Gene\" with 5624 instances, while the least frequent node type is \"Toxin\" with only 13 instances, a difference of two orders of magnitude.\n",
    "  - The most frequent edge type is \"associated\" with 19110 instances, while the least frequent edge types only have 1 instance each, partly because they come from highly specific phrases only present in one source text.\n",
    "  - This result may be intentional to accurately represent how the source texts describe relationships, but some downstream analyses might be improved if highly similar edge types were combined into a single new type and perhaps if too infrequent ones were dropped. Indeed, one analysis presented in the publication goes into that direction: \"In the Biomarkers Identification phase, we classified the relationships into positive, association, and negative ones based on their types. Further\n",
    "identification as biomarkers for human aging and longevity was performed.\" and \"Finally, the entities were further identified as human aging and longevity biomarkers according to their relationships with aging-related diseases.\""
   ]
  },
  {
   "cell_type": "markdown",
   "id": "93557165-89df-43c0-a669-19e0f4ea5c96",
   "metadata": {},
   "source": [
    "### c) Example entries\n",
    "\n",
    "This section prints some example entries of the raw data. It gives an impression of the format chosen by the authors, which differs greatly between projects due to a lack of a broadly accepted standard for biomedical knowledge graphs."
   ]
  },
  {
   "cell_type": "code",
   "execution_count": null,
   "id": "e32a0b95-93a5-4b0f-9df9-2baeffbbdf58",
   "metadata": {},
   "outputs": [],
   "source": [
    "def report_first_n_items(data, n):\n",
    "    for i, item in enumerate(data.items(), 1):\n",
    "        print(str(item)[:1000], '...')\n",
    "        print()\n",
    "        if i == n:\n",
    "            break"
   ]
  },
  {
   "cell_type": "code",
   "execution_count": null,
   "id": "aae7b802-098a-49bc-9b4f-c4fc5b98f986",
   "metadata": {},
   "outputs": [],
   "source": [
    "def report_last_n_items(data, n):\n",
    "    for i, item in enumerate(reversed(data.items()), 1):\n",
    "        print(str(item)[:1000], '...')\n",
    "        print()\n",
    "        if i == n:\n",
    "            break"
   ]
  },
  {
   "cell_type": "markdown",
   "id": "5ce55a55-607c-4552-a64e-b8bc65ddf47c",
   "metadata": {},
   "source": [
    "#### Nodes together with node annotations"
   ]
  },
  {
   "cell_type": "code",
   "execution_count": null,
   "id": "dc562a90-f870-4a7f-b3fa-dd8b547b7879",
   "metadata": {},
   "outputs": [],
   "source": [
    "report_first_n_items(data_nodes, 2)"
   ]
  },
  {
   "cell_type": "code",
   "execution_count": null,
   "id": "5835528a-d643-4b11-822c-2e353e251287",
   "metadata": {},
   "outputs": [],
   "source": [
    "report_last_n_items(data_nodes, 2)"
   ]
  },
  {
   "cell_type": "markdown",
   "id": "696a1900-27c8-4dc9-838c-f3d604e17cab",
   "metadata": {},
   "source": [
    "#### Edges together with edge annotations"
   ]
  },
  {
   "cell_type": "code",
   "execution_count": null,
   "id": "bae54b22-b0e4-4d37-8926-9a54b98f20f7",
   "metadata": {},
   "outputs": [],
   "source": [
    "report_first_n_items(data_edges, 2)"
   ]
  },
  {
   "cell_type": "code",
   "execution_count": null,
   "id": "65020ba7-46f5-440c-948f-3a0ff66d89c5",
   "metadata": {},
   "outputs": [],
   "source": [
    "report_last_n_items(data_edges, 2)"
   ]
  },
  {
   "cell_type": "markdown",
   "id": "1f3bf948-be6d-449b-a47e-c431e5d8cd86",
   "metadata": {},
   "source": [
    "#### Nodes, edges and annotations in a different format for Neo4j"
   ]
  },
  {
   "cell_type": "code",
   "execution_count": null,
   "id": "eb2fde96-7aa8-47ce-909d-06b8873f39cb",
   "metadata": {},
   "outputs": [],
   "source": [
    "df_neo4j_entities"
   ]
  },
  {
   "cell_type": "code",
   "execution_count": null,
   "id": "70ba8228-6e4a-4c1f-b84d-41a7685b8942",
   "metadata": {},
   "outputs": [],
   "source": [
    "df_neo4j_roles"
   ]
  },
  {
   "cell_type": "markdown",
   "id": "ccd3c3ea-501a-4cbe-8aa5-7227dfd625c9",
   "metadata": {},
   "source": [
    "#### Background information about the used literature"
   ]
  },
  {
   "cell_type": "code",
   "execution_count": null,
   "id": "386c489a-97cf-4f97-a929-17993159c33e",
   "metadata": {},
   "outputs": [],
   "source": [
    "num_articles = len(data_literature_info)\n",
    "\n",
    "print(f\"There is information about {num_articles:,} articles used as input for \"\n",
    "      f\"the NLP pipeline that identified entities and relations in them.\")"
   ]
  },
  {
   "cell_type": "code",
   "execution_count": null,
   "id": "ba9d8ab6-648f-46f1-a177-23dd71d0b10a",
   "metadata": {},
   "outputs": [],
   "source": [
    "report_first_n_items(data_literature_info, 1)"
   ]
  },
  {
   "cell_type": "markdown",
   "id": "05047407-8345-4a2c-bc88-d50b023c2150",
   "metadata": {},
   "source": [
    "#### Information about a downstream analysis of nodes related to aging or longevity"
   ]
  },
  {
   "cell_type": "code",
   "execution_count": null,
   "id": "11c180e3-be48-4ab4-8738-56f93bff35f0",
   "metadata": {},
   "outputs": [],
   "source": [
    "num_aging_biomarkers = len(data_aging_biomarkers)\n",
    "num_longevity_biomarkers = len(data_longevity_biomarkers)\n",
    "\n",
    "print(f\"There is information about nodes that were identified as biomarkers by downstream analyses:\")\n",
    "print(f\"- {num_aging_biomarkers:,} entries were found to be aging-related biomarkers\")\n",
    "print(f\"- {num_longevity_biomarkers:,} entries were found to be longevity-related biomarkers\")"
   ]
  },
  {
   "cell_type": "code",
   "execution_count": null,
   "id": "88c8455e-0181-483b-bec4-b00865bacb22",
   "metadata": {},
   "outputs": [],
   "source": [
    "report_first_n_items(data_aging_biomarkers, 1)"
   ]
  },
  {
   "cell_type": "code",
   "execution_count": null,
   "id": "2f62f134-93da-4aa4-974c-2f8d1a892baf",
   "metadata": {},
   "outputs": [],
   "source": [
    "report_first_n_items(data_longevity_biomarkers, 1)"
   ]
  },
  {
   "cell_type": "markdown",
   "id": "11b8d34f-2b31-4332-a8f9-75cfb5090738",
   "metadata": {},
   "source": [
    "## 5. Schema discovery\n",
    "\n",
    "This section analyzes the structure of the knowledge graph by determining which types of nodes are connected by which types of edges. To construct this overview, it is necessary to iterate over the entire data once. The result is a condensed representation of all entities and relations, which is known as [data model](https://neo4j.com/docs/getting-started/data-modeling/guide-data-modeling/#whiteboard-friendly) or [schema](https://memgraph.com/docs/fundamentals/graph-modeling#designing-a-graph-database-schema) in the context of graph databases.\n",
    "\n",
    "Note: Since HALD has an unusually large number of edge types, the visualization would have a lot of arrows between any pair of node types. To make it tidier, all parallel arrows are condensed into a single arrow, and a list of all edge types that the arrow represents can be seen when hovering over it. This representation deviates slightly from the usual way to display a graph schema but conveys the same information."
   ]
  },
  {
   "cell_type": "code",
   "execution_count": null,
   "id": "f76d744e-c479-4bc7-bd72-a24ce2d63534",
   "metadata": {},
   "outputs": [],
   "source": [
    "node_type_to_color = {\n",
    "    \"Pharmaceutical Preparations\": \"green\",\n",
    "    \"Toxin\": \"green\",\n",
    "\n",
    "    \"Gene\": \"blue\",\n",
    "    \"Peptide\": \"blue\",\n",
    "    \"Protein\": \"blue\",\n",
    "    \"RNA\": \"blue\",\n",
    "\n",
    "    \"Disease\": \"red\",\n",
    "}"
   ]
  },
  {
   "cell_type": "code",
   "execution_count": null,
   "id": "a6ecfa84-bf3e-482e-82af-7f7094acde42",
   "metadata": {},
   "outputs": [],
   "source": [
    "unique_duples_to_edge_types = dict()\n",
    "for entry in data_edges.values():\n",
    "    s = entry[\"source type\"][0]\n",
    "    p = entry[\"relationship\"]\n",
    "    o = entry[\"target type\"][0]\n",
    "    duple = (s, o)\n",
    "    if duple not in unique_duples_to_edge_types:\n",
    "        unique_duples_to_edge_types[duple] = set()\n",
    "    unique_duples_to_edge_types[duple].add(p)"
   ]
  },
  {
   "cell_type": "code",
   "execution_count": null,
   "id": "8e949dd8-e5f8-46bf-b01e-c5280647e65d",
   "metadata": {},
   "outputs": [],
   "source": [
    "gs = ig.Graph(directed=True)\n",
    "unique_nodes = set()\n",
    "for (s, o), ps in unique_duples_to_edge_types.items():\n",
    "    for node in (s, o):\n",
    "        if node not in unique_nodes:\n",
    "            unique_nodes.add(node)\n",
    "\n",
    "            node_size = int(nt_counts[node])\n",
    "            node_color = node_type_to_color.get(node, '')\n",
    "            node_hover = f\"{node}\\n\\n{nt_counts[node]} nodes of this type are contained in the knowledge graph.\"\n",
    "            gs.add_vertex(node, size=node_size, color=node_color, label_color=node_color, hover=node_hover)\n",
    "\n",
    "    edge_size = len(ps)  # number of edge types represented by a single arrow\n",
    "    edge_color = node_type_to_color.get(s, '')\n",
    "    edge_type_list = ', '.join(f'\"{entry}\"' for entry in ps)\n",
    "    edge_hover = (\n",
    "        f\"{s} -> {o}\\n\\nThere are {len(ps)} different edge types between these two node types, \"\n",
    "        f\"represented here with just a single arrow to keep the depiction tidy.\\n\\nList of edge types:\\n{edge_type_list}\")\n",
    "    gs.add_edge(s, o, size=edge_size, color=edge_color, label_color=edge_color, hover=edge_hover)\n",
    "\n",
    "gs.vcount(), gs.ecount()"
   ]
  },
  {
   "cell_type": "code",
   "execution_count": null,
   "id": "e1dbb0fa-d5da-425b-9690-f8853ab00717",
   "metadata": {},
   "outputs": [],
   "source": [
    "fig = gv.d3(\n",
    "    gs,\n",
    "    show_node_label=True,\n",
    "    node_label_data_source=\"name\",\n",
    "\n",
    "    show_edge_label=False,\n",
    "    edge_curvature=0.1,\n",
    "\n",
    "    use_node_size_normalization=True,\n",
    "    node_size_normalization_min=10,\n",
    "    node_size_normalization_max=50,\n",
    "    node_drag_fix=True,\n",
    "    node_hover_neighborhood=True,\n",
    "    \n",
    "    use_edge_size_normalization=True,\n",
    "    edge_size_normalization_max=3,\n",
    "\n",
    "    many_body_force_strength=-3000,\n",
    "    zoom_factor=1.0,\n",
    ")\n",
    "fig"
   ]
  },
  {
   "cell_type": "code",
   "execution_count": null,
   "id": "7008ad9b-3327-4f47-a75f-2319394ce85c",
   "metadata": {},
   "outputs": [],
   "source": [
    "# Export the schema visualization to a standalone HTML file\n",
    "schema_filepath = os.path.join(results_dir, f\"{project_name}_schema.html\")\n",
    "fig.export_html(schema_filepath, overwrite=True)"
   ]
  },
  {
   "cell_type": "markdown",
   "id": "7611ed76-8f13-4c8a-abbb-5545b6bc7429",
   "metadata": {},
   "source": [
    "Interpretation:\n",
    "- Each node in the schema corresponds to one of the 10 node types in the data.\n",
    "  - *Node size* represents the number of instances, i.e. how often that node type is present in the knowledge graph. The exact number can also be seen when hovering over a node. The large differences indicate again that the dataset is rather unbalanced.\n",
    "  - *Node color* represents particular node types. The coloring scheme is based on a deliberately simple RGB palette with the same meaning across multiple notebooks to enable some visual comparison. The idea behind it is to highlight an interplay of certain entities, namely that drugs (or small molecules in general) can bind to proteins (or gene products in general) and thereby alter diseases (or involved pathways).\n",
    "    - *green* = drugs & other small molecules (e.g. toxins)\n",
    "    - *blue* = genes & gene products (e.g. proteins or RNAs)\n",
    "    - *red* = diseases & related concepts (e.g. pathways)\n",
    "    - *black* = all other types of entities\n",
    "- Each edge in the schema stands for an edge type in the data, but it is possible that the same edge type appears between different nodes. In this schema, however, a single edge represents multiple edge types because there are so many of them in HALD. Hovering over an arrow provides the number of edge types it represents and lists all of them.\n",
    "  - *Edge size* represents the number of instances, i.e. how often that edge type is present in the knowledge graph.\n",
    "  - *Edge color* is identical to the color of the source node, again to highlight the interplay between drugs, targets and diseases."
   ]
  },
  {
   "cell_type": "markdown",
   "id": "0da36832-2f52-458e-ad08-ecd46f8c3997",
   "metadata": {},
   "source": [
    "## 6. Knowledge graph reconstruction\n",
    "\n",
    "This section first converts the raw data to an intermediate format used in several notebooks, and then reconstructs the knowledge graph from the standardized data with shared code.\n",
    "- The intermediate form of the data is created as two simple Python lists, one for nodes and the other for edges, which can be exported to two CSV files.\n",
    "- The knowledge graph is built as a graph object from the Python package [igraph](https://igraph.org/python), which can be exported to a [GraphML](https://en.wikipedia.org/wiki/GraphML) file.\n",
    "\n",
    "### a) Convert the data into an standardized format\n",
    "\n",
    "Transform the raw data to an standardized format that is compatible with most biomedical knowledge graphs in order to enable shared downstream processing:\n",
    "- Each node is represented by three items: `id (str), type (str), properties (dict)`\n",
    "- Each edge is represented by four items: `source_id (str), target_id (str), type(str), properties (dict)`\n",
    "\n",
    "This format was initially inspired by a straightforward way in which the content of a Neo4j graph database can be exported to two CSV files, one for all nodes and the other for all edges. This is an effect of the [property graph model](https://neo4j.com/docs/getting-started/appendix/graphdb-concepts/) used in Neo4j and many other graph databases, which also appears to be general enough to fully capture the majority of biomedical knowledge graphs described in scientific literature, despite the large variety of formats they are shared in.\n",
    "\n",
    "A second motivation was that each line represents a single node or edge, and that no entry is connected to any sections at other locations, such as property descriptions at the beginning of a GraphML file. This structural simplicity makes it very easy to load just a subset of nodes and edges by picking a subset of lines, or to skip the loading of properties if they not required for a task simply by ignoring a single column.\n",
    "\n",
    "Finally, this format also allows to load the data directly into popular SQL databases like [SQLite](https://www.sqlite.org), [MySQL](https://www.mysql.com) or [PostgreSQL](https://www.postgresql.org/) with built-in CSV functions ([CSV in SQLite](https://www.sqlite.org/draft/cli.html#importing_files_as_csv_or_other_formats), [CSV in MySQL](https://dev.mysql.com/doc/refman/en/loading-tables.html), [CSV in PostgreSQL](https://www.postgresql.org/docs/current/sql-copy.html)). Further, the JSON string in the property column can be accessed directly by built-in JSON functions ([JSON in SQLite](https://www.sqlite.org/json1.html), [JSON in MySQL](https://dev.mysql.com/doc/refman/en/json-function-reference.html), [JSON in PostgreSQL](https://www.postgresql.org/docs/current/functions-json.html)), which enables sophisticated queries that access or modify specific properties within the JSON data.\n",
    "\n",
    "#### Nodes"
   ]
  },
  {
   "cell_type": "code",
   "execution_count": null,
   "id": "dcb502fc-7dec-42cc-ab09-050f5ed02109",
   "metadata": {},
   "outputs": [],
   "source": [
    "%%time\n",
    "\n",
    "nodes = []\n",
    "for entry in data_nodes.values():\n",
    "    entry = entry[0]\n",
    "    node_id = entry[\"entity\"]\n",
    "    node_type = entry[\"type\"]\n",
    "    node_properties = {k: v for k, v in entry.items()\n",
    "                       if k not in (\"entity\", \"type\")}\n",
    "    node = (node_id, node_type, node_properties)  # default format\n",
    "    nodes.append(node)"
   ]
  },
  {
   "cell_type": "markdown",
   "id": "fb56c858-7ef3-42db-ae45-84bbeb398957",
   "metadata": {},
   "source": [
    "#### Edges"
   ]
  },
  {
   "cell_type": "code",
   "execution_count": null,
   "id": "3036a6c2-7ace-4e69-b5d6-531b5079da35",
   "metadata": {},
   "outputs": [],
   "source": [
    "%%time\n",
    "\n",
    "edges = []\n",
    "for entry in data_edges.values():\n",
    "    source_id = entry[\"source entity\"]\n",
    "    target_id = entry[\"target entity\"]\n",
    "    edge_type = entry[\"relationship\"]\n",
    "    edge_properties = {k: v for k, v in entry.items()\n",
    "                       if k not in (\"source entity\", \"target entity\", \"relationship\")}\n",
    "    edge = (source_id, target_id, edge_type, edge_properties)  # default format\n",
    "    edges.append(edge)"
   ]
  },
  {
   "cell_type": "markdown",
   "id": "6e5eba30-4200-468f-a6da-65ddcbeae1c6",
   "metadata": {},
   "source": [
    "### b) Export the standardized data to two CSV files\n",
    "\n",
    "Both the `id` and `type` items are simple strings, while the `properties` item is collection of key-value pairs represented by a Python dictionary that can be converted to a single JSON string, which the export function does internally. This means each node is fully represented by three strings, and each edge by four strings due to having a source id and target id."
   ]
  },
  {
   "cell_type": "code",
   "execution_count": null,
   "id": "14713a57-ea89-40db-85dd-c9c0b59aaad5",
   "metadata": {},
   "outputs": [],
   "source": [
    "nodes_csv_filepath = shared_bmkg.export_nodes_as_csv(nodes, results_dir, project_name)"
   ]
  },
  {
   "cell_type": "code",
   "execution_count": null,
   "id": "ea833d47-cf09-4f84-bc80-8e422a07689b",
   "metadata": {},
   "outputs": [],
   "source": [
    "edges_csv_filepath = shared_bmkg.export_edges_as_csv(edges, results_dir, project_name)"
   ]
  },
  {
   "cell_type": "markdown",
   "id": "bc3bfcf9-567e-499f-88f6-6416db54c70a",
   "metadata": {},
   "source": [
    "### c) Use the standardized data to build a graph\n",
    "\n",
    "Reconstruct the knowledge graph in form of a [Graph object](https://igraph.org/python/doc/api/igraph.Graph.html) from the package [igraph](https://igraph.org/python). This kind of graph object allows to have directed multi-edges, i.e. an edge has a source and a target node, and two nodes can be connected by more than one edge. It also allows to have node and edge properties. These features are necessary and sufficient to represent almost any biomedical knowledge graph found in academic literature."
   ]
  },
  {
   "cell_type": "code",
   "execution_count": null,
   "id": "c7979e96-ddfc-45b1-9c8f-dc79f306454c",
   "metadata": {},
   "outputs": [],
   "source": [
    "%%time\n",
    "\n",
    "g = shared_bmkg.create_graph(nodes, edges)"
   ]
  },
  {
   "cell_type": "code",
   "execution_count": null,
   "id": "1ec24cf4-1954-436d-8077-281a379cc195",
   "metadata": {},
   "outputs": [],
   "source": [
    "shared_bmkg.report_graph_stats(g)"
   ]
  },
  {
   "cell_type": "code",
   "execution_count": null,
   "id": "1fb2202e-a601-475e-9af9-aef7f9c5da01",
   "metadata": {},
   "outputs": [],
   "source": [
    "# Correctness checks\n",
    "\n",
    "# 1) Does the reconstructed graph contain the same number of nodes as the raw data?\n",
    "num_nodes_in_graph = g.vcount()\n",
    "assert num_nodes_in_graph == num_nodes, f\"Node counts differ: {num_nodes_in_graph} != {num_nodes}\"\n",
    "print(f\"{num_nodes_in_graph:,} = {num_nodes:,}\")\n",
    "\n",
    "# 2) Does the reconstructed graph contain the same number of edges as the raw data?\n",
    "num_edges_in_graph = g.ecount()\n",
    "assert num_edges_in_graph == num_edges, f\"Edge counts differ: {num_edges_in_graph} != {num_edges}\"\n",
    "print(f\"{num_edges_in_graph:,} = {num_edges:,}\")"
   ]
  },
  {
   "cell_type": "markdown",
   "id": "6a1b8cd5-b489-43ec-b376-3946d961438e",
   "metadata": {},
   "source": [
    "### d) Export the graph to a GraphML file\n",
    "\n",
    "Export the graph with all nodes, edges and properties as a single [GraphML](https://en.wikipedia.org/wiki/GraphML) file."
   ]
  },
  {
   "cell_type": "code",
   "execution_count": null,
   "id": "42febf9e-c380-4757-925e-0bed15abf607",
   "metadata": {},
   "outputs": [],
   "source": [
    "%%time\n",
    "\n",
    "g_graphml_filepath = shared_bmkg.export_graph_as_graphml(g, results_dir, project_name)"
   ]
  },
  {
   "cell_type": "markdown",
   "id": "dc0b4ebd-049a-4d1a-8bfe-b404204bec39",
   "metadata": {},
   "source": [
    "## 7. Subgraph exploration\n",
    "\n",
    "This section explores small subgraphs of the knowledge graph in two ways: first by inspecting the direct neighborhood of a selected node, and second by finding shortest paths between two chosen nodes.\n",
    "\n",
    "As a simple case study, the goal is to identify some nodes in the knowledge graph that are associated with the success story of the drug Imatinib, which was one of the first [targeted therapies](https://en.wikipedia.org/wiki/Targeted_therapy) against cancer. Detailed background information can for example be found in an article by the [National Cancer Institute](https://www.cancer.gov/research/progress/discovery/gleevec) and in a [talk by Brian Druker](https://www.ibiology.org/human-disease/imatinib-paradigm-targeted-cancer-therapies) who played a major role in the development of this paradigm-changing drug. To give a simplified summary, following biological entities and relationships are involved:\n",
    "\n",
    "- Mutation: In a bone marrow stem cell, a translocation event between chromosome 9 and 22 leads to what has been called the [Philadelphia chromosome](https://en.wikipedia.org/wiki/Philadelphia_chromosome), which can be seen under a microscope and got named after the city it originally got discovered in.\n",
    "- Gene: It turned out that this particular rearrangement of DNA fuses the [BCR](https://en.wikipedia.org/wiki/BCR_(gene)) gene on chromosome 22 to the [ABL1](https://en.wikipedia.org/wiki/ABL_(gene)) gene on chromosome 9, resulting in a new fusion gene known as BCR-ABL1.\n",
    "- Disease: BCR-ABL1 acts as an oncogene, because it expresses a protein that is a defective [tyrosine kinase](https://en.wikipedia.org/wiki/Tyrosine_kinase) in a permanent \"on\" state, which leads to uncontrolled growth of certain white blood cells and their precursors, thereby driving the disease [Chronic Myelogenous Leukemia (CML)](https://en.wikipedia.org/wiki/Chronic_myelogenous_leukemia).\n",
    "- Drug: [Imatinib (Gleevec)](https://en.wikipedia.org/wiki/Imatinib) was the first demonstration that a potent and selective [Bcr-Abl tyrosine-kinase inhibitor (TKI)](https://en.wikipedia.org/wiki/Bcr-Abl_tyrosine-kinase_inhibitor) is possible and that such a targeted inhibition of an oncoprotein halts the uncontrolled growth of leukemia cells with BCR-ABL1, while having significantly less effect on other cells in the body compared to conventional chemotherapies used in cancer. This revolutionized the treatment of CML and drastically improved the five-year survival rate of patients from less than 20% to over 90%, as well as their quality of life.\n",
    "\n",
    "In reality the story is a bit more complex, for example because there are other genes involved in disease progression, there are many closely related forms of leukemia, BCR-ABL1 also plays a role in other forms of cancer, there are several drugs available as treatment options today, all of them bind to more than one target and with different affinities, and their individual binding profiles are relevant to their particular therapeutic effects. Inspecting the knowledge graph will focus on highlighting some entities of the simplified story, but the surrounding elements will also indicate some of the complexity encountered in reality. Some simple forms of reasoning on the knowledge graph will demonstrate its potential for discovering new patterns and hypotheses.\n",
    "\n",
    "### a) Search for interesting nodes"
   ]
  },
  {
   "cell_type": "code",
   "execution_count": null,
   "id": "1ec181d6-8261-4575-9fab-cc96856eb642",
   "metadata": {},
   "outputs": [],
   "source": [
    "# Drug: Imatinib - seems not to be contained in HALD\n",
    "shared_bmkg.list_nodes_matching_substring(g, \"imatinib\")"
   ]
  },
  {
   "cell_type": "code",
   "execution_count": null,
   "id": "7494c0b3-9370-423b-b679-0aa91548439d",
   "metadata": {},
   "outputs": [],
   "source": [
    "# Gene: ABL1\n",
    "shared_bmkg.list_nodes_matching_substring(g, \"abl1\")"
   ]
  },
  {
   "cell_type": "code",
   "execution_count": null,
   "id": "f79d06e5-5613-450d-9fac-8ae5a7232360",
   "metadata": {},
   "outputs": [],
   "source": [
    "# Disease: Leukemia - to find Chronic Myeloid Leukemia (CML)\n",
    "shared_bmkg.list_nodes_matching_substring(g, \"leukemia\")"
   ]
  },
  {
   "cell_type": "markdown",
   "id": "772f02b5-72a6-4aec-8643-b51a88c324b4",
   "metadata": {},
   "source": [
    "### b) Explore the neighborhood of a chosen node"
   ]
  },
  {
   "cell_type": "code",
   "execution_count": null,
   "id": "bfa67d4a-6e43-4be2-904c-58f618b89c96",
   "metadata": {},
   "outputs": [],
   "source": [
    "# Neighborhood of gene ABL1\n",
    "source = \"ABL1\"\n",
    "subgraph = shared_bmkg.get_egocentric_subgraph(g, source)\n",
    "\n",
    "# Export\n",
    "filename = f\"{project_name}_neighbors_abl1\"\n",
    "shared_bmkg.export_graph_as_graphml(subgraph, results_dir, filename)\n",
    "shared_bmkg.export_nodes_as_csv(nodes, results_dir, filename, subgraph)\n",
    "shared_bmkg.export_edges_as_csv(edges, results_dir, filename, subgraph)\n",
    "\n",
    "# Report\n",
    "shared_bmkg.report_graph_stats(subgraph)\n",
    "shared_bmkg.visualize_graph(subgraph, node_type_to_color, source)"
   ]
  },
  {
   "cell_type": "code",
   "execution_count": null,
   "id": "8938fb1a-c288-44f9-bf40-10d22dbc2d7d",
   "metadata": {},
   "outputs": [],
   "source": [
    "# Neighborhood of disease CML\n",
    "source = \"Leukemia, Myelogenous, Chronic, BCR-ABL Positive\"\n",
    "subgraph = shared_bmkg.get_egocentric_subgraph(g, source)\n",
    "\n",
    "# Export\n",
    "filename = f\"{project_name}_neighbors_cml\"\n",
    "shared_bmkg.export_graph_as_graphml(subgraph, results_dir, filename)\n",
    "shared_bmkg.export_nodes_as_csv(nodes, results_dir, filename, subgraph)\n",
    "shared_bmkg.export_edges_as_csv(edges, results_dir, filename, subgraph)\n",
    "\n",
    "# Report\n",
    "shared_bmkg.report_graph_stats(subgraph)\n",
    "subgraph = subgraph.simplify()  # Reduced subgraph without multi-edges in order to enable better visualization\n",
    "shared_bmkg.visualize_graph(subgraph, node_type_to_color, source)"
   ]
  },
  {
   "cell_type": "markdown",
   "id": "8c8a4cdb-df0d-436b-bba2-ee7518591bc9",
   "metadata": {},
   "source": [
    "Interpretation:\n",
    "- Disease-Disease relations: The disease CML (red node in the center) is linked to many other hematological diseases such as Anemia and cancers such as AML or Multiple Myeloma.\n",
    "- Disease-Gene relations: The disease CML is linked to the gene ABL1 (a blue node), which was expected from the Imatinib story. It is also connected to the gene SIRT7 (the other blue node), which is a bit more informative. A [publication](https://journals.physiology.org/doi/full/10.1152/physrev.00044.2022#B30) indicates that this gene has a connection to aging, hence it appears in HALD, but also that there's indeed a connection to CML and AML, described as \"reduced SIRT7 expression is associated with hematopoietic disorders like acute myeloid leukemia (AML) and chronic myeloid leukemia (CML)\"."
   ]
  },
  {
   "cell_type": "code",
   "execution_count": null,
   "id": "562b4470-94a5-42d0-9212-7826884d0ee7",
   "metadata": {},
   "outputs": [],
   "source": [
    "# Neighborhood of disease CMML - to show a small example with multi-edges\n",
    "source = \"Leukemia, Myelomonocytic, Chronic\"\n",
    "subgraph = shared_bmkg.get_egocentric_subgraph(g, source)\n",
    "\n",
    "# Report\n",
    "shared_bmkg.report_graph_stats(subgraph)\n",
    "shared_bmkg.visualize_graph(subgraph, node_type_to_color, source)"
   ]
  },
  {
   "cell_type": "markdown",
   "id": "aa4496c7-2624-4282-9b24-72679b1df440",
   "metadata": {},
   "source": [
    "Interpretation:\n",
    "- The disease Chronic Myelomonocytic Leukemia (red node in the center) is abbreviated CMML and not identical to CML, but yet another form of leukemia, which is less well represented in HALD.\n",
    "- Since there's not that much information about this disease in HALD, it is possible to visualize its entire neighborhood, including all individual edges, thereby illustrating that the same pair of nodes can be connected by multiple edges of different types. This comes from the fact that HALD analyses scientific texts to recognize entities and to identify verbs between them. These connective words are then used as edge types, which explains why there's a large number of them in the knowledge graph and why two nodes often have a lot of edges between them. Hovering over any edge in this visualization shows its type, e.g. \"include\" or \"associated\" are present several times."
   ]
  },
  {
   "cell_type": "markdown",
   "id": "7aec3e57-5319-4d89-b066-fca533fcfc0c",
   "metadata": {},
   "source": [
    "### c) Find shortest paths between two chosen nodes"
   ]
  },
  {
   "cell_type": "code",
   "execution_count": null,
   "id": "0ea09184-8b60-4f79-aeb5-0e19bccb39aa",
   "metadata": {},
   "outputs": [],
   "source": [
    "# Paths from gene TET2 to disease CML\n",
    "source = \"TET2\"\n",
    "target = \"Leukemia, Myelogenous, Chronic, BCR-ABL Positive\"\n",
    "subgraph = shared_bmkg.get_paths_subgraph(g, source, target)\n",
    "\n",
    "# Report\n",
    "shared_bmkg.report_graph_stats(subgraph)\n",
    "shared_bmkg.visualize_graph(subgraph, node_type_to_color, source, target)"
   ]
  },
  {
   "cell_type": "markdown",
   "id": "fc21688b-49f8-4f85-b3ec-828707d4233f",
   "metadata": {},
   "source": [
    "Interpretation:\n",
    "- The gene TET2 is involved with myeloproliferative diseases and neoplasms, which in turn are linked to CML.\n",
    "- CML is a concrete example of both of these more general categories of diseases. Therefore this subgraph doesn't necessarily suggest that TET2 has something to do with CML, because TET2 might as well be of relevance only to certain other diseases that also fit to the general notion of a neoplasm. However, one can indeed find studies such as this [publication](https://doi.org/10.4084%2FMJHID.2020.004), which suggests there is indeed a link between TET2 and CML that could be further investigated."
   ]
  },
  {
   "cell_type": "code",
   "execution_count": null,
   "id": "f60e6ef9-c3f1-48c9-bf20-8654990a43de",
   "metadata": {},
   "outputs": [],
   "source": [
    "# Paths from Von Willebrand factor (VWF) to Alzheimer disease - to show an example with more paths\n",
    "source = \"VWF\"\n",
    "target = \"Alzheimer Disease\"\n",
    "subgraph = shared_bmkg.get_paths_subgraph(g, source, target)\n",
    "\n",
    "# Report\n",
    "shared_bmkg.report_graph_stats(subgraph)\n",
    "shared_bmkg.visualize_graph(subgraph, node_type_to_color, source, target)"
   ]
  },
  {
   "cell_type": "markdown",
   "id": "1b903b74-8b39-43bc-aef0-ac5fabd60112",
   "metadata": {},
   "source": [
    "Interpretation:\n",
    "- These two nodes were initially selected only because the subgraph is of a reasonably interesting size, but it turned out there's an unfolding story to it.\n",
    "- The gene VWF ([Von Willebrand factor](https://en.wikipedia.org/wiki/Von_Willebrand_factor), involved in hemostasis) is connected to vasculatory and other diseases, which in turn are connected to Alzheimer Disease.\n",
    "- The indirect relation by various paths could be taken to form the hypothesis that VWF might play a role in Alzheimer Disease. There are indeed studies investigating the possibility of such a link, and for example this [publication](https://www.neurology.org/doi/10.1212/WNL.86.16_supplement.P1.092) actually finds that \"Higher levels of Von Willebrand factor are associated with an increased risk of dementia, including Alzheimer’s disease, possibly due to direct prothrombotic effects or secondary to endothelial injury.\"\n",
    "- This toy example shows the potential of reasoning on knowledge graphs. Here the presence of 1) many indirect links via 2) thematically similar nodes suggested there could be a relevant connection between two nodes that is not yet part of the knowledge graph, and a look at literature showed this might actually be the case. In network theory, the task of [link prediction](https://en.wikipedia.org/wiki/Link_prediction) captures this idea as the identification of \"unobserved true links\"."
   ]
  },
  {
   "cell_type": "markdown",
   "id": "9c79d0c0-6228-4310-80e5-754ac2272c98",
   "metadata": {},
   "source": [
    "## Appendix: Loading and querying the converted data with SQLite\n",
    "\n",
    "This section demonstrates that the converted data in the intermediary CSV format allows to directly load and query it with a popular SQL database."
   ]
  },
  {
   "cell_type": "markdown",
   "id": "27d90bb2-cb31-4182-95b5-513dac77a4d8",
   "metadata": {},
   "source": [
    "### a) Create an SQLite database with a suitable schema"
   ]
  },
  {
   "cell_type": "markdown",
   "id": "d5066da8-5de2-4549-841d-501c4d7ff107",
   "metadata": {},
   "source": [
    "Create a file-based SQLite database"
   ]
  },
  {
   "cell_type": "code",
   "execution_count": null,
   "id": "64a278e3-294e-48de-8fd8-191df32e71be",
   "metadata": {},
   "outputs": [],
   "source": [
    "sqlite_db_filepath = os.path.join(results_dir, f\"{project_name}_graph.sqlite\")\n",
    "\n",
    "shared_bmkg.delete_file(sqlite_db_filepath)"
   ]
  },
  {
   "cell_type": "markdown",
   "id": "3661d2c8-1777-4634-bc37-d2cd44e557e8",
   "metadata": {},
   "source": [
    "Create a table for node data"
   ]
  },
  {
   "cell_type": "code",
   "execution_count": null,
   "id": "f33b9239-586c-4468-a13f-2380975fbc0b",
   "metadata": {},
   "outputs": [],
   "source": [
    "sql_cmd = \"\"\"\n",
    "CREATE TABLE nodes (\n",
    "  id TEXT PRIMARY KEY,\n",
    "  type TEXT,\n",
    "  properties TEXT\n",
    ");\n",
    "\"\"\"\n",
    "\n",
    "shared_bmkg.run_shell_command(['sqlite3', sqlite_db_filepath, sql_cmd])"
   ]
  },
  {
   "cell_type": "markdown",
   "id": "17c48f8f-bb47-4de8-8b88-2dbd20014969",
   "metadata": {},
   "source": [
    "Create a table for edge data"
   ]
  },
  {
   "cell_type": "code",
   "execution_count": null,
   "id": "b22d0afe-ff51-4530-8e9e-0c8178da6758",
   "metadata": {},
   "outputs": [],
   "source": [
    "sql_cmd = \"\"\"\n",
    "CREATE TABLE edges (\n",
    "  source_id TEXT,\n",
    "  target_id TEXT,\n",
    "  type TEXT,\n",
    "  properties TEXT,\n",
    "  FOREIGN KEY (source_id) REFERENCES nodes(id),\n",
    "  FOREIGN KEY (target_id) REFERENCES nodes(id)\n",
    ");\n",
    "\"\"\"\n",
    "\n",
    "shared_bmkg.run_shell_command(['sqlite3', sqlite_db_filepath, sql_cmd])"
   ]
  },
  {
   "cell_type": "markdown",
   "id": "1a8e9731-2347-4780-a36c-8e201b4bab75",
   "metadata": {},
   "source": [
    "### b) Load the CSV data\n",
    "\n",
    "The \"[.import](https://sqlite.org/cli.html)\" command of SQLite can be used to load the content of a CSV file directly. It is available in the CLI but not part of the Python bindings, therefore shell commands have to be used here."
   ]
  },
  {
   "cell_type": "markdown",
   "id": "093bb7aa-5c44-49cc-a953-6c7a3a9bf5eb",
   "metadata": {},
   "source": [
    "Load node data"
   ]
  },
  {
   "cell_type": "code",
   "execution_count": null,
   "id": "818890c6-57ee-4ed2-9201-e424bef8510d",
   "metadata": {},
   "outputs": [],
   "source": [
    "sqlite_cmd = f\".import --csv --skip 1 {nodes_csv_filepath} nodes\"\n",
    "\n",
    "shared_bmkg.run_shell_command(['sqlite3', sqlite_db_filepath, '-cmd', sqlite_cmd])"
   ]
  },
  {
   "cell_type": "markdown",
   "id": "d7381b76-e79d-4fbb-9b1f-8ca26b9e88af",
   "metadata": {},
   "source": [
    "Load edge data"
   ]
  },
  {
   "cell_type": "code",
   "execution_count": null,
   "id": "d518e390-9e25-449b-aa3b-ade0fba2e916",
   "metadata": {},
   "outputs": [],
   "source": [
    "sqlite_cmd = f\".import --csv --skip 1 {edges_csv_filepath} edges\"\n",
    "\n",
    "shared_bmkg.run_shell_command(['sqlite3', sqlite_db_filepath, '-cmd', sqlite_cmd])"
   ]
  },
  {
   "cell_type": "markdown",
   "id": "9057545a-1296-4ead-b6a5-538480eb17b6",
   "metadata": {},
   "source": [
    "### c) Query the data"
   ]
  },
  {
   "cell_type": "code",
   "execution_count": null,
   "id": "50d55554-850b-4d60-ac30-cac3e22b24e2",
   "metadata": {},
   "outputs": [],
   "source": [
    "import sqlite3\n",
    "\n",
    "conn = sqlite3.connect(sqlite_db_filepath)\n",
    "cursor = conn.cursor()"
   ]
  },
  {
   "cell_type": "markdown",
   "id": "d6f68863-b6a5-451b-a480-a83382e59697",
   "metadata": {},
   "source": [
    "#### Standard SQL query\n",
    "\n",
    "Find all nodes that contain a certain substring in their id"
   ]
  },
  {
   "cell_type": "code",
   "execution_count": null,
   "id": "64582a9a-3fc2-43ce-a615-520b44a6f541",
   "metadata": {},
   "outputs": [],
   "source": [
    "substring = \"leukemia\"\n",
    "\n",
    "query = \"\"\"\n",
    "SELECT id, type\n",
    "FROM nodes\n",
    "WHERE LOWER(id) LIKE LOWER(?)\n",
    "ORDER BY id;\n",
    "\"\"\"\n",
    "search_term = f\"%{substring}%\"\n",
    "cursor.execute(query, (search_term,))\n",
    "result = cursor.fetchall()\n",
    "for row in result:\n",
    "    print(row)"
   ]
  },
  {
   "cell_type": "markdown",
   "id": "337fb536-913a-4ba5-9cd1-e8dbe3e72270",
   "metadata": {},
   "source": [
    "#### Non-standard SQL query using JSON support of SQLite\n",
    "\n",
    "Find all nodes that contain a certain substring in the value of a particular key in their JSON object. This can be done with the function [json_extract in SQLite](https://www.sqlite.org/json1.html#jex), but also with the more broadly supported `->` operator available as [-> in SQLite](https://www.sqlite.org/json1.html#jptr), [-> in MySQL](https://dev.mysql.com/doc/refman/en/json-search-functions.html#operator_json-column-path) and [-> in PostreSQL](https://www.postgresql.org/docs/current/functions-json.html#FUNCTIONS-JSON-PROCESSING)."
   ]
  },
  {
   "cell_type": "code",
   "execution_count": null,
   "id": "057b03e0-639f-4d49-8d87-54dc58529b61",
   "metadata": {},
   "outputs": [],
   "source": [
    "%%time\n",
    "\n",
    "key = \"official full name\"\n",
    "substring = \"myeloid\"\n",
    "\n",
    "query = f\"\"\"\n",
    "SELECT id, type, json_extract(properties, '$.\"{key}\"') AS official_full_name\n",
    "FROM nodes\n",
    "WHERE LOWER(official_full_name) LIKE LOWER(?)\n",
    "ORDER BY id;\n",
    "\"\"\"\n",
    "search_term = f'%{substring}%'\n",
    "cursor.execute(query, (search_term,))\n",
    "result = cursor.fetchall()\n",
    "\n",
    "print(f'Nodes with the substring \"{substring}\" in the value of the key \"official full name\" in the JSON data')\n",
    "for row in result:\n",
    "    print(row)"
   ]
  },
  {
   "cell_type": "code",
   "execution_count": null,
   "id": "0dae2ed5-96c3-41de-9b89-bab9f58afec1",
   "metadata": {},
   "outputs": [],
   "source": [
    "%%time\n",
    "\n",
    "key = \"official full name\"\n",
    "substring = \"myeloid\"\n",
    "\n",
    "query = f\"\"\"\n",
    "SELECT id, type, properties -> '$.\"{key}\"' AS official_full_name\n",
    "FROM nodes\n",
    "WHERE LOWER(official_full_name) LIKE LOWER(?)\n",
    "ORDER BY id;\n",
    "\"\"\"\n",
    "search_term = f'%{substring}%'\n",
    "cursor.execute(query, (search_term,))\n",
    "result = cursor.fetchall()\n",
    "\n",
    "print(f'Nodes with the substring \"{substring}\" in the value of the key \"official full name\" in the JSON data')\n",
    "for row in result:\n",
    "    print(row)"
   ]
  }
 ],
 "metadata": {
  "kernelspec": {
   "display_name": "Python 3 (ipykernel)",
   "language": "python",
   "name": "python3"
  },
  "language_info": {
   "codemirror_mode": {
    "name": "ipython",
    "version": 3
   },
   "file_extension": ".py",
   "mimetype": "text/x-python",
   "name": "python",
   "nbconvert_exporter": "python",
   "pygments_lexer": "ipython3",
   "version": "3.12.4"
  }
 },
 "nbformat": 4,
 "nbformat_minor": 5
}
